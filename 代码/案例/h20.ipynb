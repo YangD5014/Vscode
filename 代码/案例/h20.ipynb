{
 "cells": [
  {
   "cell_type": "code",
   "execution_count": 1,
   "metadata": {},
   "outputs": [
    {
     "name": "stderr",
     "output_type": "stream",
     "text": [
      "/tmp/ipykernel_1706/1528283346.py:17: NatureDeprecationWarning: The qiskit_nature.algorithms.excited_state_solvers package is deprecated as of version 0.5.0 and will be removed no sooner than 3 months after the release. Instead use the qiskit_nature.second_q.algorithms.excited_state_solvers package.\n",
      "  from qiskit_nature.algorithms.ground_state_solvers.minimum_eigensolver_factories import NumPyMinimumEigensolverFactory\n",
      "/tmp/ipykernel_1706/1528283346.py:17: NatureDeprecationWarning: The qiskit_nature.algorithms.pes_sampler package is deprecated as of version 0.5.0 and will be removed no sooner than 3 months after the release . Please refer to 'https://github.com/Qiskit/qiskit-nature/issues/750' for additional information regarding 'extrapolators'.\n",
      "  from qiskit_nature.algorithms.ground_state_solvers.minimum_eigensolver_factories import NumPyMinimumEigensolverFactory\n"
     ]
    }
   ],
   "source": [
    "#from Adapt import AdaptVQE_Y\n",
    "\n",
    "from qiskit_nature.drivers import Molecule\n",
    "from qiskit_nature.drivers.second_quantization import ElectronicStructureMoleculeDriver, ElectronicStructureDriverType\n",
    "from qiskit_nature.mappers.second_quantization import ParityMapper, BravyiKitaevMapper, JordanWignerMapper\n",
    "from qiskit_nature.converters.second_quantization import QubitConverter\n",
    "from qiskit_nature.problems.second_quantization.electronic import ElectronicStructureProblem\n",
    "from qiskit_nature.transformers.second_quantization.electronic import ActiveSpaceTransformer\n",
    "import warnings\n",
    "from qiskit_nature.circuit.library import HartreeFock,UCCSD\n",
    "from qiskit import Aer\n",
    "from qiskit.algorithms.optimizers import COBYLA, L_BFGS_B, SPSA, SLSQP\n",
    "\n",
    "from qiskit.algorithms.minimum_eigensolvers import VQE\n",
    "from qiskit.primitives import Estimator\n",
    "\n",
    "from qiskit_nature.algorithms.ground_state_solvers.minimum_eigensolver_factories import NumPyMinimumEigensolverFactory\n",
    "from qiskit_nature.algorithms.ground_state_solvers.minimum_eigensolver_factories import NumPyMinimumEigensolverFactory\n",
    "from qiskit_nature.algorithms.ground_state_solvers import GroundStateEigensolver\n",
    "from qiskit_nature.second_q.drivers import PySCFDriver\n",
    "from qiskit.algorithms.minimum_eigensolvers import AdaptVQE\n",
    "\n",
    "from qiskit_nature.settings import QiskitNatureSettings\n",
    "QiskitNatureSettings.dict_aux_operators = True\n",
    "\n",
    "import numpy as np \n",
    "warnings.filterwarnings(\"ignore\")"
   ]
  },
  {
   "cell_type": "code",
   "execution_count": 40,
   "metadata": {},
   "outputs": [
    {
     "name": "stdout",
     "output_type": "stream",
     "text": [
      "水分子 近似活跃空间优化后：\n",
      "轨道数目：4\n",
      "粒子数目(1, 1)\n",
      "\n"
     ]
    }
   ],
   "source": [
    "molecule = Molecule(\n",
    "    # coordinates are given in Angstrom\n",
    "    geometry=[\n",
    "        [\"O\", [0.0, 0.0, 0.0]],\n",
    "        [\"H\", [0.758602, 0.0, 0.504284]],\n",
    "        [\"H\", [0.758602, 0.0, -0.504284]]\n",
    "    ],\n",
    "    multiplicity=1,  # = 2*spin + 1\n",
    "    charge=0,\n",
    ")\n",
    "\n",
    "driver = ElectronicStructureMoleculeDriver(\n",
    "    molecule=molecule,\n",
    "    basis=\"sto3g\",\n",
    "    driver_type=ElectronicStructureDriverType.PYSCF,\n",
    ")\n",
    "\n",
    "#driver = PySCFDriver(atom=\"O 0 0 0;H 0.758602 0 0.504284;H 0.758602 0 -0.504284\",basis=\"sto-3g\")\n",
    "\n",
    "properties = driver.run()\n",
    "converter = QubitConverter(JordanWignerMapper())\n",
    "#PN_property = properties.get_property(\"ParticleNumber\")\n",
    "#print(PN_property)\n",
    "\n",
    "# Define the active space around the Fermi level \n",
    "# (selected automatically around the HOMO and LUMO, ordered by energy)\n",
    "transformer = ActiveSpaceTransformer(\n",
    "    num_electrons=2, #how many electrons we have in our active space\n",
    "    num_molecular_orbitals=2, #how many orbitals we have in our active space\n",
    ")\n",
    "\n",
    "problem = ElectronicStructureProblem(driver, [transformer])\n",
    "second_q_ops = problem.second_q_ops()  # Get 2nd Quant OP\n",
    "num_spin_orbitals = problem.num_spin_orbitals\n",
    "num_particles = problem.num_particles\n",
    "init_state = HartreeFock(num_spin_orbitals, num_particles, converter)\n",
    "print('水分子 近似活跃空间优化后：\\n轨道数目：{a}\\n粒子数目{b}\\n'.format(a=num_spin_orbitals,b=num_particles))"
   ]
  },
  {
   "cell_type": "code",
   "execution_count": 57,
   "metadata": {},
   "outputs": [
    {
     "data": {
      "text/plain": [
       "'sd'"
      ]
     },
     "execution_count": 57,
     "metadata": {},
     "output_type": "execute_result"
    }
   ],
   "source": [
    "ansatz =UCCSD(num_spin_orbitals=num_spin_orbitals,num_particles=num_particles,qubit_converter=converter,initial_state=init_state)\n",
    "ansatz.excitation_list  #[((0,), (1,)), ((2,), (3,)), ((0, 2), (1, 3))]\n",
    "ansatz.excitations #'sd'"
   ]
  },
  {
   "cell_type": "markdown",
   "metadata": {},
   "source": [
    "### Excitation generator utilities"
   ]
  },
  {
   "cell_type": "code",
   "execution_count": 53,
   "metadata": {},
   "outputs": [
    {
     "name": "stdout",
     "output_type": "stream",
     "text": [
      "num_spin_orbitals=4 num_particles=(1, 1)\n"
     ]
    }
   ],
   "source": [
    "from qiskit_nature.second_q.circuit.library.ansatzes.utils import generate_fermionic_excitations\n",
    "print('num_spin_orbitals={0} num_particles={1}'.format(num_spin_orbitals,num_particles))\n",
    "ex_op1 = generate_fermionic_excitations(num_excitations=1, num_spatial_orbitals=4, num_particles=num_particles)\n",
    "ex_op2 = generate_fermionic_excitations(num_excitations=2, num_spatial_orbitals=4, num_particles=num_particles)"
   ]
  },
  {
   "cell_type": "code",
   "execution_count": 55,
   "metadata": {},
   "outputs": [
    {
     "data": {
      "text/plain": [
       "[((0, 4), (1, 5)),\n",
       " ((0, 4), (1, 6)),\n",
       " ((0, 4), (1, 7)),\n",
       " ((0, 4), (2, 5)),\n",
       " ((0, 4), (2, 6)),\n",
       " ((0, 4), (2, 7)),\n",
       " ((0, 4), (3, 5)),\n",
       " ((0, 4), (3, 6)),\n",
       " ((0, 4), (3, 7))]"
      ]
     },
     "execution_count": 55,
     "metadata": {},
     "output_type": "execute_result"
    }
   ],
   "source": [
    "ex_op2"
   ]
  },
  {
   "cell_type": "code",
   "execution_count": 56,
   "metadata": {},
   "outputs": [
    {
     "data": {
      "text/plain": [
       "[((0,), (1,)),\n",
       " ((0,), (2,)),\n",
       " ((0,), (3,)),\n",
       " ((4,), (5,)),\n",
       " ((4,), (6,)),\n",
       " ((4,), (7,))]"
      ]
     },
     "execution_count": 56,
     "metadata": {},
     "output_type": "execute_result"
    }
   ],
   "source": [
    "ex_op1"
   ]
  },
  {
   "cell_type": "code",
   "execution_count": 49,
   "metadata": {},
   "outputs": [
    {
     "data": {
      "image/png": "[encoded data removed]",
      "text/plain": [
       "<Figure size 203.885x367.889 with 1 Axes>"
      ]
     },
     "execution_count": 49,
     "metadata": {},
     "output_type": "execute_result"
    }
   ],
   "source": [
    "init_state.draw('mpl')"
   ]
  },
  {
   "cell_type": "code",
   "execution_count": null,
   "metadata": {},
   "outputs": [],
   "source": []
  },
  {
   "cell_type": "code",
   "execution_count": 60,
   "metadata": {},
   "outputs": [],
   "source": [
    "from qiskit_nature.second_q.operators import FermionicOp \n",
    "operators = []\n",
    "excitations = ex_op1\n",
    "\n",
    "for exc in excitations:\n",
    "    label = []\n",
    "    for occ in exc[0]:\n",
    "        label.append(f\"+_{occ}\")\n",
    "    for unocc in exc[1]:\n",
    "        label.append(f\"-_{unocc}\")\n",
    "    op = FermionicOp({\" \".join(label): 1}, num_spin_orbitals=8)\n",
    "    op -= op.adjoint()\n",
    "            # we need to account for an additional imaginary phase in the exponent (see also\n",
    "            # `PauliTrotterEvolution.convert`)\n",
    "    op *= 1j  # type: ignore\n",
    "    operators.append(op)"
   ]
  },
  {
   "cell_type": "code",
   "execution_count": 61,
   "metadata": {},
   "outputs": [
    {
     "data": {
      "text/plain": [
       "[FermionicOp({'+_0 -_1': 1j, '+_1 -_0': (-0-1j)}, num_spin_orbitals=8, ),\n",
       " FermionicOp({'+_0 -_2': 1j, '+_2 -_0': (-0-1j)}, num_spin_orbitals=8, ),\n",
       " FermionicOp({'+_0 -_3': 1j, '+_3 -_0': (-0-1j)}, num_spin_orbitals=8, ),\n",
       " FermionicOp({'+_4 -_5': 1j, '+_5 -_4': (-0-1j)}, num_spin_orbitals=8, ),\n",
       " FermionicOp({'+_4 -_6': 1j, '+_6 -_4': (-0-1j)}, num_spin_orbitals=8, ),\n",
       " FermionicOp({'+_4 -_7': 1j, '+_7 -_4': (-0-1j)}, num_spin_orbitals=8, )]"
      ]
     },
     "execution_count": 61,
     "metadata": {},
     "output_type": "execute_result"
    }
   ],
   "source": [
    "operators"
   ]
  },
  {
   "cell_type": "code",
   "execution_count": 63,
   "metadata": {},
   "outputs": [
    {
     "ename": "AttributeError",
     "evalue": "'list' object has no attribute 'register_length'",
     "output_type": "error",
     "traceback": [
      "\u001b[0;31m---------------------------------------------------------------------------\u001b[0m",
      "\u001b[0;31mAttributeError\u001b[0m                            Traceback (most recent call last)",
      "\u001b[1;32m/home/yangjianfei/代码/案例/h20.ipynb Cell 12\u001b[0m in \u001b[0;36m<cell line: 1>\u001b[0;34m()\u001b[0m\n\u001b[0;32m----> <a href='vscode-notebook-cell://wsl%2Bubuntu/home/yangjianfei/%E4%BB%A3%E7%A0%81/%E6%A1%88%E4%BE%8B/h20.ipynb#X20sdnNjb2RlLXJlbW90ZQ%3D%3D?line=0'>1</a>\u001b[0m op_se \u001b[39m=\u001b[39m converter\u001b[39m.\u001b[39;49mconvert(operators)\n",
      "File \u001b[0;32m~/miniconda3/envs/QISKIT_WSL2/lib/python3.10/site-packages/qiskit_nature/converters/second_quantization/qubit_converter.py:179\u001b[0m, in \u001b[0;36mQubitConverter.convert\u001b[0;34m(self, second_q_op, num_particles, sector_locator)\u001b[0m\n\u001b[1;32m    153\u001b[0m \u001b[39mdef\u001b[39;00m \u001b[39mconvert\u001b[39m(\n\u001b[1;32m    154\u001b[0m     \u001b[39mself\u001b[39m,\n\u001b[1;32m    155\u001b[0m     second_q_op: SecondQuantizedOp,\n\u001b[0;32m   (...)\u001b[0m\n\u001b[1;32m    159\u001b[0m     ] \u001b[39m=\u001b[39m \u001b[39mNone\u001b[39;00m,\n\u001b[1;32m    160\u001b[0m ) \u001b[39m-\u001b[39m\u001b[39m>\u001b[39m PauliSumOp:\n\u001b[1;32m    161\u001b[0m     \u001b[39m\"\"\"\u001b[39;00m\n\u001b[1;32m    162\u001b[0m \u001b[39m    Map the given second quantized operator to a qubit operators. Also it will\u001b[39;00m\n\u001b[1;32m    163\u001b[0m \u001b[39m    carry out z2 symmetry reduction on the qubit operators if z2symmetry_reduction has\u001b[39;00m\n\u001b[0;32m   (...)\u001b[0m\n\u001b[1;32m    177\u001b[0m \u001b[39m        PauliSumOp qubit operator\u001b[39;00m\n\u001b[1;32m    178\u001b[0m \u001b[39m    \"\"\"\u001b[39;00m\n\u001b[0;32m--> 179\u001b[0m     qubit_op \u001b[39m=\u001b[39m \u001b[39mself\u001b[39;49m\u001b[39m.\u001b[39;49m_map(second_q_op)\n\u001b[1;32m    180\u001b[0m     reduced_op \u001b[39m=\u001b[39m \u001b[39mself\u001b[39m\u001b[39m.\u001b[39m_two_qubit_reduce(qubit_op, num_particles)\n\u001b[1;32m    181\u001b[0m     tapered_op, z2symmetries \u001b[39m=\u001b[39m \u001b[39mself\u001b[39m\u001b[39m.\u001b[39m_find_taper_op(reduced_op, sector_locator)\n",
      "File \u001b[0;32m~/miniconda3/envs/QISKIT_WSL2/lib/python3.10/site-packages/qiskit_nature/converters/second_quantization/qubit_converter.py:341\u001b[0m, in \u001b[0;36mQubitConverter._map\u001b[0;34m(self, second_q_op)\u001b[0m\n\u001b[1;32m    340\u001b[0m \u001b[39mdef\u001b[39;00m \u001b[39m_map\u001b[39m(\u001b[39mself\u001b[39m, second_q_op: SecondQuantizedOp) \u001b[39m-\u001b[39m\u001b[39m>\u001b[39m PauliSumOp:\n\u001b[0;32m--> 341\u001b[0m     \u001b[39mreturn\u001b[39;00m \u001b[39mself\u001b[39;49m\u001b[39m.\u001b[39;49m_mapper\u001b[39m.\u001b[39;49mmap(second_q_op)\n",
      "File \u001b[0;32m~/miniconda3/envs/QISKIT_WSL2/lib/python3.10/site-packages/qiskit_nature/mappers/second_quantization/jordan_wigner_mapper.py:34\u001b[0m, in \u001b[0;36mJordanWignerMapper.map\u001b[0;34m(self, second_q_op)\u001b[0m\n\u001b[1;32m     31\u001b[0m \u001b[39mdef\u001b[39;00m \u001b[39mmap\u001b[39m(\u001b[39mself\u001b[39m, second_q_op: FermionicOp) \u001b[39m-\u001b[39m\u001b[39m>\u001b[39m PauliSumOp:\n\u001b[1;32m     32\u001b[0m \n\u001b[1;32m     33\u001b[0m     \u001b[39m# number of modes/sites for the Jordan-Wigner transform (= number of fermionic modes)\u001b[39;00m\n\u001b[0;32m---> 34\u001b[0m     nmodes \u001b[39m=\u001b[39m second_q_op\u001b[39m.\u001b[39;49mregister_length\n\u001b[1;32m     36\u001b[0m     pauli_table \u001b[39m=\u001b[39m []\n\u001b[1;32m     37\u001b[0m     \u001b[39mfor\u001b[39;00m i \u001b[39min\u001b[39;00m \u001b[39mrange\u001b[39m(nmodes):\n",
      "\u001b[0;31mAttributeError\u001b[0m: 'list' object has no attribute 'register_length'"
     ]
    }
   ],
   "source": [
    "op_se = converter.convert(operators)"
   ]
  },
  {
   "cell_type": "code",
   "execution_count": null,
   "metadata": {},
   "outputs": [],
   "source": []
  }
 ],
 "metadata": {
  "kernelspec": {
   "display_name": "Python 3.10.6 ('QISKIT_WSL2': conda)",
   "language": "python",
   "name": "python3"
  },
  "language_info": {
   "codemirror_mode": {
    "name": "ipython",
    "version": 3
   },
   "file_extension": ".py",
   "mimetype": "text/x-python",
   "name": "python",
   "nbconvert_exporter": "python",
   "pygments_lexer": "ipython3",
   "version": "3.10.6"
  },
  "orig_nbformat": 4,
  "vscode": {
   "interpreter": {
    "hash": "54e28563ef8f1dd6dc056397af37857e89f17a7fb558808f10e4042dc705258e"
   }
  }
 },
 "nbformat": 4,
 "nbformat_minor": 2
}
