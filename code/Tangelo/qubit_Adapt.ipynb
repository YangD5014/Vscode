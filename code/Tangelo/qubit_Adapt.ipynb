{
 "cells": [
  {
   "cell_type": "code",
   "execution_count": 1,
   "metadata": {},
   "outputs": [],
   "source": [
    "import tangelo\n",
    "from tangelo import SecondQuantizedMolecule\n",
    "from tangelo.algorithms import ADAPTSolver,FCISolver\n",
    "import matplotlib.pyplot as plt\n",
    "import numpy as np\n",
    "from tangelo import SecondQuantizedMolecule\n",
    "from tangelo.algorithms import ADAPTSolver\n",
    "from tangelo.toolboxes.qubit_mappings.mapping_transform import fermion_to_qubit_mapping\n",
    "from tangelo.toolboxes.operators import count_qubits"
   ]
  },
  {
   "cell_type": "code",
   "execution_count": 2,
   "metadata": {},
   "outputs": [],
   "source": [
    "H4 = [(\"H\", (0, 0, 0)), (\"H\", (0, 1.4, 0)), (\"H\", (0, 2.8, 0)), (\"H\", (0, 4.2, 0))]\n",
    "mol = SecondQuantizedMolecule(H4, q=0, spin=0, basis=\"sto-3g\", frozen_orbitals=None)\n",
    "\n",
    "opt_dict = {\"molecule\": mol, \"tol\": 0.01, \"max_cycles\": 7, \"verbose\": False, \"qubit_mapping\": \"jw\"}\n",
    "\n",
    "\n",
    "fermion_operator = mol._get_fermionic_hamiltonian()\n",
    "qubit_operator = fermion_to_qubit_mapping(fermion_operator, 'jw', mol.n_active_sos, mol.n_electrons)\n",
    "n_qubits = count_qubits(qubit_operator)"
   ]
  },
  {
   "cell_type": "code",
   "execution_count": 3,
   "metadata": {},
   "outputs": [],
   "source": [
    "def get_pool(qubit_hamiltonian, n_qubits):\n",
    "    \"\"\"Use Hamiltonian to identify non-commuting Pauli strings to use as operator pool.\n",
    "    We identify terms with even number of Y-operators, in order to define excitations \n",
    "    which preserve T-reversal symmetry. We remove all Z operators, and we flip the first\n",
    "    X or Y to its partner (i.e. X <> Y).\n",
    "    Args:\n",
    "        qubit_hamiltonian (QubitOperator): input Hamiltonian\n",
    "        n_qubits (int): number of qubits for Hamiltonian\n",
    "    \n",
    "    Returns:\n",
    "        pool_generators (list of QubitOperator): list of generators\n",
    "    \"\"\"\n",
    "    import numpy as np\n",
    "    from tangelo.toolboxes.operators.operators import QubitOperator\n",
    "\n",
    "    pauli_lookup = {'Z':1, 'X':2, 'Y':3}\n",
    "    pauli_reverse_lookup = ['I', 'Z', 'X', 'Y']\n",
    "    pool_generators, pool_tuples = list(), list()\n",
    "    indices = list()\n",
    "    for term in qubit_hamiltonian.terms:\n",
    "        pauli_string = np.zeros(n_qubits, dtype=int)\n",
    "    \n",
    "        #identify all X or Y factors\n",
    "        for index, action in term:\n",
    "            if pauli_lookup[action] > 1:\n",
    "                pauli_string[index] = pauli_lookup[action]\n",
    "        \n",
    "           \n",
    "        \n",
    "        #only allow one operator acting on a given set of qubits\n",
    "        action_mask = tuple(pauli_string > 1)\n",
    "        print(f'term={term} pauli_string={pauli_string},action_mask={action_mask}')\n",
    "        if action_mask in indices:\n",
    "            continue\n",
    "\n",
    "        #only consider terms with even number of Y\n",
    "        if sum(pauli_string) % 2 == 0 and sum(pauli_string) > 0:\n",
    "            #identify qubit operator to change X<>Y\n",
    "            flip_index = np.where(pauli_string > 1)[0][0]\n",
    "            pauli_string[flip_index] += (-1)**(pauli_string[flip_index] % 2) \n",
    "            \n",
    "\n",
    "            #update set of used qubit combinations\n",
    "            indices.append(action_mask)\n",
    "            #create QubitOperator for the new generator\n",
    "            operator_tuple = tuple([(index,pauli_reverse_lookup[pauli]) for index, pauli in enumerate(pauli_string) if pauli > 0])\n",
    "            #We don't use the coefficients directly, so since we need to multiply by 1.j for evaluating gradients, \n",
    "            #I'm just instantiating these with that coefficient in place\n",
    "            print(f'##flip_index={flip_index},pauli_string={pauli_string},indices={indices}')\n",
    "            pool_generators.append(QubitOperator(operator_tuple, 1.0j))\n",
    "            pool_tuples.append(operator_tuple)\n",
    "    \n",
    "    return pool_generators"
   ]
  },
  {
   "cell_type": "code",
   "execution_count": 6,
   "metadata": {},
   "outputs": [
    {
     "name": "stdout",
     "output_type": "stream",
     "text": [
      "term=() pauli_string=[0 0 0 0 0 0 0 0],action_mask=(False, False, False, False, False, False, False, False)\n",
      "term=((0, 'Z'),) pauli_string=[0 0 0 0 0 0 0 0],action_mask=(False, False, False, False, False, False, False, False)\n",
      "term=((0, 'Y'), (1, 'Z'), (2, 'Z'), (3, 'Z'), (4, 'Y')) pauli_string=[3 0 0 0 3 0 0 0],action_mask=(True, False, False, False, True, False, False, False)\n",
      "##flip_index=0,pauli_string=[2 0 0 0 3 0 0 0],indices=[(True, False, False, False, True, False, False, False)]\n",
      "term=((0, 'X'), (1, 'Z'), (2, 'Z'), (3, 'Z'), (4, 'X')) pauli_string=[2 0 0 0 2 0 0 0],action_mask=(True, False, False, False, True, False, False, False)\n",
      "term=((1, 'Z'),) pauli_string=[0 0 0 0 0 0 0 0],action_mask=(False, False, False, False, False, False, False, False)\n",
      "term=((1, 'Y'), (2, 'Z'), (3, 'Z'), (4, 'Z'), (5, 'Y')) pauli_string=[0 3 0 0 0 3 0 0],action_mask=(False, True, False, False, False, True, False, False)\n",
      "##flip_index=1,pauli_string=[0 2 0 0 0 3 0 0],indices=[(True, False, False, False, True, False, False, False), (False, True, False, False, False, True, False, False)]\n",
      "term=((1, 'X'), (2, 'Z'), (3, 'Z'), (4, 'Z'), (5, 'X')) pauli_string=[0 2 0 0 0 2 0 0],action_mask=(False, True, False, False, False, True, False, False)\n",
      "term=((2, 'Z'),) pauli_string=[0 0 0 0 0 0 0 0],action_mask=(False, False, False, False, False, False, False, False)\n",
      "term=((2, 'Y'), (3, 'Z'), (4, 'Z'), (5, 'Z'), (6, 'Y')) pauli_string=[0 0 3 0 0 0 3 0],action_mask=(False, False, True, False, False, False, True, False)\n",
      "##flip_index=2,pauli_string=[0 0 2 0 0 0 3 0],indices=[(True, False, False, False, True, False, False, False), (False, True, False, False, False, True, False, False), (False, False, True, False, False, False, True, False)]\n",
      "term=((2, 'X'), (3, 'Z'), (4, 'Z'), (5, 'Z'), (6, 'X')) pauli_string=[0 0 2 0 0 0 2 0],action_mask=(False, False, True, False, False, False, True, False)\n",
      "term=((3, 'Z'),) pauli_string=[0 0 0 0 0 0 0 0],action_mask=(False, False, False, False, False, False, False, False)\n",
      "term=((3, 'Y'), (4, 'Z'), (5, 'Z'), (6, 'Z'), (7, 'Y')) pauli_string=[0 0 0 3 0 0 0 3],action_mask=(False, False, False, True, False, False, False, True)\n",
      "##flip_index=3,pauli_string=[0 0 0 2 0 0 0 3],indices=[(True, False, False, False, True, False, False, False), (False, True, False, False, False, True, False, False), (False, False, True, False, False, False, True, False), (False, False, False, True, False, False, False, True)]\n",
      "term=((3, 'X'), (4, 'Z'), (5, 'Z'), (6, 'Z'), (7, 'X')) pauli_string=[0 0 0 2 0 0 0 2],action_mask=(False, False, False, True, False, False, False, True)\n",
      "term=((4, 'Z'),) pauli_string=[0 0 0 0 0 0 0 0],action_mask=(False, False, False, False, False, False, False, False)\n",
      "term=((5, 'Z'),) pauli_string=[0 0 0 0 0 0 0 0],action_mask=(False, False, False, False, False, False, False, False)\n",
      "term=((6, 'Z'),) pauli_string=[0 0 0 0 0 0 0 0],action_mask=(False, False, False, False, False, False, False, False)\n",
      "term=((7, 'Z'),) pauli_string=[0 0 0 0 0 0 0 0],action_mask=(False, False, False, False, False, False, False, False)\n",
      "term=((0, 'Z'), (1, 'Z')) pauli_string=[0 0 0 0 0 0 0 0],action_mask=(False, False, False, False, False, False, False, False)\n",
      "term=((0, 'Y'), (2, 'Z'), (3, 'Z'), (4, 'Y')) pauli_string=[3 0 0 0 3 0 0 0],action_mask=(True, False, False, False, True, False, False, False)\n",
      "term=((0, 'X'), (2, 'Z'), (3, 'Z'), (4, 'X')) pauli_string=[2 0 0 0 2 0 0 0],action_mask=(True, False, False, False, True, False, False, False)\n",
      "term=((0, 'Y'), (1, 'X'), (2, 'X'), (3, 'Y')) pauli_string=[3 2 2 3 0 0 0 0],action_mask=(True, True, True, True, False, False, False, False)\n",
      "##flip_index=0,pauli_string=[2 2 2 3 0 0 0 0],indices=[(True, False, False, False, True, False, False, False), (False, True, False, False, False, True, False, False), (False, False, True, False, False, False, True, False), (False, False, False, True, False, False, False, True), (True, True, True, True, False, False, False, False)]\n",
      "term=((0, 'Y'), (1, 'Y'), (2, 'X'), (3, 'X')) pauli_string=[3 3 2 2 0 0 0 0],action_mask=(True, True, True, True, False, False, False, False)\n",
      "term=((0, 'X'), (1, 'X'), (2, 'Y'), (3, 'Y')) pauli_string=[2 2 3 3 0 0 0 0],action_mask=(True, True, True, True, False, False, False, False)\n",
      "term=((0, 'X'), (1, 'Y'), (2, 'Y'), (3, 'X')) pauli_string=[2 3 3 2 0 0 0 0],action_mask=(True, True, True, True, False, False, False, False)\n",
      "term=((0, 'Y'), (1, 'X'), (3, 'X'), (4, 'Z'), (5, 'Z'), (6, 'Y')) pauli_string=[3 2 0 2 0 0 3 0],action_mask=(True, True, False, True, False, False, True, False)\n",
      "##flip_index=0,pauli_string=[2 2 0 2 0 0 3 0],indices=[(True, False, False, False, True, False, False, False), (False, True, False, False, False, True, False, False), (False, False, True, False, False, False, True, False), (False, False, False, True, False, False, False, True), (True, True, True, True, False, False, False, False), (True, True, False, True, False, False, True, False)]\n",
      "term=((0, 'Y'), (1, 'Y'), (3, 'Y'), (4, 'Z'), (5, 'Z'), (6, 'Y')) pauli_string=[3 3 0 3 0 0 3 0],action_mask=(True, True, False, True, False, False, True, False)\n",
      "term=((0, 'X'), (1, 'X'), (3, 'X'), (4, 'Z'), (5, 'Z'), (6, 'X')) pauli_string=[2 2 0 2 0 0 2 0],action_mask=(True, True, False, True, False, False, True, False)\n",
      "term=((0, 'X'), (1, 'Y'), (3, 'Y'), (4, 'Z'), (5, 'Z'), (6, 'X')) pauli_string=[2 3 0 3 0 0 2 0],action_mask=(True, True, False, True, False, False, True, False)\n",
      "term=((0, 'Z'), (1, 'Y'), (2, 'Z'), (3, 'Z'), (4, 'Z'), (5, 'Y')) pauli_string=[0 3 0 0 0 3 0 0],action_mask=(False, True, False, False, False, True, False, False)\n",
      "term=((0, 'Z'), (1, 'X'), (2, 'Z'), (3, 'Z'), (4, 'Z'), (5, 'X')) pauli_string=[0 2 0 0 0 2 0 0],action_mask=(False, True, False, False, False, True, False, False)\n",
      "term=((0, 'Y'), (1, 'X'), (4, 'X'), (5, 'Y')) pauli_string=[3 2 0 0 2 3 0 0],action_mask=(True, True, False, False, True, True, False, False)\n",
      "##flip_index=0,pauli_string=[2 2 0 0 2 3 0 0],indices=[(True, False, False, False, True, False, False, False), (False, True, False, False, False, True, False, False), (False, False, True, False, False, False, True, False), (False, False, False, True, False, False, False, True), (True, True, True, True, False, False, False, False), (True, True, False, True, False, False, True, False), (True, True, False, False, True, True, False, False)]\n",
      "term=((0, 'Y'), (1, 'Y'), (4, 'X'), (5, 'X')) pauli_string=[3 3 0 0 2 2 0 0],action_mask=(True, True, False, False, True, True, False, False)\n",
      "term=((0, 'X'), (1, 'X'), (4, 'Y'), (5, 'Y')) pauli_string=[2 2 0 0 3 3 0 0],action_mask=(True, True, False, False, True, True, False, False)\n",
      "term=((0, 'X'), (1, 'Y'), (4, 'Y'), (5, 'X')) pauli_string=[2 3 0 0 3 2 0 0],action_mask=(True, True, False, False, True, True, False, False)\n",
      "term=((0, 'Y'), (1, 'X'), (2, 'X'), (3, 'Z'), (4, 'Z'), (5, 'Z'), (6, 'Z'), (7, 'Y')) pauli_string=[3 2 2 0 0 0 0 3],action_mask=(True, True, True, False, False, False, False, True)\n",
      "##flip_index=0,pauli_string=[2 2 2 0 0 0 0 3],indices=[(True, False, False, False, True, False, False, False), (False, True, False, False, False, True, False, False), (False, False, True, False, False, False, True, False), (False, False, False, True, False, False, False, True), (True, True, True, True, False, False, False, False), (True, True, False, True, False, False, True, False), (True, True, False, False, True, True, False, False), (True, True, True, False, False, False, False, True)]\n",
      "term=((0, 'Y'), (1, 'Y'), (2, 'X'), (3, 'Z'), (4, 'Z'), (5, 'Z'), (6, 'Z'), (7, 'X')) pauli_string=[3 3 2 0 0 0 0 2],action_mask=(True, True, True, False, False, False, False, True)\n",
      "term=((0, 'X'), (1, 'X'), (2, 'Y'), (3, 'Z'), (4, 'Z'), (5, 'Z'), (6, 'Z'), (7, 'Y')) pauli_string=[2 2 3 0 0 0 0 3],action_mask=(True, True, True, False, False, False, False, True)\n",
      "term=((0, 'X'), (1, 'Y'), (2, 'Y'), (3, 'Z'), (4, 'Z'), (5, 'Z'), (6, 'Z'), (7, 'X')) pauli_string=[2 3 3 0 0 0 0 2],action_mask=(True, True, True, False, False, False, False, True)\n",
      "term=((0, 'Y'), (1, 'X'), (6, 'X'), (7, 'Y')) pauli_string=[3 2 0 0 0 0 2 3],action_mask=(True, True, False, False, False, False, True, True)\n",
      "##flip_index=0,pauli_string=[2 2 0 0 0 0 2 3],indices=[(True, False, False, False, True, False, False, False), (False, True, False, False, False, True, False, False), (False, False, True, False, False, False, True, False), (False, False, False, True, False, False, False, True), (True, True, True, True, False, False, False, False), (True, True, False, True, False, False, True, False), (True, True, False, False, True, True, False, False), (True, True, True, False, False, False, False, True), (True, True, False, False, False, False, True, True)]\n",
      "term=((0, 'Y'), (1, 'Y'), (6, 'X'), (7, 'X')) pauli_string=[3 3 0 0 0 0 2 2],action_mask=(True, True, False, False, False, False, True, True)\n",
      "term=((0, 'X'), (1, 'X'), (6, 'Y'), (7, 'Y')) pauli_string=[2 2 0 0 0 0 3 3],action_mask=(True, True, False, False, False, False, True, True)\n",
      "term=((0, 'X'), (1, 'Y'), (6, 'Y'), (7, 'X')) pauli_string=[2 3 0 0 0 0 3 2],action_mask=(True, True, False, False, False, False, True, True)\n",
      "term=((0, 'Z'), (2, 'Z')) pauli_string=[0 0 0 0 0 0 0 0],action_mask=(False, False, False, False, False, False, False, False)\n",
      "term=((0, 'Z'), (2, 'Y'), (3, 'Z'), (4, 'Z'), (5, 'Z'), (6, 'Y')) pauli_string=[0 0 3 0 0 0 3 0],action_mask=(False, False, True, False, False, False, True, False)\n",
      "term=((0, 'Z'), (2, 'X'), (3, 'Z'), (4, 'Z'), (5, 'Z'), (6, 'X')) pauli_string=[0 0 2 0 0 0 2 0],action_mask=(False, False, True, False, False, False, True, False)\n",
      "term=((0, 'Y'), (1, 'Z'), (3, 'Z'), (4, 'Y')) pauli_string=[3 0 0 0 3 0 0 0],action_mask=(True, False, False, False, True, False, False, False)\n",
      "term=((0, 'X'), (1, 'Z'), (3, 'Z'), (4, 'X')) pauli_string=[2 0 0 0 2 0 0 0],action_mask=(True, False, False, False, True, False, False, False)\n",
      "term=((0, 'Y'), (1, 'Z'), (2, 'X'), (4, 'X'), (5, 'Z'), (6, 'Y')) pauli_string=[3 0 2 0 2 0 3 0],action_mask=(True, False, True, False, True, False, True, False)\n",
      "##flip_index=0,pauli_string=[2 0 2 0 2 0 3 0],indices=[(True, False, False, False, True, False, False, False), (False, True, False, False, False, True, False, False), (False, False, True, False, False, False, True, False), (False, False, False, True, False, False, False, True), (True, True, True, True, False, False, False, False), (True, True, False, True, False, False, True, False), (True, True, False, False, True, True, False, False), (True, True, True, False, False, False, False, True), (True, True, False, False, False, False, True, True), (True, False, True, False, True, False, True, False)]\n",
      "term=((0, 'Y'), (1, 'Z'), (2, 'Y'), (4, 'Y'), (5, 'Z'), (6, 'Y')) pauli_string=[3 0 3 0 3 0 3 0],action_mask=(True, False, True, False, True, False, True, False)\n",
      "term=((0, 'Y'), (1, 'Z'), (2, 'Y'), (4, 'X'), (5, 'Z'), (6, 'X')) pauli_string=[3 0 3 0 2 0 2 0],action_mask=(True, False, True, False, True, False, True, False)\n",
      "term=((0, 'X'), (1, 'Z'), (2, 'X'), (4, 'Y'), (5, 'Z'), (6, 'Y')) pauli_string=[2 0 2 0 3 0 3 0],action_mask=(True, False, True, False, True, False, True, False)\n",
      "term=((0, 'X'), (1, 'Z'), (2, 'X'), (4, 'X'), (5, 'Z'), (6, 'X')) pauli_string=[2 0 2 0 2 0 2 0],action_mask=(True, False, True, False, True, False, True, False)\n",
      "term=((0, 'X'), (1, 'Z'), (2, 'Y'), (4, 'Y'), (5, 'Z'), (6, 'X')) pauli_string=[2 0 3 0 3 0 2 0],action_mask=(True, False, True, False, True, False, True, False)\n",
      "term=((0, 'Z'), (3, 'Z')) pauli_string=[0 0 0 0 0 0 0 0],action_mask=(False, False, False, False, False, False, False, False)\n",
      "term=((0, 'Y'), (1, 'Z'), (2, 'Z'), (4, 'Y')) pauli_string=[3 0 0 0 3 0 0 0],action_mask=(True, False, False, False, True, False, False, False)\n",
      "term=((0, 'X'), (1, 'Z'), (2, 'Z'), (4, 'X')) pauli_string=[2 0 0 0 2 0 0 0],action_mask=(True, False, False, False, True, False, False, False)\n",
      "term=((0, 'Y'), (1, 'Z'), (2, 'Y'), (3, 'Y'), (4, 'Z'), (5, 'Y')) pauli_string=[3 0 3 3 0 3 0 0],action_mask=(True, False, True, True, False, True, False, False)\n",
      "##flip_index=0,pauli_string=[2 0 3 3 0 3 0 0],indices=[(True, False, False, False, True, False, False, False), (False, True, False, False, False, True, False, False), (False, False, True, False, False, False, True, False), (False, False, False, True, False, False, False, True), (True, True, True, True, False, False, False, False), (True, True, False, True, False, False, True, False), (True, True, False, False, True, True, False, False), (True, True, True, False, False, False, False, True), (True, True, False, False, False, False, True, True), (True, False, True, False, True, False, True, False), (True, False, True, True, False, True, False, False)]\n",
      "term=((0, 'Y'), (1, 'Z'), (2, 'Y'), (3, 'X'), (4, 'Z'), (5, 'X')) pauli_string=[3 0 3 2 0 2 0 0],action_mask=(True, False, True, True, False, True, False, False)\n",
      "term=((0, 'X'), (1, 'Z'), (2, 'X'), (3, 'Y'), (4, 'Z'), (5, 'Y')) pauli_string=[2 0 2 3 0 3 0 0],action_mask=(True, False, True, True, False, True, False, False)\n",
      "term=((0, 'X'), (1, 'Z'), (2, 'X'), (3, 'X'), (4, 'Z'), (5, 'X')) pauli_string=[2 0 2 2 0 2 0 0],action_mask=(True, False, True, True, False, True, False, False)\n",
      "term=((0, 'Y'), (1, 'Z'), (2, 'Z'), (3, 'X'), (5, 'X'), (6, 'Y')) pauli_string=[3 0 0 2 0 2 3 0],action_mask=(True, False, False, True, False, True, True, False)\n",
      "##flip_index=0,pauli_string=[2 0 0 2 0 2 3 0],indices=[(True, False, False, False, True, False, False, False), (False, True, False, False, False, True, False, False), (False, False, True, False, False, False, True, False), (False, False, False, True, False, False, False, True), (True, True, True, True, False, False, False, False), (True, True, False, True, False, False, True, False), (True, True, False, False, True, True, False, False), (True, True, True, False, False, False, False, True), (True, True, False, False, False, False, True, True), (True, False, True, False, True, False, True, False), (True, False, True, True, False, True, False, False), (True, False, False, True, False, True, True, False)]\n",
      "term=((0, 'Y'), (1, 'Z'), (2, 'Z'), (3, 'Y'), (5, 'Y'), (6, 'Y')) pauli_string=[3 0 0 3 0 3 3 0],action_mask=(True, False, False, True, False, True, True, False)\n",
      "term=((0, 'X'), (1, 'Z'), (2, 'Z'), (3, 'X'), (5, 'X'), (6, 'X')) pauli_string=[2 0 0 2 0 2 2 0],action_mask=(True, False, False, True, False, True, True, False)\n",
      "term=((0, 'X'), (1, 'Z'), (2, 'Z'), (3, 'Y'), (5, 'Y'), (6, 'X')) pauli_string=[2 0 0 3 0 3 2 0],action_mask=(True, False, False, True, False, True, True, False)\n",
      "term=((0, 'Z'), (3, 'Y'), (4, 'Z'), (5, 'Z'), (6, 'Z'), (7, 'Y')) pauli_string=[0 0 0 3 0 0 0 3],action_mask=(False, False, False, True, False, False, False, True)\n",
      "term=((0, 'Z'), (3, 'X'), (4, 'Z'), (5, 'Z'), (6, 'Z'), (7, 'X')) pauli_string=[0 0 0 2 0 0 0 2],action_mask=(False, False, False, True, False, False, False, True)\n",
      "term=((0, 'Y'), (1, 'Z'), (2, 'Z'), (3, 'X'), (4, 'X'), (5, 'Z'), (6, 'Z'), (7, 'Y')) pauli_string=[3 0 0 2 2 0 0 3],action_mask=(True, False, False, True, True, False, False, True)\n",
      "##flip_index=0,pauli_string=[2 0 0 2 2 0 0 3],indices=[(True, False, False, False, True, False, False, False), (False, True, False, False, False, True, False, False), (False, False, True, False, False, False, True, False), (False, False, False, True, False, False, False, True), (True, True, True, True, False, False, False, False), (True, True, False, True, False, False, True, False), (True, True, False, False, True, True, False, False), (True, True, True, False, False, False, False, True), (True, True, False, False, False, False, True, True), (True, False, True, False, True, False, True, False), (True, False, True, True, False, True, False, False), (True, False, False, True, False, True, True, False), (True, False, False, True, True, False, False, True)]\n",
      "term=((0, 'Y'), (1, 'Z'), (2, 'Z'), (3, 'Y'), (4, 'X'), (5, 'Z'), (6, 'Z'), (7, 'X')) pauli_string=[3 0 0 3 2 0 0 2],action_mask=(True, False, False, True, True, False, False, True)\n",
      "term=((0, 'X'), (1, 'Z'), (2, 'Z'), (3, 'X'), (4, 'Y'), (5, 'Z'), (6, 'Z'), (7, 'Y')) pauli_string=[2 0 0 2 3 0 0 3],action_mask=(True, False, False, True, True, False, False, True)\n",
      "term=((0, 'X'), (1, 'Z'), (2, 'Z'), (3, 'Y'), (4, 'Y'), (5, 'Z'), (6, 'Z'), (7, 'X')) pauli_string=[2 0 0 3 3 0 0 2],action_mask=(True, False, False, True, True, False, False, True)\n",
      "term=((0, 'Z'), (4, 'Z')) pauli_string=[0 0 0 0 0 0 0 0],action_mask=(False, False, False, False, False, False, False, False)\n",
      "term=((0, 'Z'), (5, 'Z')) pauli_string=[0 0 0 0 0 0 0 0],action_mask=(False, False, False, False, False, False, False, False)\n",
      "term=((0, 'Y'), (1, 'Z'), (2, 'Z'), (3, 'Z'), (4, 'Y'), (5, 'Z')) pauli_string=[3 0 0 0 3 0 0 0],action_mask=(True, False, False, False, True, False, False, False)\n",
      "term=((0, 'X'), (1, 'Z'), (2, 'Z'), (3, 'Z'), (4, 'X'), (5, 'Z')) pauli_string=[2 0 0 0 2 0 0 0],action_mask=(True, False, False, False, True, False, False, False)\n",
      "term=((0, 'Y'), (1, 'Z'), (2, 'Y'), (5, 'Y'), (6, 'Z'), (7, 'Y')) pauli_string=[3 0 3 0 0 3 0 3],action_mask=(True, False, True, False, False, True, False, True)\n",
      "##flip_index=0,pauli_string=[2 0 3 0 0 3 0 3],indices=[(True, False, False, False, True, False, False, False), (False, True, False, False, False, True, False, False), (False, False, True, False, False, False, True, False), (False, False, False, True, False, False, False, True), (True, True, True, True, False, False, False, False), (True, True, False, True, False, False, True, False), (True, True, False, False, True, True, False, False), (True, True, True, False, False, False, False, True), (True, True, False, False, False, False, True, True), (True, False, True, False, True, False, True, False), (True, False, True, True, False, True, False, False), (True, False, False, True, False, True, True, False), (True, False, False, True, True, False, False, True), (True, False, True, False, False, True, False, True)]\n",
      "term=((0, 'Y'), (1, 'Z'), (2, 'Y'), (5, 'X'), (6, 'Z'), (7, 'X')) pauli_string=[3 0 3 0 0 2 0 2],action_mask=(True, False, True, False, False, True, False, True)\n",
      "term=((0, 'X'), (1, 'Z'), (2, 'X'), (5, 'Y'), (6, 'Z'), (7, 'Y')) pauli_string=[2 0 2 0 0 3 0 3],action_mask=(True, False, True, False, False, True, False, True)\n",
      "term=((0, 'X'), (1, 'Z'), (2, 'X'), (5, 'X'), (6, 'Z'), (7, 'X')) pauli_string=[2 0 2 0 0 2 0 2],action_mask=(True, False, True, False, False, True, False, True)\n",
      "term=((0, 'Y'), (1, 'Z'), (2, 'Z'), (3, 'Z'), (4, 'Z'), (5, 'X'), (6, 'X'), (7, 'Y')) pauli_string=[3 0 0 0 0 2 2 3],action_mask=(True, False, False, False, False, True, True, True)\n",
      "##flip_index=0,pauli_string=[2 0 0 0 0 2 2 3],indices=[(True, False, False, False, True, False, False, False), (False, True, False, False, False, True, False, False), (False, False, True, False, False, False, True, False), (False, False, False, True, False, False, False, True), (True, True, True, True, False, False, False, False), (True, True, False, True, False, False, True, False), (True, True, False, False, True, True, False, False), (True, True, True, False, False, False, False, True), (True, True, False, False, False, False, True, True), (True, False, True, False, True, False, True, False), (True, False, True, True, False, True, False, False), (True, False, False, True, False, True, True, False), (True, False, False, True, True, False, False, True), (True, False, True, False, False, True, False, True), (True, False, False, False, False, True, True, True)]\n",
      "term=((0, 'Y'), (1, 'Z'), (2, 'Z'), (3, 'Z'), (4, 'Z'), (5, 'Y'), (6, 'X'), (7, 'X')) pauli_string=[3 0 0 0 0 3 2 2],action_mask=(True, False, False, False, False, True, True, True)\n",
      "term=((0, 'X'), (1, 'Z'), (2, 'Z'), (3, 'Z'), (4, 'Z'), (5, 'X'), (6, 'Y'), (7, 'Y')) pauli_string=[2 0 0 0 0 2 3 3],action_mask=(True, False, False, False, False, True, True, True)\n",
      "term=((0, 'X'), (1, 'Z'), (2, 'Z'), (3, 'Z'), (4, 'Z'), (5, 'Y'), (6, 'Y'), (7, 'X')) pauli_string=[2 0 0 0 0 3 3 2],action_mask=(True, False, False, False, False, True, True, True)\n",
      "term=((0, 'Z'), (6, 'Z')) pauli_string=[0 0 0 0 0 0 0 0],action_mask=(False, False, False, False, False, False, False, False)\n",
      "term=((0, 'Y'), (1, 'Z'), (2, 'Z'), (3, 'Z'), (4, 'Y'), (6, 'Z')) pauli_string=[3 0 0 0 3 0 0 0],action_mask=(True, False, False, False, True, False, False, False)\n",
      "term=((0, 'X'), (1, 'Z'), (2, 'Z'), (3, 'Z'), (4, 'X'), (6, 'Z')) pauli_string=[2 0 0 0 2 0 0 0],action_mask=(True, False, False, False, True, False, False, False)\n",
      "term=((0, 'Z'), (7, 'Z')) pauli_string=[0 0 0 0 0 0 0 0],action_mask=(False, False, False, False, False, False, False, False)\n",
      "term=((0, 'Y'), (1, 'Z'), (2, 'Z'), (3, 'Z'), (4, 'Y'), (7, 'Z')) pauli_string=[3 0 0 0 3 0 0 0],action_mask=(True, False, False, False, True, False, False, False)\n",
      "term=((0, 'X'), (1, 'Z'), (2, 'Z'), (3, 'Z'), (4, 'X'), (7, 'Z')) pauli_string=[2 0 0 0 2 0 0 0],action_mask=(True, False, False, False, True, False, False, False)\n",
      "term=((1, 'Z'), (2, 'Z')) pauli_string=[0 0 0 0 0 0 0 0],action_mask=(False, False, False, False, False, False, False, False)\n",
      "term=((1, 'Y'), (3, 'Z'), (4, 'Z'), (5, 'Y')) pauli_string=[0 3 0 0 0 3 0 0],action_mask=(False, True, False, False, False, True, False, False)\n",
      "term=((1, 'X'), (3, 'Z'), (4, 'Z'), (5, 'X')) pauli_string=[0 2 0 0 0 2 0 0],action_mask=(False, True, False, False, False, True, False, False)\n",
      "term=((1, 'Y'), (2, 'X'), (3, 'X'), (4, 'Y')) pauli_string=[0 3 2 2 3 0 0 0],action_mask=(False, True, True, True, True, False, False, False)\n",
      "##flip_index=1,pauli_string=[0 2 2 2 3 0 0 0],indices=[(True, False, False, False, True, False, False, False), (False, True, False, False, False, True, False, False), (False, False, True, False, False, False, True, False), (False, False, False, True, False, False, False, True), (True, True, True, True, False, False, False, False), (True, True, False, True, False, False, True, False), (True, True, False, False, True, True, False, False), (True, True, True, False, False, False, False, True), (True, True, False, False, False, False, True, True), (True, False, True, False, True, False, True, False), (True, False, True, True, False, True, False, False), (True, False, False, True, False, True, True, False), (True, False, False, True, True, False, False, True), (True, False, True, False, False, True, False, True), (True, False, False, False, False, True, True, True), (False, True, True, True, True, False, False, False)]\n",
      "term=((1, 'Y'), (2, 'Y'), (3, 'X'), (4, 'X')) pauli_string=[0 3 3 2 2 0 0 0],action_mask=(False, True, True, True, True, False, False, False)\n",
      "term=((1, 'X'), (2, 'X'), (3, 'Y'), (4, 'Y')) pauli_string=[0 2 2 3 3 0 0 0],action_mask=(False, True, True, True, True, False, False, False)\n",
      "term=((1, 'X'), (2, 'Y'), (3, 'Y'), (4, 'X')) pauli_string=[0 2 3 3 2 0 0 0],action_mask=(False, True, True, True, True, False, False, False)\n",
      "term=((1, 'Y'), (2, 'X'), (4, 'X'), (5, 'Z'), (6, 'Z'), (7, 'Y')) pauli_string=[0 3 2 0 2 0 0 3],action_mask=(False, True, True, False, True, False, False, True)\n",
      "##flip_index=1,pauli_string=[0 2 2 0 2 0 0 3],indices=[(True, False, False, False, True, False, False, False), (False, True, False, False, False, True, False, False), (False, False, True, False, False, False, True, False), (False, False, False, True, False, False, False, True), (True, True, True, True, False, False, False, False), (True, True, False, True, False, False, True, False), (True, True, False, False, True, True, False, False), (True, True, True, False, False, False, False, True), (True, True, False, False, False, False, True, True), (True, False, True, False, True, False, True, False), (True, False, True, True, False, True, False, False), (True, False, False, True, False, True, True, False), (True, False, False, True, True, False, False, True), (True, False, True, False, False, True, False, True), (True, False, False, False, False, True, True, True), (False, True, True, True, True, False, False, False), (False, True, True, False, True, False, False, True)]\n",
      "term=((1, 'Y'), (2, 'Y'), (4, 'Y'), (5, 'Z'), (6, 'Z'), (7, 'Y')) pauli_string=[0 3 3 0 3 0 0 3],action_mask=(False, True, True, False, True, False, False, True)\n",
      "term=((1, 'X'), (2, 'X'), (4, 'X'), (5, 'Z'), (6, 'Z'), (7, 'X')) pauli_string=[0 2 2 0 2 0 0 2],action_mask=(False, True, True, False, True, False, False, True)\n",
      "term=((1, 'X'), (2, 'Y'), (4, 'Y'), (5, 'Z'), (6, 'Z'), (7, 'X')) pauli_string=[0 2 3 0 3 0 0 2],action_mask=(False, True, True, False, True, False, False, True)\n",
      "term=((1, 'Z'), (2, 'Y'), (3, 'Z'), (4, 'Z'), (5, 'Z'), (6, 'Y')) pauli_string=[0 0 3 0 0 0 3 0],action_mask=(False, False, True, False, False, False, True, False)\n",
      "term=((1, 'Z'), (2, 'X'), (3, 'Z'), (4, 'Z'), (5, 'Z'), (6, 'X')) pauli_string=[0 0 2 0 0 0 2 0],action_mask=(False, False, True, False, False, False, True, False)\n",
      "term=((1, 'Y'), (2, 'X'), (5, 'X'), (6, 'Y')) pauli_string=[0 3 2 0 0 2 3 0],action_mask=(False, True, True, False, False, True, True, False)\n",
      "##flip_index=1,pauli_string=[0 2 2 0 0 2 3 0],indices=[(True, False, False, False, True, False, False, False), (False, True, False, False, False, True, False, False), (False, False, True, False, False, False, True, False), (False, False, False, True, False, False, False, True), (True, True, True, True, False, False, False, False), (True, True, False, True, False, False, True, False), (True, True, False, False, True, True, False, False), (True, True, True, False, False, False, False, True), (True, True, False, False, False, False, True, True), (True, False, True, False, True, False, True, False), (True, False, True, True, False, True, False, False), (True, False, False, True, False, True, True, False), (True, False, False, True, True, False, False, True), (True, False, True, False, False, True, False, True), (True, False, False, False, False, True, True, True), (False, True, True, True, True, False, False, False), (False, True, True, False, True, False, False, True), (False, True, True, False, False, True, True, False)]\n",
      "term=((1, 'Y'), (2, 'Y'), (5, 'X'), (6, 'X')) pauli_string=[0 3 3 0 0 2 2 0],action_mask=(False, True, True, False, False, True, True, False)\n",
      "term=((1, 'X'), (2, 'X'), (5, 'Y'), (6, 'Y')) pauli_string=[0 2 2 0 0 3 3 0],action_mask=(False, True, True, False, False, True, True, False)\n",
      "term=((1, 'X'), (2, 'Y'), (5, 'Y'), (6, 'X')) pauli_string=[0 2 3 0 0 3 2 0],action_mask=(False, True, True, False, False, True, True, False)\n",
      "term=((1, 'Z'), (3, 'Z')) pauli_string=[0 0 0 0 0 0 0 0],action_mask=(False, False, False, False, False, False, False, False)\n",
      "term=((1, 'Z'), (3, 'Y'), (4, 'Z'), (5, 'Z'), (6, 'Z'), (7, 'Y')) pauli_string=[0 0 0 3 0 0 0 3],action_mask=(False, False, False, True, False, False, False, True)\n",
      "term=((1, 'Z'), (3, 'X'), (4, 'Z'), (5, 'Z'), (6, 'Z'), (7, 'X')) pauli_string=[0 0 0 2 0 0 0 2],action_mask=(False, False, False, True, False, False, False, True)\n",
      "term=((1, 'Y'), (2, 'Z'), (4, 'Z'), (5, 'Y')) pauli_string=[0 3 0 0 0 3 0 0],action_mask=(False, True, False, False, False, True, False, False)\n",
      "term=((1, 'X'), (2, 'Z'), (4, 'Z'), (5, 'X')) pauli_string=[0 2 0 0 0 2 0 0],action_mask=(False, True, False, False, False, True, False, False)\n",
      "term=((1, 'Y'), (2, 'Z'), (3, 'X'), (5, 'X'), (6, 'Z'), (7, 'Y')) pauli_string=[0 3 0 2 0 2 0 3],action_mask=(False, True, False, True, False, True, False, True)\n",
      "##flip_index=1,pauli_string=[0 2 0 2 0 2 0 3],indices=[(True, False, False, False, True, False, False, False), (False, True, False, False, False, True, False, False), (False, False, True, False, False, False, True, False), (False, False, False, True, False, False, False, True), (True, True, True, True, False, False, False, False), (True, True, False, True, False, False, True, False), (True, True, False, False, True, True, False, False), (True, True, True, False, False, False, False, True), (True, True, False, False, False, False, True, True), (True, False, True, False, True, False, True, False), (True, False, True, True, False, True, False, False), (True, False, False, True, False, True, True, False), (True, False, False, True, True, False, False, True), (True, False, True, False, False, True, False, True), (True, False, False, False, False, True, True, True), (False, True, True, True, True, False, False, False), (False, True, True, False, True, False, False, True), (False, True, True, False, False, True, True, False), (False, True, False, True, False, True, False, True)]\n",
      "term=((1, 'Y'), (2, 'Z'), (3, 'Y'), (5, 'Y'), (6, 'Z'), (7, 'Y')) pauli_string=[0 3 0 3 0 3 0 3],action_mask=(False, True, False, True, False, True, False, True)\n",
      "term=((1, 'Y'), (2, 'Z'), (3, 'Y'), (5, 'X'), (6, 'Z'), (7, 'X')) pauli_string=[0 3 0 3 0 2 0 2],action_mask=(False, True, False, True, False, True, False, True)\n",
      "term=((1, 'X'), (2, 'Z'), (3, 'X'), (5, 'Y'), (6, 'Z'), (7, 'Y')) pauli_string=[0 2 0 2 0 3 0 3],action_mask=(False, True, False, True, False, True, False, True)\n",
      "term=((1, 'X'), (2, 'Z'), (3, 'X'), (5, 'X'), (6, 'Z'), (7, 'X')) pauli_string=[0 2 0 2 0 2 0 2],action_mask=(False, True, False, True, False, True, False, True)\n",
      "term=((1, 'X'), (2, 'Z'), (3, 'Y'), (5, 'Y'), (6, 'Z'), (7, 'X')) pauli_string=[0 2 0 3 0 3 0 2],action_mask=(False, True, False, True, False, True, False, True)\n",
      "term=((1, 'Z'), (4, 'Z')) pauli_string=[0 0 0 0 0 0 0 0],action_mask=(False, False, False, False, False, False, False, False)\n",
      "term=((1, 'Y'), (2, 'Z'), (3, 'Z'), (5, 'Y')) pauli_string=[0 3 0 0 0 3 0 0],action_mask=(False, True, False, False, False, True, False, False)\n",
      "term=((1, 'X'), (2, 'Z'), (3, 'Z'), (5, 'X')) pauli_string=[0 2 0 0 0 2 0 0],action_mask=(False, True, False, False, False, True, False, False)\n",
      "term=((1, 'Y'), (2, 'Z'), (3, 'Y'), (4, 'Y'), (5, 'Z'), (6, 'Y')) pauli_string=[0 3 0 3 3 0 3 0],action_mask=(False, True, False, True, True, False, True, False)\n",
      "##flip_index=1,pauli_string=[0 2 0 3 3 0 3 0],indices=[(True, False, False, False, True, False, False, False), (False, True, False, False, False, True, False, False), (False, False, True, False, False, False, True, False), (False, False, False, True, False, False, False, True), (True, True, True, True, False, False, False, False), (True, True, False, True, False, False, True, False), (True, True, False, False, True, True, False, False), (True, True, True, False, False, False, False, True), (True, True, False, False, False, False, True, True), (True, False, True, False, True, False, True, False), (True, False, True, True, False, True, False, False), (True, False, False, True, False, True, True, False), (True, False, False, True, True, False, False, True), (True, False, True, False, False, True, False, True), (True, False, False, False, False, True, True, True), (False, True, True, True, True, False, False, False), (False, True, True, False, True, False, False, True), (False, True, True, False, False, True, True, False), (False, True, False, True, False, True, False, True), (False, True, False, True, True, False, True, False)]\n",
      "term=((1, 'Y'), (2, 'Z'), (3, 'Y'), (4, 'X'), (5, 'Z'), (6, 'X')) pauli_string=[0 3 0 3 2 0 2 0],action_mask=(False, True, False, True, True, False, True, False)\n",
      "term=((1, 'X'), (2, 'Z'), (3, 'X'), (4, 'Y'), (5, 'Z'), (6, 'Y')) pauli_string=[0 2 0 2 3 0 3 0],action_mask=(False, True, False, True, True, False, True, False)\n",
      "term=((1, 'X'), (2, 'Z'), (3, 'X'), (4, 'X'), (5, 'Z'), (6, 'X')) pauli_string=[0 2 0 2 2 0 2 0],action_mask=(False, True, False, True, True, False, True, False)\n",
      "term=((1, 'Y'), (2, 'Z'), (3, 'Z'), (4, 'X'), (6, 'X'), (7, 'Y')) pauli_string=[0 3 0 0 2 0 2 3],action_mask=(False, True, False, False, True, False, True, True)\n",
      "##flip_index=1,pauli_string=[0 2 0 0 2 0 2 3],indices=[(True, False, False, False, True, False, False, False), (False, True, False, False, False, True, False, False), (False, False, True, False, False, False, True, False), (False, False, False, True, False, False, False, True), (True, True, True, True, False, False, False, False), (True, True, False, True, False, False, True, False), (True, True, False, False, True, True, False, False), (True, True, True, False, False, False, False, True), (True, True, False, False, False, False, True, True), (True, False, True, False, True, False, True, False), (True, False, True, True, False, True, False, False), (True, False, False, True, False, True, True, False), (True, False, False, True, True, False, False, True), (True, False, True, False, False, True, False, True), (True, False, False, False, False, True, True, True), (False, True, True, True, True, False, False, False), (False, True, True, False, True, False, False, True), (False, True, True, False, False, True, True, False), (False, True, False, True, False, True, False, True), (False, True, False, True, True, False, True, False), (False, True, False, False, True, False, True, True)]\n",
      "term=((1, 'Y'), (2, 'Z'), (3, 'Z'), (4, 'Y'), (6, 'Y'), (7, 'Y')) pauli_string=[0 3 0 0 3 0 3 3],action_mask=(False, True, False, False, True, False, True, True)\n",
      "term=((1, 'X'), (2, 'Z'), (3, 'Z'), (4, 'X'), (6, 'X'), (7, 'X')) pauli_string=[0 2 0 0 2 0 2 2],action_mask=(False, True, False, False, True, False, True, True)\n",
      "term=((1, 'X'), (2, 'Z'), (3, 'Z'), (4, 'Y'), (6, 'Y'), (7, 'X')) pauli_string=[0 2 0 0 3 0 3 2],action_mask=(False, True, False, False, True, False, True, True)\n",
      "term=((1, 'Z'), (5, 'Z')) pauli_string=[0 0 0 0 0 0 0 0],action_mask=(False, False, False, False, False, False, False, False)\n",
      "term=((1, 'Z'), (6, 'Z')) pauli_string=[0 0 0 0 0 0 0 0],action_mask=(False, False, False, False, False, False, False, False)\n",
      "term=((1, 'Y'), (2, 'Z'), (3, 'Z'), (4, 'Z'), (5, 'Y'), (6, 'Z')) pauli_string=[0 3 0 0 0 3 0 0],action_mask=(False, True, False, False, False, True, False, False)\n",
      "term=((1, 'X'), (2, 'Z'), (3, 'Z'), (4, 'Z'), (5, 'X'), (6, 'Z')) pauli_string=[0 2 0 0 0 2 0 0],action_mask=(False, True, False, False, False, True, False, False)\n",
      "term=((1, 'Z'), (7, 'Z')) pauli_string=[0 0 0 0 0 0 0 0],action_mask=(False, False, False, False, False, False, False, False)\n",
      "term=((1, 'Y'), (2, 'Z'), (3, 'Z'), (4, 'Z'), (5, 'Y'), (7, 'Z')) pauli_string=[0 3 0 0 0 3 0 0],action_mask=(False, True, False, False, False, True, False, False)\n",
      "term=((1, 'X'), (2, 'Z'), (3, 'Z'), (4, 'Z'), (5, 'X'), (7, 'Z')) pauli_string=[0 2 0 0 0 2 0 0],action_mask=(False, True, False, False, False, True, False, False)\n",
      "term=((2, 'Z'), (3, 'Z')) pauli_string=[0 0 0 0 0 0 0 0],action_mask=(False, False, False, False, False, False, False, False)\n",
      "term=((2, 'Y'), (4, 'Z'), (5, 'Z'), (6, 'Y')) pauli_string=[0 0 3 0 0 0 3 0],action_mask=(False, False, True, False, False, False, True, False)\n",
      "term=((2, 'X'), (4, 'Z'), (5, 'Z'), (6, 'X')) pauli_string=[0 0 2 0 0 0 2 0],action_mask=(False, False, True, False, False, False, True, False)\n",
      "term=((2, 'Y'), (3, 'X'), (4, 'X'), (5, 'Y')) pauli_string=[0 0 3 2 2 3 0 0],action_mask=(False, False, True, True, True, True, False, False)\n",
      "##flip_index=2,pauli_string=[0 0 2 2 2 3 0 0],indices=[(True, False, False, False, True, False, False, False), (False, True, False, False, False, True, False, False), (False, False, True, False, False, False, True, False), (False, False, False, True, False, False, False, True), (True, True, True, True, False, False, False, False), (True, True, False, True, False, False, True, False), (True, True, False, False, True, True, False, False), (True, True, True, False, False, False, False, True), (True, True, False, False, False, False, True, True), (True, False, True, False, True, False, True, False), (True, False, True, True, False, True, False, False), (True, False, False, True, False, True, True, False), (True, False, False, True, True, False, False, True), (True, False, True, False, False, True, False, True), (True, False, False, False, False, True, True, True), (False, True, True, True, True, False, False, False), (False, True, True, False, True, False, False, True), (False, True, True, False, False, True, True, False), (False, True, False, True, False, True, False, True), (False, True, False, True, True, False, True, False), (False, True, False, False, True, False, True, True), (False, False, True, True, True, True, False, False)]\n",
      "term=((2, 'Y'), (3, 'Y'), (4, 'X'), (5, 'X')) pauli_string=[0 0 3 3 2 2 0 0],action_mask=(False, False, True, True, True, True, False, False)\n",
      "term=((2, 'X'), (3, 'X'), (4, 'Y'), (5, 'Y')) pauli_string=[0 0 2 2 3 3 0 0],action_mask=(False, False, True, True, True, True, False, False)\n",
      "term=((2, 'X'), (3, 'Y'), (4, 'Y'), (5, 'X')) pauli_string=[0 0 2 3 3 2 0 0],action_mask=(False, False, True, True, True, True, False, False)\n",
      "term=((2, 'Z'), (3, 'Y'), (4, 'Z'), (5, 'Z'), (6, 'Z'), (7, 'Y')) pauli_string=[0 0 0 3 0 0 0 3],action_mask=(False, False, False, True, False, False, False, True)\n",
      "term=((2, 'Z'), (3, 'X'), (4, 'Z'), (5, 'Z'), (6, 'Z'), (7, 'X')) pauli_string=[0 0 0 2 0 0 0 2],action_mask=(False, False, False, True, False, False, False, True)\n",
      "term=((2, 'Y'), (3, 'X'), (6, 'X'), (7, 'Y')) pauli_string=[0 0 3 2 0 0 2 3],action_mask=(False, False, True, True, False, False, True, True)\n",
      "##flip_index=2,pauli_string=[0 0 2 2 0 0 2 3],indices=[(True, False, False, False, True, False, False, False), (False, True, False, False, False, True, False, False), (False, False, True, False, False, False, True, False), (False, False, False, True, False, False, False, True), (True, True, True, True, False, False, False, False), (True, True, False, True, False, False, True, False), (True, True, False, False, True, True, False, False), (True, True, True, False, False, False, False, True), (True, True, False, False, False, False, True, True), (True, False, True, False, True, False, True, False), (True, False, True, True, False, True, False, False), (True, False, False, True, False, True, True, False), (True, False, False, True, True, False, False, True), (True, False, True, False, False, True, False, True), (True, False, False, False, False, True, True, True), (False, True, True, True, True, False, False, False), (False, True, True, False, True, False, False, True), (False, True, True, False, False, True, True, False), (False, True, False, True, False, True, False, True), (False, True, False, True, True, False, True, False), (False, True, False, False, True, False, True, True), (False, False, True, True, True, True, False, False), (False, False, True, True, False, False, True, True)]\n",
      "term=((2, 'Y'), (3, 'Y'), (6, 'X'), (7, 'X')) pauli_string=[0 0 3 3 0 0 2 2],action_mask=(False, False, True, True, False, False, True, True)\n",
      "term=((2, 'X'), (3, 'X'), (6, 'Y'), (7, 'Y')) pauli_string=[0 0 2 2 0 0 3 3],action_mask=(False, False, True, True, False, False, True, True)\n",
      "term=((2, 'X'), (3, 'Y'), (6, 'Y'), (7, 'X')) pauli_string=[0 0 2 3 0 0 3 2],action_mask=(False, False, True, True, False, False, True, True)\n",
      "term=((2, 'Z'), (4, 'Z')) pauli_string=[0 0 0 0 0 0 0 0],action_mask=(False, False, False, False, False, False, False, False)\n",
      "term=((2, 'Y'), (3, 'Z'), (5, 'Z'), (6, 'Y')) pauli_string=[0 0 3 0 0 0 3 0],action_mask=(False, False, True, False, False, False, True, False)\n",
      "term=((2, 'X'), (3, 'Z'), (5, 'Z'), (6, 'X')) pauli_string=[0 0 2 0 0 0 2 0],action_mask=(False, False, True, False, False, False, True, False)\n",
      "term=((2, 'Z'), (5, 'Z')) pauli_string=[0 0 0 0 0 0 0 0],action_mask=(False, False, False, False, False, False, False, False)\n",
      "term=((2, 'Y'), (3, 'Z'), (4, 'Z'), (6, 'Y')) pauli_string=[0 0 3 0 0 0 3 0],action_mask=(False, False, True, False, False, False, True, False)\n",
      "term=((2, 'X'), (3, 'Z'), (4, 'Z'), (6, 'X')) pauli_string=[0 0 2 0 0 0 2 0],action_mask=(False, False, True, False, False, False, True, False)\n",
      "term=((2, 'Y'), (3, 'Z'), (4, 'Y'), (5, 'Y'), (6, 'Z'), (7, 'Y')) pauli_string=[0 0 3 0 3 3 0 3],action_mask=(False, False, True, False, True, True, False, True)\n",
      "##flip_index=2,pauli_string=[0 0 2 0 3 3 0 3],indices=[(True, False, False, False, True, False, False, False), (False, True, False, False, False, True, False, False), (False, False, True, False, False, False, True, False), (False, False, False, True, False, False, False, True), (True, True, True, True, False, False, False, False), (True, True, False, True, False, False, True, False), (True, True, False, False, True, True, False, False), (True, True, True, False, False, False, False, True), (True, True, False, False, False, False, True, True), (True, False, True, False, True, False, True, False), (True, False, True, True, False, True, False, False), (True, False, False, True, False, True, True, False), (True, False, False, True, True, False, False, True), (True, False, True, False, False, True, False, True), (True, False, False, False, False, True, True, True), (False, True, True, True, True, False, False, False), (False, True, True, False, True, False, False, True), (False, True, True, False, False, True, True, False), (False, True, False, True, False, True, False, True), (False, True, False, True, True, False, True, False), (False, True, False, False, True, False, True, True), (False, False, True, True, True, True, False, False), (False, False, True, True, False, False, True, True), (False, False, True, False, True, True, False, True)]\n",
      "term=((2, 'Y'), (3, 'Z'), (4, 'Y'), (5, 'X'), (6, 'Z'), (7, 'X')) pauli_string=[0 0 3 0 3 2 0 2],action_mask=(False, False, True, False, True, True, False, True)\n",
      "term=((2, 'X'), (3, 'Z'), (4, 'X'), (5, 'Y'), (6, 'Z'), (7, 'Y')) pauli_string=[0 0 2 0 2 3 0 3],action_mask=(False, False, True, False, True, True, False, True)\n",
      "term=((2, 'X'), (3, 'Z'), (4, 'X'), (5, 'X'), (6, 'Z'), (7, 'X')) pauli_string=[0 0 2 0 2 2 0 2],action_mask=(False, False, True, False, True, True, False, True)\n",
      "term=((2, 'Z'), (6, 'Z')) pauli_string=[0 0 0 0 0 0 0 0],action_mask=(False, False, False, False, False, False, False, False)\n",
      "term=((2, 'Z'), (7, 'Z')) pauli_string=[0 0 0 0 0 0 0 0],action_mask=(False, False, False, False, False, False, False, False)\n",
      "term=((2, 'Y'), (3, 'Z'), (4, 'Z'), (5, 'Z'), (6, 'Y'), (7, 'Z')) pauli_string=[0 0 3 0 0 0 3 0],action_mask=(False, False, True, False, False, False, True, False)\n",
      "term=((2, 'X'), (3, 'Z'), (4, 'Z'), (5, 'Z'), (6, 'X'), (7, 'Z')) pauli_string=[0 0 2 0 0 0 2 0],action_mask=(False, False, True, False, False, False, True, False)\n",
      "term=((3, 'Z'), (4, 'Z')) pauli_string=[0 0 0 0 0 0 0 0],action_mask=(False, False, False, False, False, False, False, False)\n",
      "term=((3, 'Y'), (5, 'Z'), (6, 'Z'), (7, 'Y')) pauli_string=[0 0 0 3 0 0 0 3],action_mask=(False, False, False, True, False, False, False, True)\n",
      "term=((3, 'X'), (5, 'Z'), (6, 'Z'), (7, 'X')) pauli_string=[0 0 0 2 0 0 0 2],action_mask=(False, False, False, True, False, False, False, True)\n",
      "term=((3, 'Y'), (4, 'X'), (5, 'X'), (6, 'Y')) pauli_string=[0 0 0 3 2 2 3 0],action_mask=(False, False, False, True, True, True, True, False)\n",
      "##flip_index=3,pauli_string=[0 0 0 2 2 2 3 0],indices=[(True, False, False, False, True, False, False, False), (False, True, False, False, False, True, False, False), (False, False, True, False, False, False, True, False), (False, False, False, True, False, False, False, True), (True, True, True, True, False, False, False, False), (True, True, False, True, False, False, True, False), (True, True, False, False, True, True, False, False), (True, True, True, False, False, False, False, True), (True, True, False, False, False, False, True, True), (True, False, True, False, True, False, True, False), (True, False, True, True, False, True, False, False), (True, False, False, True, False, True, True, False), (True, False, False, True, True, False, False, True), (True, False, True, False, False, True, False, True), (True, False, False, False, False, True, True, True), (False, True, True, True, True, False, False, False), (False, True, True, False, True, False, False, True), (False, True, True, False, False, True, True, False), (False, True, False, True, False, True, False, True), (False, True, False, True, True, False, True, False), (False, True, False, False, True, False, True, True), (False, False, True, True, True, True, False, False), (False, False, True, True, False, False, True, True), (False, False, True, False, True, True, False, True), (False, False, False, True, True, True, True, False)]\n",
      "term=((3, 'Y'), (4, 'Y'), (5, 'X'), (6, 'X')) pauli_string=[0 0 0 3 3 2 2 0],action_mask=(False, False, False, True, True, True, True, False)\n",
      "term=((3, 'X'), (4, 'X'), (5, 'Y'), (6, 'Y')) pauli_string=[0 0 0 2 2 3 3 0],action_mask=(False, False, False, True, True, True, True, False)\n",
      "term=((3, 'X'), (4, 'Y'), (5, 'Y'), (6, 'X')) pauli_string=[0 0 0 2 3 3 2 0],action_mask=(False, False, False, True, True, True, True, False)\n",
      "term=((3, 'Z'), (5, 'Z')) pauli_string=[0 0 0 0 0 0 0 0],action_mask=(False, False, False, False, False, False, False, False)\n",
      "term=((3, 'Y'), (4, 'Z'), (6, 'Z'), (7, 'Y')) pauli_string=[0 0 0 3 0 0 0 3],action_mask=(False, False, False, True, False, False, False, True)\n",
      "term=((3, 'X'), (4, 'Z'), (6, 'Z'), (7, 'X')) pauli_string=[0 0 0 2 0 0 0 2],action_mask=(False, False, False, True, False, False, False, True)\n",
      "term=((3, 'Z'), (6, 'Z')) pauli_string=[0 0 0 0 0 0 0 0],action_mask=(False, False, False, False, False, False, False, False)\n",
      "term=((3, 'Y'), (4, 'Z'), (5, 'Z'), (7, 'Y')) pauli_string=[0 0 0 3 0 0 0 3],action_mask=(False, False, False, True, False, False, False, True)\n",
      "term=((3, 'X'), (4, 'Z'), (5, 'Z'), (7, 'X')) pauli_string=[0 0 0 2 0 0 0 2],action_mask=(False, False, False, True, False, False, False, True)\n",
      "term=((3, 'Z'), (7, 'Z')) pauli_string=[0 0 0 0 0 0 0 0],action_mask=(False, False, False, False, False, False, False, False)\n",
      "term=((4, 'Z'), (5, 'Z')) pauli_string=[0 0 0 0 0 0 0 0],action_mask=(False, False, False, False, False, False, False, False)\n",
      "term=((4, 'Y'), (5, 'X'), (6, 'X'), (7, 'Y')) pauli_string=[0 0 0 0 3 2 2 3],action_mask=(False, False, False, False, True, True, True, True)\n",
      "##flip_index=4,pauli_string=[0 0 0 0 2 2 2 3],indices=[(True, False, False, False, True, False, False, False), (False, True, False, False, False, True, False, False), (False, False, True, False, False, False, True, False), (False, False, False, True, False, False, False, True), (True, True, True, True, False, False, False, False), (True, True, False, True, False, False, True, False), (True, True, False, False, True, True, False, False), (True, True, True, False, False, False, False, True), (True, True, False, False, False, False, True, True), (True, False, True, False, True, False, True, False), (True, False, True, True, False, True, False, False), (True, False, False, True, False, True, True, False), (True, False, False, True, True, False, False, True), (True, False, True, False, False, True, False, True), (True, False, False, False, False, True, True, True), (False, True, True, True, True, False, False, False), (False, True, True, False, True, False, False, True), (False, True, True, False, False, True, True, False), (False, True, False, True, False, True, False, True), (False, True, False, True, True, False, True, False), (False, True, False, False, True, False, True, True), (False, False, True, True, True, True, False, False), (False, False, True, True, False, False, True, True), (False, False, True, False, True, True, False, True), (False, False, False, True, True, True, True, False), (False, False, False, False, True, True, True, True)]\n",
      "term=((4, 'Y'), (5, 'Y'), (6, 'X'), (7, 'X')) pauli_string=[0 0 0 0 3 3 2 2],action_mask=(False, False, False, False, True, True, True, True)\n",
      "term=((4, 'X'), (5, 'X'), (6, 'Y'), (7, 'Y')) pauli_string=[0 0 0 0 2 2 3 3],action_mask=(False, False, False, False, True, True, True, True)\n",
      "term=((4, 'X'), (5, 'Y'), (6, 'Y'), (7, 'X')) pauli_string=[0 0 0 0 2 3 3 2],action_mask=(False, False, False, False, True, True, True, True)\n",
      "term=((4, 'Z'), (6, 'Z')) pauli_string=[0 0 0 0 0 0 0 0],action_mask=(False, False, False, False, False, False, False, False)\n",
      "term=((4, 'Z'), (7, 'Z')) pauli_string=[0 0 0 0 0 0 0 0],action_mask=(False, False, False, False, False, False, False, False)\n",
      "term=((5, 'Z'), (6, 'Z')) pauli_string=[0 0 0 0 0 0 0 0],action_mask=(False, False, False, False, False, False, False, False)\n",
      "term=((5, 'Z'), (7, 'Z')) pauli_string=[0 0 0 0 0 0 0 0],action_mask=(False, False, False, False, False, False, False, False)\n",
      "term=((6, 'Z'), (7, 'Z')) pauli_string=[0 0 0 0 0 0 0 0],action_mask=(False, False, False, False, False, False, False, False)\n"
     ]
    }
   ],
   "source": [
    "qubit_pool = get_pool(qubit_hamiltonian=qubit_operator,n_qubits=n_qubits )"
   ]
  },
  {
   "cell_type": "code",
   "execution_count": 9,
   "metadata": {},
   "outputs": [
    {
     "data": {
      "text/plain": [
       "[1j [X0 Y4],\n",
       " 1j [X1 Y5],\n",
       " 1j [X2 Y6],\n",
       " 1j [X3 Y7],\n",
       " 1j [X0 X1 X2 Y3],\n",
       " 1j [X0 X1 X3 Y6],\n",
       " 1j [X0 X1 X4 Y5],\n",
       " 1j [X0 X1 X2 Y7],\n",
       " 1j [X0 X1 X6 Y7],\n",
       " 1j [X0 X2 X4 Y6],\n",
       " 1j [X0 Y2 Y3 Y5],\n",
       " 1j [X0 X3 X5 Y6],\n",
       " 1j [X0 X3 X4 Y7],\n",
       " 1j [X0 Y2 Y5 Y7],\n",
       " 1j [X0 X5 X6 Y7],\n",
       " 1j [X1 X2 X3 Y4],\n",
       " 1j [X1 X2 X4 Y7],\n",
       " 1j [X1 X2 X5 Y6],\n",
       " 1j [X1 X3 X5 Y7],\n",
       " 1j [X1 Y3 Y4 Y6],\n",
       " 1j [X1 X4 X6 Y7],\n",
       " 1j [X2 X3 X4 Y5],\n",
       " 1j [X2 X3 X6 Y7],\n",
       " 1j [X2 Y4 Y5 Y7],\n",
       " 1j [X3 X4 X5 Y6],\n",
       " 1j [X4 X5 X6 Y7]]"
      ]
     },
     "execution_count": 9,
     "metadata": {},
     "output_type": "execute_result"
    }
   ],
   "source": [
    "qubit_pool"
   ]
  },
  {
   "attachments": {},
   "cell_type": "markdown",
   "metadata": {},
   "source": [
    "### Qubit-Adapt VQE"
   ]
  },
  {
   "cell_type": "code",
   "execution_count": 51,
   "metadata": {},
   "outputs": [
    {
     "name": "stdout",
     "output_type": "stream",
     "text": [
      "term=((0, 'X'), (1, 'X'), (2, 'Y'), (3, 'Y')) pauli_string=[2 2 3 3],action_mask=(True, True, True, True)\n",
      "##flip_index=0,pauli_string=[3 2 3 3],indices=[(True, True, True, True)]\n",
      "term=((0, 'X'), (1, 'Y'), (2, 'Y'), (3, 'X')) pauli_string=[2 3 3 2],action_mask=(True, True, True, True)\n",
      "term=((0, 'Y'), (1, 'X'), (2, 'X'), (3, 'Y')) pauli_string=[3 2 2 3],action_mask=(True, True, True, True)\n",
      "term=((0, 'Y'), (1, 'Y'), (2, 'X'), (3, 'X')) pauli_string=[3 3 2 2],action_mask=(True, True, True, True)\n"
     ]
    }
   ],
   "source": [
    "# from tangelo.toolboxes.operators import QubitOperator\n",
    "# qubit_operator = QubitOperator(((0, 'X'), (1, 'X'), (2, 'Y'), (3, 'Y')), -1.0) \\\n",
    "#                   + QubitOperator(((0, 'X'), (1, 'Y'), (2, 'Y'), (3, 'X')), 1.0) \\\n",
    "#                   + QubitOperator(((0, 'Y'), (1, 'X'), (2, 'X'), (3, 'Y')), 1.0) \\\n",
    "#                   + QubitOperator(((0, 'Y'), (1, 'Y'), (2, 'X'), (3, 'X')), -1.0) \n",
    "pool_generators = get_pool(qubit_operator, n_qubits=4)\n",
    "# print(f'OPERATOR POOL: {pool_generators}')"
   ]
  },
  {
   "cell_type": "code",
   "execution_count": 16,
   "metadata": {},
   "outputs": [
    {
     "name": "stdout",
     "output_type": "stream",
     "text": [
      "{((0, 'X'), (1, 'X'), (2, 'Y'), (3, 'Y')): -1.0, ((0, 'X'), (1, 'Y'), (2, 'Y'), (3, 'X')): 1.0, ((0, 'Y'), (1, 'X'), (2, 'X'), (3, 'Y')): 1.0, ((0, 'Y'), (1, 'Y'), (2, 'X'), (3, 'X')): -1.0}\n",
      "index=0,action=X\n",
      "index=1,action=X\n",
      "index=2,action=Y\n",
      "index=3,action=Y\n",
      "index=0,action=X\n",
      "index=1,action=Y\n",
      "index=2,action=Y\n",
      "index=3,action=X\n",
      "index=0,action=Y\n",
      "index=1,action=X\n",
      "index=2,action=X\n",
      "index=3,action=Y\n",
      "index=0,action=Y\n",
      "index=1,action=Y\n",
      "index=2,action=X\n",
      "index=3,action=X\n",
      "[3 3 2 2]\n"
     ]
    }
   ],
   "source": [
    "\n",
    "qubit_hamiltonian=qubit_operator\n",
    "print(qubit_hamiltonian.terms)\n",
    "n_qubits=4\n",
    "pauli_lookup = {'Z': 1, 'X': 2, 'Y': 3}\n",
    "pauli_reverse_lookup = ['I', 'Z', 'X', 'Y']\n",
    "pool_generators, pool_tuples = list(), list()\n",
    "indices = list()\n",
    "for term in qubit_hamiltonian.terms:\n",
    "    pauli_string = np.zeros(n_qubits, dtype=int)\n",
    "    for index, action in term:\n",
    "        print(f'index={index},action={action}')\n",
    "        if pauli_lookup[action] > 1:\n",
    "            pauli_string[index] = pauli_lookup[action]\n",
    "    action_mask = tuple(pauli_string > 1)\n",
    "print(pauli_string)\n"
   ]
  },
  {
   "cell_type": "code",
   "execution_count": 19,
   "metadata": {},
   "outputs": [],
   "source": [
    "action_mask = tuple(pauli_string > 1)"
   ]
  },
  {
   "cell_type": "code",
   "execution_count": 20,
   "metadata": {},
   "outputs": [
    {
     "data": {
      "text/plain": [
       "array([3, 3, 2, 2])"
      ]
     },
     "execution_count": 20,
     "metadata": {},
     "output_type": "execute_result"
    }
   ],
   "source": [
    "pauli_string"
   ]
  },
  {
   "cell_type": "code",
   "execution_count": 26,
   "metadata": {},
   "outputs": [
    {
     "data": {
      "text/plain": [
       "(False, True, True, True)"
      ]
     },
     "execution_count": 26,
     "metadata": {},
     "output_type": "execute_result"
    }
   ],
   "source": [
    "x = np.array([1,2,3,4])\n",
    "tuple(x>1)"
   ]
  },
  {
   "cell_type": "code",
   "execution_count": 27,
   "metadata": {},
   "outputs": [
    {
     "data": {
      "text/plain": [
       "10"
      ]
     },
     "execution_count": 27,
     "metadata": {},
     "output_type": "execute_result"
    }
   ],
   "source": [
    "sum(pauli_string)"
   ]
  },
  {
   "cell_type": "code",
   "execution_count": 34,
   "metadata": {},
   "outputs": [
    {
     "data": {
      "text/plain": [
       "2"
      ]
     },
     "execution_count": 34,
     "metadata": {},
     "output_type": "execute_result"
    }
   ],
   "source": [
    "np.where(pauli_string > 1)[0][0]"
   ]
  },
  {
   "cell_type": "code",
   "execution_count": 31,
   "metadata": {},
   "outputs": [],
   "source": [
    "pauli_string=np.array([0,1,2,3])"
   ]
  },
  {
   "cell_type": "code",
   "execution_count": null,
   "metadata": {},
   "outputs": [],
   "source": []
  }
 ],
 "metadata": {
  "kernelspec": {
   "display_name": "QISKIT_WSL2",
   "language": "python",
   "name": "python3"
  },
  "language_info": {
   "codemirror_mode": {
    "name": "ipython",
    "version": 3
   },
   "file_extension": ".py",
   "mimetype": "text/x-python",
   "name": "python",
   "nbconvert_exporter": "python",
   "pygments_lexer": "ipython3",
   "version": "3.10.6 (main, Oct 24 2022, 16:07:47) [GCC 11.2.0]"
  },
  "orig_nbformat": 4,
  "vscode": {
   "interpreter": {
    "hash": "54e28563ef8f1dd6dc056397af37857e89f17a7fb558808f10e4042dc705258e"
   }
  }
 },
 "nbformat": 4,
 "nbformat_minor": 2
}
