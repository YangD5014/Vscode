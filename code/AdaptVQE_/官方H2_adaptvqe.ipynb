{
 "cells": [
  {
   "cell_type": "code",
   "execution_count": 1,
   "metadata": {},
   "outputs": [
    {
     "name": "stderr",
     "output_type": "stream",
     "text": [
      "/tmp/ipykernel_22048/1528283346.py:17: NatureDeprecationWarning: The qiskit_nature.algorithms.excited_state_solvers package is deprecated as of version 0.5.0 and will be removed no sooner than 3 months after the release. Instead use the qiskit_nature.second_q.algorithms.excited_state_solvers package.\n",
      "  from qiskit_nature.algorithms.ground_state_solvers.minimum_eigensolver_factories import NumPyMinimumEigensolverFactory\n",
      "/tmp/ipykernel_22048/1528283346.py:17: NatureDeprecationWarning: The qiskit_nature.algorithms.pes_sampler package is deprecated as of version 0.5.0 and will be removed no sooner than 3 months after the release . Please refer to 'https://github.com/Qiskit/qiskit-nature/issues/750' for additional information regarding 'extrapolators'.\n",
      "  from qiskit_nature.algorithms.ground_state_solvers.minimum_eigensolver_factories import NumPyMinimumEigensolverFactory\n"
     ]
    }
   ],
   "source": [
    "#from Adapt import AdaptVQE_Y\n",
    "\n",
    "from qiskit_nature.drivers import Molecule\n",
    "from qiskit_nature.drivers.second_quantization import ElectronicStructureMoleculeDriver, ElectronicStructureDriverType\n",
    "from qiskit_nature.mappers.second_quantization import ParityMapper, BravyiKitaevMapper, JordanWignerMapper\n",
    "from qiskit_nature.converters.second_quantization import QubitConverter\n",
    "from qiskit_nature.problems.second_quantization.electronic import ElectronicStructureProblem\n",
    "from qiskit_nature.transformers.second_quantization.electronic import ActiveSpaceTransformer\n",
    "import warnings\n",
    "from qiskit_nature.circuit.library import HartreeFock,UCCSD\n",
    "from qiskit import Aer\n",
    "from qiskit.algorithms.optimizers import COBYLA, L_BFGS_B, SPSA, SLSQP\n",
    "\n",
    "from qiskit.algorithms.minimum_eigensolvers import VQE\n",
    "from qiskit.primitives import Estimator\n",
    "\n",
    "from qiskit_nature.algorithms.ground_state_solvers.minimum_eigensolver_factories import NumPyMinimumEigensolverFactory\n",
    "from qiskit_nature.algorithms.ground_state_solvers.minimum_eigensolver_factories import NumPyMinimumEigensolverFactory\n",
    "from qiskit_nature.algorithms.ground_state_solvers import GroundStateEigensolver\n",
    "from qiskit_nature.second_q.drivers import PySCFDriver\n",
    "from qiskit.algorithms.minimum_eigensolvers import AdaptVQE\n",
    "\n",
    "from qiskit_nature.settings import QiskitNatureSettings\n",
    "QiskitNatureSettings.dict_aux_operators = True\n",
    "\n",
    "import numpy as np \n",
    "warnings.filterwarnings(\"ignore\")"
   ]
  },
  {
   "cell_type": "code",
   "execution_count": 2,
   "metadata": {},
   "outputs": [],
   "source": [
    "driver = PySCFDriver(atom=\"H 0 0 0; H 0 0 0.735\", basis=\"sto-3g\")\n",
    "problem = driver.run()\n",
    "converter = QubitConverter(JordanWignerMapper())\n",
    "init_state = HartreeFock(num_particles=problem.num_particles,num_spin_orbitals=problem.num_spin_orbitals,qubit_converter=converter)\n",
    "ansatz = UCCSD(num_particles=problem.num_particles,\n",
    "               num_spin_orbitals=problem.num_spin_orbitals,\n",
    "               initial_state=init_state,qubit_converter=converter)\n",
    "vqe =VQE(Estimator(),ansatz,SLSQP())\n",
    "vqe.initial_point = np.zeros(ansatz.num_parameters)\n",
    "adapt_vqe = AdaptVQE(vqe)\n",
    "adapt_vqe.supports_aux_operators = lambda: True  # temporary fix"
   ]
  },
  {
   "cell_type": "code",
   "execution_count": 4,
   "metadata": {},
   "outputs": [
    {
     "ename": "AttributeError",
     "evalue": "'FermionicOp' object has no attribute 'to_list'",
     "output_type": "error",
     "traceback": [
      "\u001b[0;31m---------------------------------------------------------------------------\u001b[0m",
      "\u001b[0;31mAttributeError\u001b[0m                            Traceback (most recent call last)",
      "\u001b[1;32m/home/yangjianfei/code/AdaptVQE_/官方H2_adaptvqe.ipynb Cell 3\u001b[0m in \u001b[0;36m<cell line: 3>\u001b[0;34m()\u001b[0m\n\u001b[1;32m      <a href='vscode-notebook-cell://wsl%2Bubuntu/home/yangjianfei/code/AdaptVQE_/%E5%AE%98%E6%96%B9H2_adaptvqe.ipynb#W2sdnNjb2RlLXJlbW90ZQ%3D%3D?line=0'>1</a>\u001b[0m \u001b[39mfrom\u001b[39;00m \u001b[39mqiskit_nature\u001b[39;00m\u001b[39m.\u001b[39;00m\u001b[39msecond_q\u001b[39;00m\u001b[39m.\u001b[39;00m\u001b[39malgorithms\u001b[39;00m \u001b[39mimport\u001b[39;00m GroundStateEigensolver\n\u001b[1;32m      <a href='vscode-notebook-cell://wsl%2Bubuntu/home/yangjianfei/code/AdaptVQE_/%E5%AE%98%E6%96%B9H2_adaptvqe.ipynb#W2sdnNjb2RlLXJlbW90ZQ%3D%3D?line=1'>2</a>\u001b[0m solver \u001b[39m=\u001b[39m GroundStateEigensolver(converter, adapt_vqe)\n\u001b[0;32m----> <a href='vscode-notebook-cell://wsl%2Bubuntu/home/yangjianfei/code/AdaptVQE_/%E5%AE%98%E6%96%B9H2_adaptvqe.ipynb#W2sdnNjb2RlLXJlbW90ZQ%3D%3D?line=2'>3</a>\u001b[0m result \u001b[39m=\u001b[39m solver\u001b[39m.\u001b[39;49msolve(problem)\n",
      "File \u001b[0;32m~/miniconda3/envs/QISKIT_WSL2/lib/python3.10/site-packages/qiskit_nature/second_q/algorithms/ground_state_solvers/ground_state_eigensolver.py:76\u001b[0m, in \u001b[0;36mGroundStateEigensolver.solve\u001b[0;34m(self, problem, aux_operators)\u001b[0m\n\u001b[1;32m     53\u001b[0m \u001b[39mdef\u001b[39;00m \u001b[39msolve\u001b[39m(\n\u001b[1;32m     54\u001b[0m     \u001b[39mself\u001b[39m,\n\u001b[1;32m     55\u001b[0m     problem: BaseProblem,\n\u001b[1;32m     56\u001b[0m     aux_operators: \u001b[39mdict\u001b[39m[\u001b[39mstr\u001b[39m, SparseLabelOp \u001b[39m|\u001b[39m QubitOperator] \u001b[39m|\u001b[39m \u001b[39mNone\u001b[39;00m \u001b[39m=\u001b[39m \u001b[39mNone\u001b[39;00m,\n\u001b[1;32m     57\u001b[0m ) \u001b[39m-\u001b[39m\u001b[39m>\u001b[39m EigenstateResult:\n\u001b[1;32m     58\u001b[0m     \u001b[39m\"\"\"Compute Ground State properties.\u001b[39;00m\n\u001b[1;32m     59\u001b[0m \n\u001b[1;32m     60\u001b[0m \u001b[39m    Args:\u001b[39;00m\n\u001b[0;32m   (...)\u001b[0m\n\u001b[1;32m     74\u001b[0m \u001b[39m        :meth:`~.BaseProblem.interpret`.\u001b[39;00m\n\u001b[1;32m     75\u001b[0m \u001b[39m    \"\"\"\u001b[39;00m\n\u001b[0;32m---> 76\u001b[0m     main_operator, aux_ops \u001b[39m=\u001b[39m \u001b[39mself\u001b[39;49m\u001b[39m.\u001b[39;49mget_qubit_operators(problem, aux_operators)\n\u001b[1;32m     77\u001b[0m     raw_mes_result \u001b[39m=\u001b[39m \u001b[39mself\u001b[39m\u001b[39m.\u001b[39msolver\u001b[39m.\u001b[39mcompute_minimum_eigenvalue(  \u001b[39m# type: ignore\u001b[39;00m\n\u001b[1;32m     78\u001b[0m         main_operator, aux_ops\n\u001b[1;32m     79\u001b[0m     )\n\u001b[1;32m     81\u001b[0m     eigenstate_result \u001b[39m=\u001b[39m EigenstateResult\u001b[39m.\u001b[39mfrom_result(raw_mes_result)\n",
      "File \u001b[0;32m~/miniconda3/envs/QISKIT_WSL2/lib/python3.10/site-packages/qiskit_nature/second_q/algorithms/ground_state_solvers/ground_state_eigensolver.py:99\u001b[0m, in \u001b[0;36mGroundStateEigensolver.get_qubit_operators\u001b[0;34m(self, problem, aux_operators)\u001b[0m\n\u001b[1;32m     96\u001b[0m \u001b[39mif\u001b[39;00m \u001b[39mhasattr\u001b[39m(problem, \u001b[39m\"\u001b[39m\u001b[39mnum_particles\u001b[39m\u001b[39m\"\u001b[39m):\n\u001b[1;32m     97\u001b[0m     num_particles \u001b[39m=\u001b[39m problem\u001b[39m.\u001b[39mnum_particles  \u001b[39m# type: ignore[attr-defined]\u001b[39;00m\n\u001b[0;32m---> 99\u001b[0m main_operator \u001b[39m=\u001b[39m \u001b[39mself\u001b[39;49m\u001b[39m.\u001b[39;49m_qubit_converter\u001b[39m.\u001b[39;49mconvert(\n\u001b[1;32m    100\u001b[0m     main_second_q_op,\n\u001b[1;32m    101\u001b[0m     num_particles\u001b[39m=\u001b[39;49mnum_particles,\n\u001b[1;32m    102\u001b[0m     sector_locator\u001b[39m=\u001b[39;49mproblem\u001b[39m.\u001b[39;49msymmetry_sector_locator,\n\u001b[1;32m    103\u001b[0m )\n\u001b[1;32m    104\u001b[0m aux_ops \u001b[39m=\u001b[39m \u001b[39mself\u001b[39m\u001b[39m.\u001b[39m_qubit_converter\u001b[39m.\u001b[39mconvert_match(aux_second_q_ops)\n\u001b[1;32m    105\u001b[0m \u001b[39mif\u001b[39;00m aux_operators \u001b[39mis\u001b[39;00m \u001b[39mnot\u001b[39;00m \u001b[39mNone\u001b[39;00m:\n",
      "File \u001b[0;32m~/miniconda3/envs/QISKIT_WSL2/lib/python3.10/site-packages/qiskit_nature/converters/second_quantization/qubit_converter.py:179\u001b[0m, in \u001b[0;36mQubitConverter.convert\u001b[0;34m(self, second_q_op, num_particles, sector_locator)\u001b[0m\n\u001b[1;32m    153\u001b[0m \u001b[39mdef\u001b[39;00m \u001b[39mconvert\u001b[39m(\n\u001b[1;32m    154\u001b[0m     \u001b[39mself\u001b[39m,\n\u001b[1;32m    155\u001b[0m     second_q_op: SecondQuantizedOp,\n\u001b[0;32m   (...)\u001b[0m\n\u001b[1;32m    159\u001b[0m     ] \u001b[39m=\u001b[39m \u001b[39mNone\u001b[39;00m,\n\u001b[1;32m    160\u001b[0m ) \u001b[39m-\u001b[39m\u001b[39m>\u001b[39m PauliSumOp:\n\u001b[1;32m    161\u001b[0m     \u001b[39m\"\"\"\u001b[39;00m\n\u001b[1;32m    162\u001b[0m \u001b[39m    Map the given second quantized operator to a qubit operators. Also it will\u001b[39;00m\n\u001b[1;32m    163\u001b[0m \u001b[39m    carry out z2 symmetry reduction on the qubit operators if z2symmetry_reduction has\u001b[39;00m\n\u001b[0;32m   (...)\u001b[0m\n\u001b[1;32m    177\u001b[0m \u001b[39m        PauliSumOp qubit operator\u001b[39;00m\n\u001b[1;32m    178\u001b[0m \u001b[39m    \"\"\"\u001b[39;00m\n\u001b[0;32m--> 179\u001b[0m     qubit_op \u001b[39m=\u001b[39m \u001b[39mself\u001b[39;49m\u001b[39m.\u001b[39;49m_map(second_q_op)\n\u001b[1;32m    180\u001b[0m     reduced_op \u001b[39m=\u001b[39m \u001b[39mself\u001b[39m\u001b[39m.\u001b[39m_two_qubit_reduce(qubit_op, num_particles)\n\u001b[1;32m    181\u001b[0m     tapered_op, z2symmetries \u001b[39m=\u001b[39m \u001b[39mself\u001b[39m\u001b[39m.\u001b[39m_find_taper_op(reduced_op, sector_locator)\n",
      "File \u001b[0;32m~/miniconda3/envs/QISKIT_WSL2/lib/python3.10/site-packages/qiskit_nature/converters/second_quantization/qubit_converter.py:341\u001b[0m, in \u001b[0;36mQubitConverter._map\u001b[0;34m(self, second_q_op)\u001b[0m\n\u001b[1;32m    340\u001b[0m \u001b[39mdef\u001b[39;00m \u001b[39m_map\u001b[39m(\u001b[39mself\u001b[39m, second_q_op: SecondQuantizedOp) \u001b[39m-\u001b[39m\u001b[39m>\u001b[39m PauliSumOp:\n\u001b[0;32m--> 341\u001b[0m     \u001b[39mreturn\u001b[39;00m \u001b[39mself\u001b[39;49m\u001b[39m.\u001b[39;49m_mapper\u001b[39m.\u001b[39;49mmap(second_q_op)\n",
      "File \u001b[0;32m~/miniconda3/envs/QISKIT_WSL2/lib/python3.10/site-packages/qiskit_nature/mappers/second_quantization/jordan_wigner_mapper.py:47\u001b[0m, in \u001b[0;36mJordanWignerMapper.map\u001b[0;34m(self, second_q_op)\u001b[0m\n\u001b[1;32m     44\u001b[0m     pauli_table\u001b[39m.\u001b[39mappend((Pauli((a_z, a_x)), Pauli((b_z, b_x))))\n\u001b[1;32m     45\u001b[0m     \u001b[39m# TODO add Pauli 3-tuple to lookup table\u001b[39;00m\n\u001b[0;32m---> 47\u001b[0m \u001b[39mreturn\u001b[39;00m QubitMapper\u001b[39m.\u001b[39;49mmode_based_mapping(second_q_op, pauli_table)\n",
      "File \u001b[0;32m~/miniconda3/envs/QISKIT_WSL2/lib/python3.10/site-packages/qiskit_nature/mappers/second_quantization/qubit_mapper.py:122\u001b[0m, in \u001b[0;36mQubitMapper.mode_based_mapping\u001b[0;34m(second_q_op, pauli_table)\u001b[0m\n\u001b[1;32m    115\u001b[0m ret_op_list \u001b[39m=\u001b[39m [SparsePauliOp(\u001b[39m\"\u001b[39m\u001b[39mI\u001b[39m\u001b[39m\"\u001b[39m \u001b[39m*\u001b[39m nmodes, coeffs\u001b[39m=\u001b[39m[\u001b[39m0\u001b[39m])]\n\u001b[1;32m    117\u001b[0m \u001b[39m# TODO to_list() is not an attribute of SecondQuantizedOp. Change the former to have this or\u001b[39;00m\n\u001b[1;32m    118\u001b[0m \u001b[39m#   change the signature above to take FermionicOp?\u001b[39;00m\n\u001b[1;32m    119\u001b[0m label_coeff_list \u001b[39m=\u001b[39m (\n\u001b[1;32m    120\u001b[0m     second_q_op\u001b[39m.\u001b[39mto_list(display_format\u001b[39m=\u001b[39m\u001b[39m\"\u001b[39m\u001b[39mdense\u001b[39m\u001b[39m\"\u001b[39m)\n\u001b[1;32m    121\u001b[0m     \u001b[39mif\u001b[39;00m \u001b[39misinstance\u001b[39m(second_q_op, FermionicOp)\n\u001b[0;32m--> 122\u001b[0m     \u001b[39melse\u001b[39;00m second_q_op\u001b[39m.\u001b[39;49mto_list()\n\u001b[1;32m    123\u001b[0m )\n\u001b[1;32m    124\u001b[0m \u001b[39mfor\u001b[39;00m label, coeff \u001b[39min\u001b[39;00m label_coeff_list:\n\u001b[1;32m    125\u001b[0m \n\u001b[1;32m    126\u001b[0m     \u001b[39m# 1. Initialize an operator list with the identity scaled by the `self.coeff`\u001b[39;00m\n\u001b[1;32m    127\u001b[0m     ret_op \u001b[39m=\u001b[39m SparsePauliOp(\u001b[39m\"\u001b[39m\u001b[39mI\u001b[39m\u001b[39m\"\u001b[39m \u001b[39m*\u001b[39m nmodes, coeffs\u001b[39m=\u001b[39m[coeff])\n",
      "\u001b[0;31mAttributeError\u001b[0m: 'FermionicOp' object has no attribute 'to_list'"
     ]
    }
   ],
   "source": [
    "from qiskit_nature.second_q.algorithms import GroundStateEigensolver\n",
    "solver = GroundStateEigensolver(converter, adapt_vqe)\n",
    "result = solver.solve(problem)"
   ]
  },
  {
   "cell_type": "code",
   "execution_count": null,
   "metadata": {},
   "outputs": [],
   "source": []
  }
 ],
 "metadata": {
  "kernelspec": {
   "display_name": "Python 3.10.6 ('QISKIT_WSL2': conda)",
   "language": "python",
   "name": "python3"
  },
  "language_info": {
   "codemirror_mode": {
    "name": "ipython",
    "version": 3
   },
   "file_extension": ".py",
   "mimetype": "text/x-python",
   "name": "python",
   "nbconvert_exporter": "python",
   "pygments_lexer": "ipython3",
   "version": "3.10.6"
  },
  "orig_nbformat": 4,
  "vscode": {
   "interpreter": {
    "hash": "54e28563ef8f1dd6dc056397af37857e89f17a7fb558808f10e4042dc705258e"
   }
  }
 },
 "nbformat": 4,
 "nbformat_minor": 2
}
