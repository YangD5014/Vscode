{
 "cells": [
  {
   "cell_type": "code",
   "execution_count": 2,
   "id": "854d4678",
   "metadata": {},
   "outputs": [
    {
     "data": {
      "text/html": [
       "<div>\n",
       "<style scoped>\n",
       "    .dataframe tbody tr th:only-of-type {\n",
       "        vertical-align: middle;\n",
       "    }\n",
       "\n",
       "    .dataframe tbody tr th {\n",
       "        vertical-align: top;\n",
       "    }\n",
       "\n",
       "    .dataframe thead th {\n",
       "        text-align: right;\n",
       "    }\n",
       "</style>\n",
       "<table border=\"1\" class=\"dataframe\">\n",
       "  <thead>\n",
       "    <tr style=\"text-align: right;\">\n",
       "      <th></th>\n",
       "      <th>a</th>\n",
       "      <th>b</th>\n",
       "    </tr>\n",
       "  </thead>\n",
       "  <tbody>\n",
       "    <tr>\n",
       "      <th>995</th>\n",
       "      <td>1.349675</td>\n",
       "      <td>-1.492820</td>\n",
       "    </tr>\n",
       "    <tr>\n",
       "      <th>996</th>\n",
       "      <td>-0.934850</td>\n",
       "      <td>-1.966114</td>\n",
       "    </tr>\n",
       "    <tr>\n",
       "      <th>997</th>\n",
       "      <td>-2.544583</td>\n",
       "      <td>-4.381028</td>\n",
       "    </tr>\n",
       "    <tr>\n",
       "      <th>998</th>\n",
       "      <td>-0.322864</td>\n",
       "      <td>-0.506302</td>\n",
       "    </tr>\n",
       "    <tr>\n",
       "      <th>999</th>\n",
       "      <td>3.279953</td>\n",
       "      <td>8.624957</td>\n",
       "    </tr>\n",
       "  </tbody>\n",
       "</table>\n",
       "</div>"
      ],
      "text/plain": [
       "            a         b\n",
       "995  1.349675 -1.492820\n",
       "996 -0.934850 -1.966114\n",
       "997 -2.544583 -4.381028\n",
       "998 -0.322864 -0.506302\n",
       "999  3.279953  8.624957"
      ]
     },
     "execution_count": 2,
     "metadata": {},
     "output_type": "execute_result"
    }
   ],
   "source": [
    "import pandas as pd\n",
    "import numpy as np\n",
    "import seaborn as sns\n",
    "# 读取数据集\n",
    "df = pd.read_csv(r\"./data1-ForPCA.csv\",\n",
    "     sep=',',\n",
    "     header=None).reset_index(drop=True)\n",
    "df.columns = ['a','b']\n",
    "df.dropna(how=\"all\", inplace=True)\n",
    "df.tail()"
   ]
  },
  {
   "cell_type": "code",
   "execution_count": 3,
   "id": "cb07ae52",
   "metadata": {},
   "outputs": [
    {
     "name": "stdout",
     "output_type": "stream",
     "text": [
      "[[-1.05539503 -1.09529999]\n",
      " [-0.61113269 -0.5650563 ]\n",
      " [-0.89806689 -1.06159913]\n",
      " ...\n",
      " [-0.96322155 -1.00679731]\n",
      " [-0.11668165 -0.1120771 ]\n",
      " [ 1.25609648  1.99643873]]\n"
     ]
    }
   ],
   "source": [
    "# 标准化\n",
    "from sklearn import preprocessing\n",
    "from sklearn.preprocessing import StandardScaler\n",
    "X = df.iloc[:, 0:3].values\n",
    "Y = df.iloc[:, 1].values\n",
    "X_std = StandardScaler().fit_transform(X)\n",
    "\n",
    "df = preprocessing.scale(df)\n",
    "print(df)\n"
   ]
  },
  {
   "cell_type": "code",
   "execution_count": 4,
   "id": "a536206b",
   "metadata": {},
   "outputs": [
    {
     "name": "stdout",
     "output_type": "stream",
     "text": [
      "[1.903 0.097] [[ 0.70710678 -0.70710678]\n",
      " [ 0.70710678  0.70710678]]\n"
     ]
    }
   ],
   "source": [
    "# 系数相关性矩阵\n",
    "covX = np.around(np.corrcoef(df.T), decimals = 3)\n",
    "# 系数相关矩阵特征求解\n",
    "featValue, featVec=  np.linalg.eig(covX.T)\n",
    "print(featValue, featVec)"
   ]
  },
  {
   "cell_type": "code",
   "execution_count": 5,
   "id": "b7917e49",
   "metadata": {},
   "outputs": [
    {
     "name": "stdout",
     "output_type": "stream",
     "text": [
      "[1.903, 0.09700000000000009] [0.9515 0.0485] [0.9515 1.    ]\n"
     ]
    }
   ],
   "source": [
    "# 特征值排序输出\n",
    "featValue = sorted(featValue)[::-1]\n",
    "\n",
    "# 贡献度\n",
    "gx = featValue / np.sum(featValue)\n",
    "\n",
    "#累计贡献度\n",
    "lg = np.cumsum(gx)\n",
    "print(featValue, gx, lg)"
   ]
  },
  {
   "cell_type": "code",
   "execution_count": 6,
   "id": "6e8d3584",
   "metadata": {},
   "outputs": [
    {
     "name": "stdout",
     "output_type": "stream",
     "text": [
      "[]\n"
     ]
    }
   ],
   "source": [
    "# 选取主成分，一般要超过80%或85%\n",
    "k = [i for i in range(len(lg)) if lg[i] < 0.85]\n",
    "k = list(k)\n",
    "print(k)"
   ]
  },
  {
   "cell_type": "code",
   "execution_count": 65,
   "id": "e82922c7",
   "metadata": {},
   "outputs": [
    {
     "name": "stdout",
     "output_type": "stream",
     "text": [
      "[]\n",
      "[]\n"
     ]
    }
   ],
   "source": [
    "# 主成分对应的特征向量矩阵\n",
    "selectVec = np.matrix(featVec.T[k]).T\n",
    "selectVe = selectVec*(-1)\n",
    "print(selectVec)\n",
    "\n",
    "# 表示主成分\n",
    "finalData = np.dot(X_std, selectVec)\n",
    "print(finalData)"
   ]
  },
  {
   "cell_type": "code",
   "execution_count": 37,
   "id": "89746cfb",
   "metadata": {},
   "outputs": [
    {
     "data": {
      "image/png": "[encoded data removed]",
      "text/plain": [
       "<Figure size 432x288 with 1 Axes>"
      ]
     },
     "metadata": {
      "needs_background": "light"
     },
     "output_type": "display_data"
    }
   ],
   "source": [
    "import matplotlib.pyplot as plt\n",
    "# 绘制散点图和折线图\n",
    "plt.scatter(range(1, df.shape[1] + 1), featValue)\n",
    "plt.plot(range(1, df.shape[1] + 1), featValue)\n",
    "\n",
    "plt.title(\"Plot\")  \n",
    "plt.xlabel(\"Factors\")\n",
    "plt.ylabel(\"Eigenvalue\")\n",
    " \n",
    "plt.grid()\n",
    "plt.show()\n"
   ]
  },
  {
   "cell_type": "code",
   "execution_count": null,
   "id": "9f69eba8",
   "metadata": {},
   "outputs": [],
   "source": []
  }
 ],
 "metadata": {
  "kernelspec": {
   "display_name": "QISKIT_WSL2",
   "language": "python",
   "name": "python3"
  },
  "language_info": {
   "codemirror_mode": {
    "name": "ipython",
    "version": 3
   },
   "file_extension": ".py",
   "mimetype": "text/x-python",
   "name": "python",
   "nbconvert_exporter": "python",
   "pygments_lexer": "ipython3",
   "version": "3.10.6"
  },
  "vscode": {
   "interpreter": {
    "hash": "54e28563ef8f1dd6dc056397af37857e89f17a7fb558808f10e4042dc705258e"
   }
  }
 },
 "nbformat": 4,
 "nbformat_minor": 5
}
