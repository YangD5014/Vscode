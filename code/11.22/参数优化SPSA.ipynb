{
 "cells": [
  {
   "cell_type": "code",
   "execution_count": 5,
   "metadata": {},
   "outputs": [
    {
     "data": {
      "image/png": "[encoded data removed]",
      "text/plain": [
       "<Figure size 454.517x200.667 with 1 Axes>"
      ]
     },
     "metadata": {},
     "output_type": "display_data"
    }
   ],
   "source": [
    "import numpy as np\n",
    "from qiskit.algorithms.optimizers import SPSA\n",
    "from qiskit.circuit.library import PauliTwoDesign\n",
    "from qiskit.opflow import Z, StateFn\n",
    "from qiskit.primitives import Estimator\n",
    "from qiskit.quantum_info import SparsePauliOp\n",
    "\n",
    "ansatz = PauliTwoDesign(2, reps=1, seed=2)\n",
    "display(ansatz.decompose().draw('mpl'))\n",
    "observable = Z ^ Z\n",
    "observable2 = SparsePauliOp(['ZZ'])\n",
    "initial_point = np.random.random(ansatz.num_parameters)\n",
    "\n",
    "def loss(x):\n",
    "    bound = ansatz.bind_parameters(x)\n",
    "    return np.real((StateFn(observable, is_measurement=True) @ StateFn(bound)).eval())\n",
    "\n",
    "def loss2(x):\n",
    "    bound = ansatz.bind_parameters(x)\n",
    "    estimator = Estimator()\n",
    "    job = estimator.run(circuits=bound,observables=observable2)\n",
    "    result = job.result()\n",
    "    return result.values[0]\n"
   ]
  },
  {
   "cell_type": "code",
   "execution_count": 18,
   "metadata": {},
   "outputs": [
    {
     "data": {
      "text/plain": [
       "array([0.52589483, 0.61834127, 0.31994372, 0.9309572 ])"
      ]
     },
     "execution_count": 18,
     "metadata": {},
     "output_type": "execute_result"
    }
   ],
   "source": [
    "initial_point"
   ]
  },
  {
   "cell_type": "code",
   "execution_count": 7,
   "metadata": {},
   "outputs": [
    {
     "name": "stdout",
     "output_type": "stream",
     "text": [
      "[ 0.71835935  1.98471085 -0.70998519  1.01626894]\n"
     ]
    }
   ],
   "source": [
    "spsa = SPSA(maxiter=300)\n",
    "result1 = spsa.minimize(fun=loss2,x0=initial_point)\n",
    "print(result1.x)\n",
    "# result2 = spsa.optimize(ansatz.num_parameters, loss, initial_point=initial_point)\n",
    "# two_spsa2 = SPSA(maxiter=300, second_order=True)\n",
    "# result3 = two_spsa2.optimize(ansatz.num_parameters, loss, initial_point=initial_point)"
   ]
  },
  {
   "cell_type": "code",
   "execution_count": 17,
   "metadata": {},
   "outputs": [
    {
     "name": "stdout",
     "output_type": "stream",
     "text": [
      "first optimizer outcome:[-0.56766772  1.26036993 -0.67414114  1.99515681]\n",
      "second optimizer outcome:[-0.59966684  1.23774584 -0.68087141  2.02236071]\n",
      "     third optimizer outcome:[ 6.47069168  1.66438136  2.51912471 10.86241632]\n"
     ]
    }
   ],
   "source": [
    "print(f'first optimizer outcome:{result1.x}\\nsecond optimizer outcome:{result2[0]}\\n \\\n",
    "    third optimizer outcome:{result3[0]}')"
   ]
  },
  {
   "cell_type": "code",
   "execution_count": 14,
   "metadata": {},
   "outputs": [
    {
     "data": {
      "text/plain": [
       "array([ 6.47069168,  1.66438136,  2.51912471, 10.86241632])"
      ]
     },
     "execution_count": 14,
     "metadata": {},
     "output_type": "execute_result"
    }
   ],
   "source": [
    "result3[0]"
   ]
  },
  {
   "cell_type": "code",
   "execution_count": null,
   "metadata": {},
   "outputs": [],
   "source": []
  }
 ],
 "metadata": {
  "kernelspec": {
   "display_name": "Python 3.10.6 ('QISKIT_WSL2': conda)",
   "language": "python",
   "name": "python3"
  },
  "language_info": {
   "codemirror_mode": {
    "name": "ipython",
    "version": 3
   },
   "file_extension": ".py",
   "mimetype": "text/x-python",
   "name": "python",
   "nbconvert_exporter": "python",
   "pygments_lexer": "ipython3",
   "version": "3.10.6"
  },
  "orig_nbformat": 4,
  "vscode": {
   "interpreter": {
    "hash": "54e28563ef8f1dd6dc056397af37857e89f17a7fb558808f10e4042dc705258e"
   }
  }
 },
 "nbformat": 4,
 "nbformat_minor": 2
}
