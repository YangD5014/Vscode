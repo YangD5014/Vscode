{
 "cells": [
  {
   "cell_type": "markdown",
   "metadata": {},
   "source": [
    "#### 针对官方给出的adaptVQE实现"
   ]
  },
  {
   "cell_type": "code",
   "execution_count": 22,
   "metadata": {},
   "outputs": [],
   "source": [
    "from qiskit_nature.drivers import Molecule\n",
    "from qiskit_nature.drivers.second_quantization import ElectronicStructureMoleculeDriver, ElectronicStructureDriverType\n",
    "from qiskit_nature.mappers.second_quantization import ParityMapper, BravyiKitaevMapper, JordanWignerMapper\n",
    "from qiskit_nature.converters.second_quantization import QubitConverter\n",
    "from qiskit_nature.problems.second_quantization.electronic import ElectronicStructureProblem\n",
    "from qiskit_nature.transformers.second_quantization.electronic import ActiveSpaceTransformer\n",
    "import warnings\n",
    "from qiskit_nature.circuit.library import HartreeFock,UCCSD\n",
    "from qiskit import Aer\n",
    "from qiskit.algorithms.optimizers import COBYLA, L_BFGS_B, SPSA, SLSQP\n",
    "from qiskit_nature.algorithms.ground_state_solvers.minimum_eigensolver_factories import NumPyMinimumEigensolverFactory\n",
    "from qiskit_nature.algorithms.ground_state_solvers import GroundStateEigensolver\n",
    "import numpy as np \n",
    "warnings.filterwarnings(\"ignore\")\n"
   ]
  },
  {
   "cell_type": "code",
   "execution_count": 23,
   "metadata": {},
   "outputs": [
    {
     "name": "stdout",
     "output_type": "stream",
     "text": [
      "粒子数：(1, 1) 轨道数:4\n"
     ]
    }
   ],
   "source": [
    "molecule = Molecule(\n",
    "    # coordinates are given in Angstrom\n",
    "    geometry=[\n",
    "        [\"O\", [0.0, 0.0, 0.0]],\n",
    "        [\"H\", [0.758602, 0.0, 0.504284]],\n",
    "        [\"H\", [0.758602, 0.0, -0.504284]]\n",
    "    ],\n",
    "    multiplicity=1,  # = 2*spin + 1\n",
    "    charge=0,\n",
    ")\n",
    "\n",
    "driver = ElectronicStructureMoleculeDriver(\n",
    "    molecule=molecule,\n",
    "    basis=\"sto3g\",\n",
    "    driver_type=ElectronicStructureDriverType.PYSCF,\n",
    ")\n",
    "\n",
    "properties = driver.run()\n",
    "converter = QubitConverter(JordanWignerMapper())\n",
    "\n",
    "# Define the active space around the Fermi level \n",
    "# (selected automatically around the HOMO and LUMO, ordered by energy)\n",
    "transformer = ActiveSpaceTransformer(\n",
    "    num_electrons=2, #how many electrons we have in our active space\n",
    "    num_molecular_orbitals=2, #how many orbitals we have in our active space\n",
    ")\n",
    "\n",
    "problem = ElectronicStructureProblem(driver, [transformer])\n",
    "problem.second_q_ops()\n",
    "print('粒子数：{0} 轨道数:{1}'.format(problem.num_particles,problem.num_spin_orbitals))\n"
   ]
  },
  {
   "cell_type": "code",
   "execution_count": 24,
   "metadata": {},
   "outputs": [],
   "source": [
    "from qiskit_nature.second_q.drivers import PySCFDriver\n",
    "driver2 = PySCFDriver(atom=\"H 0 0 0; H 0 0 0.735\", basis=\"sto-3g\")\n",
    "problem2 = driver.run()"
   ]
  },
  {
   "cell_type": "code",
   "execution_count": 12,
   "metadata": {},
   "outputs": [],
   "source": [
    "from qiskit_nature.second_q.mappers import JordanWignerMapper, QubitConverter\n",
    "converter = QubitConverter(JordanWignerMapper())\n",
    "from qiskit_nature.second_q.circuit.library import UCCSD, HartreeFock\n",
    "ansatz = UCCSD()\n",
    "ansatz.num_particles = problem.num_particles\n",
    "ansatz.num_spatial_orbitals = problem.num_spin_orbitals//2\n",
    "ansatz.qubit_converter = converter\n",
    "initial_state = HartreeFock()\n",
    "initial_state.num_particles = problem.num_particles\n",
    "initial_state.num_spatial_orbitals = problem.num_spin_orbitals//2\n",
    "ansatz.qubit_converter = converter\n",
    "ansatz.initial_state = initial_state"
   ]
  },
  {
   "cell_type": "code",
   "execution_count": 18,
   "metadata": {},
   "outputs": [],
   "source": [
    "import numpy as np\n",
    "from qiskit.algorithms.optimizers import SLSQP\n",
    "from qiskit.algorithms.minimum_eigensolvers import VQE\n",
    "from qiskit.primitives import Estimator\n",
    "vqe = VQE(Estimator(), ansatz, SLSQP())\n",
    "vqe.initial_point = np.zeros(ansatz.num_parameters)"
   ]
  },
  {
   "cell_type": "code",
   "execution_count": 19,
   "metadata": {},
   "outputs": [],
   "source": [
    "from qiskit.algorithms.minimum_eigensolvers import AdaptVQE\n",
    "adapt_vqe = AdaptVQE(vqe,max_iterations=100,threshold=1e-3)\n",
    "adapt_vqe.supports_aux_operators = lambda: True  # temporary fix"
   ]
  },
  {
   "cell_type": "code",
   "execution_count": 20,
   "metadata": {},
   "outputs": [
    {
     "ename": "ValueError",
     "evalue": "too many values to unpack (expected 2)",
     "output_type": "error",
     "traceback": [
      "\u001b[0;31m---------------------------------------------------------------------------\u001b[0m",
      "\u001b[0;31mValueError\u001b[0m                                Traceback (most recent call last)",
      "\u001b[1;32m/home/yangjianfei/代码/AdaptVQE/adaptvqe copy.ipynb Cell 7\u001b[0m in \u001b[0;36m<cell line: 3>\u001b[0;34m()\u001b[0m\n\u001b[1;32m      <a href='vscode-notebook-cell://wsl%2Bubuntu/home/yangjianfei/%E4%BB%A3%E7%A0%81/AdaptVQE/adaptvqe%20copy.ipynb#X11sdnNjb2RlLXJlbW90ZQ%3D%3D?line=0'>1</a>\u001b[0m \u001b[39mfrom\u001b[39;00m \u001b[39mqiskit_nature\u001b[39;00m\u001b[39m.\u001b[39;00m\u001b[39msecond_q\u001b[39;00m\u001b[39m.\u001b[39;00m\u001b[39malgorithms\u001b[39;00m \u001b[39mimport\u001b[39;00m GroundStateEigensolver\n\u001b[1;32m      <a href='vscode-notebook-cell://wsl%2Bubuntu/home/yangjianfei/%E4%BB%A3%E7%A0%81/AdaptVQE/adaptvqe%20copy.ipynb#X11sdnNjb2RlLXJlbW90ZQ%3D%3D?line=1'>2</a>\u001b[0m solver \u001b[39m=\u001b[39m GroundStateEigensolver(converter, adapt_vqe)\n\u001b[0;32m----> <a href='vscode-notebook-cell://wsl%2Bubuntu/home/yangjianfei/%E4%BB%A3%E7%A0%81/AdaptVQE/adaptvqe%20copy.ipynb#X11sdnNjb2RlLXJlbW90ZQ%3D%3D?line=2'>3</a>\u001b[0m result \u001b[39m=\u001b[39m solver\u001b[39m.\u001b[39;49msolve(problem)\n",
      "File \u001b[0;32m~/miniconda3/envs/QISKIT_WSL2/lib/python3.10/site-packages/qiskit_nature/second_q/algorithms/ground_state_solvers/ground_state_eigensolver.py:76\u001b[0m, in \u001b[0;36mGroundStateEigensolver.solve\u001b[0;34m(self, problem, aux_operators)\u001b[0m\n\u001b[1;32m     53\u001b[0m \u001b[39mdef\u001b[39;00m \u001b[39msolve\u001b[39m(\n\u001b[1;32m     54\u001b[0m     \u001b[39mself\u001b[39m,\n\u001b[1;32m     55\u001b[0m     problem: BaseProblem,\n\u001b[1;32m     56\u001b[0m     aux_operators: \u001b[39mdict\u001b[39m[\u001b[39mstr\u001b[39m, SparseLabelOp \u001b[39m|\u001b[39m QubitOperator] \u001b[39m|\u001b[39m \u001b[39mNone\u001b[39;00m \u001b[39m=\u001b[39m \u001b[39mNone\u001b[39;00m,\n\u001b[1;32m     57\u001b[0m ) \u001b[39m-\u001b[39m\u001b[39m>\u001b[39m EigenstateResult:\n\u001b[1;32m     58\u001b[0m     \u001b[39m\"\"\"Compute Ground State properties.\u001b[39;00m\n\u001b[1;32m     59\u001b[0m \n\u001b[1;32m     60\u001b[0m \u001b[39m    Args:\u001b[39;00m\n\u001b[0;32m   (...)\u001b[0m\n\u001b[1;32m     74\u001b[0m \u001b[39m        :meth:`~.BaseProblem.interpret`.\u001b[39;00m\n\u001b[1;32m     75\u001b[0m \u001b[39m    \"\"\"\u001b[39;00m\n\u001b[0;32m---> 76\u001b[0m     main_operator, aux_ops \u001b[39m=\u001b[39m \u001b[39mself\u001b[39;49m\u001b[39m.\u001b[39;49mget_qubit_operators(problem, aux_operators)\n\u001b[1;32m     77\u001b[0m     raw_mes_result \u001b[39m=\u001b[39m \u001b[39mself\u001b[39m\u001b[39m.\u001b[39msolver\u001b[39m.\u001b[39mcompute_minimum_eigenvalue(  \u001b[39m# type: ignore\u001b[39;00m\n\u001b[1;32m     78\u001b[0m         main_operator, aux_ops\n\u001b[1;32m     79\u001b[0m     )\n\u001b[1;32m     81\u001b[0m     eigenstate_result \u001b[39m=\u001b[39m EigenstateResult\u001b[39m.\u001b[39mfrom_result(raw_mes_result)\n",
      "File \u001b[0;32m~/miniconda3/envs/QISKIT_WSL2/lib/python3.10/site-packages/qiskit_nature/second_q/algorithms/ground_state_solvers/ground_state_eigensolver.py:93\u001b[0m, in \u001b[0;36mGroundStateEigensolver.get_qubit_operators\u001b[0;34m(self, problem, aux_operators)\u001b[0m\n\u001b[1;32m     90\u001b[0m \u001b[39m\"\"\"Gets the operator and auxiliary operators, and transforms the provided auxiliary operators.\"\"\"\u001b[39;00m\n\u001b[1;32m     91\u001b[0m \u001b[39m# Note that ``aux_ops`` contains not only the transformed ``aux_operators`` passed by the\u001b[39;00m\n\u001b[1;32m     92\u001b[0m \u001b[39m# user but also additional ones from the transformation\u001b[39;00m\n\u001b[0;32m---> 93\u001b[0m main_second_q_op, aux_second_q_ops \u001b[39m=\u001b[39m problem\u001b[39m.\u001b[39msecond_q_ops()\n\u001b[1;32m     95\u001b[0m num_particles \u001b[39m=\u001b[39m \u001b[39mNone\u001b[39;00m\n\u001b[1;32m     96\u001b[0m \u001b[39mif\u001b[39;00m \u001b[39mhasattr\u001b[39m(problem, \u001b[39m\"\u001b[39m\u001b[39mnum_particles\u001b[39m\u001b[39m\"\u001b[39m):\n",
      "\u001b[0;31mValueError\u001b[0m: too many values to unpack (expected 2)"
     ]
    }
   ],
   "source": [
    "from qiskit_nature.second_q.algorithms import GroundStateEigensolver\n",
    "solver = GroundStateEigensolver(converter, adapt_vqe)\n",
    "result = solver.solve(problem)"
   ]
  },
  {
   "cell_type": "code",
   "execution_count": 26,
   "metadata": {},
   "outputs": [
    {
     "data": {
      "text/plain": [
       "{'ParticleNumber': FermionicOp([('+_0 -_0', (1+0j)), ('+_1 -_1', (1+0j)), ('+_2 -_2', (1+0j)), ('+_3 -_3', (1+0j)), ('+_4 -_4', (1+0j)), ('+_5 -_5', (1+0j)), ('+_6 -_6', (1+0j)), ('+_7 -_7', (1+0j)), ('+_8 -_8', (1+0j)), ('+_9...)], register_length=14, display_format='sparse'),\n",
       " 'ElectronicEnergy': FermionicOp([('+_0 -_0', -32.75957523255523), ('+_0 -_1', 0.5358761109404167), ('+_0 -_3', 0.3118348753981393), ('+_0 -_5', 0.26643810499822856), ('+_1 -_0', 0.5358761109404171), ('+_1 -_1', -7.7425796924270...)], register_length=14, display_format='sparse'),\n",
       " 'DipoleMomentX': FermionicOp([('+_0 -_0', 0.0005561413359251467), ('+_0 -_1', 0.012318293053490512), ('+_0 -_3', -0.04175866877728066), ('+_0 -_5', 0.052632450626007014), ('+_1 -_0', 0.01231829305349051), ('+_1 -_1', 0.53296...)], register_length=14, display_format='sparse'),\n",
       " 'DipoleMomentY': FermionicOp([('+_0 -_4', 0.06387795069214892), ('+_1 -_4', 0.6005670115874404), ('+_3 -_4', 0.23400649289105202), ('+_4 -_0', 0.06387795069214892), ('+_4 -_1', 0.6005670115874405), ('+_4 -_3', 0.234006492891...)], register_length=14, display_format='sparse'),\n",
       " 'DipoleMomentZ': FermionicOp([('+_0 -_2', 0.04689050279226241), ('+_0 -_6', -0.048303666046367384), ('+_1 -_2', 0.7645572165385784), ('+_1 -_6', 0.14867458614127183), ('+_2 -_0', 0.04689050279226241), ('+_2 -_1', 0.764557216...)], register_length=14, display_format='sparse'),\n",
       " 'AngularMomentum': FermionicOp([('+_0 -_0', (0.75+0j)), ('+_1 -_1', (0.75+0j)), ('+_2 -_2', (0.75+0j)), ('+_3 -_3', (0.75+0j)), ('+_4 -_4', (0.75+0j)), ('+_5 -_5', (0.75+0j)), ('+_6 -_6', (0.75+0j)), ('+_7 -_7', (0.75+0j)), ('...)], register_length=14, display_format='sparse'),\n",
       " 'Magnetization': FermionicOp([('+_0 -_0', (0.5+0j)), ('+_1 -_1', (0.5+0j)), ('+_2 -_2', (0.5+0j)), ('+_3 -_3', (0.5+0j)), ('+_4 -_4', (0.5+0j)), ('+_5 -_5', (0.5+0j)), ('+_6 -_6', (0.5+0j)), ('+_7 -_7', (-0.5+0j)), ('+_8 -_8...)], register_length=14, display_format='sparse')}"
      ]
     },
     "execution_count": 26,
     "metadata": {},
     "output_type": "execute_result"
    }
   ],
   "source": []
  },
  {
   "cell_type": "code",
   "execution_count": null,
   "metadata": {},
   "outputs": [],
   "source": []
  }
 ],
 "metadata": {
  "kernelspec": {
   "display_name": "Python 3.10.6 ('QISKIT_WSL2': conda)",
   "language": "python",
   "name": "python3"
  },
  "language_info": {
   "codemirror_mode": {
    "name": "ipython",
    "version": 3
   },
   "file_extension": ".py",
   "mimetype": "text/x-python",
   "name": "python",
   "nbconvert_exporter": "python",
   "pygments_lexer": "ipython3",
   "version": "3.10.6"
  },
  "orig_nbformat": 4,
  "vscode": {
   "interpreter": {
    "hash": "54e28563ef8f1dd6dc056397af37857e89f17a7fb558808f10e4042dc705258e"
   }
  }
 },
 "nbformat": 4,
 "nbformat_minor": 2
}
