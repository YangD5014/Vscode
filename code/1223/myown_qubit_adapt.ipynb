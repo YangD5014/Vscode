{
 "cells": [
  {
   "cell_type": "code",
   "execution_count": 1,
   "metadata": {},
   "outputs": [],
   "source": [
    "import numpy as np\n",
    "import math\n",
    "from qiskit.circuit import QuantumCircuit,QuantumRegister\n",
    "from qiskit.circuit.library import EvolvedOperatorAnsatz\n",
    "from qiskit_nature.second_q.drivers import PySCFDriver\n",
    "from qiskit_nature.second_q.mappers import JordanWignerMapper, QubitConverter\n",
    "from qiskit_nature.second_q.formats.molecule_info import MoleculeInfo\n",
    "from qiskit_nature.second_q.transformers import ActiveSpaceTransformer,FreezeCoreTransformer\n",
    "import numpy as np\n",
    "from qiskit.algorithms.optimizers import SLSQP\n",
    "from qiskit.algorithms.minimum_eigensolvers import VQE\n",
    "from qiskit.primitives import Estimator\n",
    "from qiskit.algorithms.minimum_eigensolvers import AdaptVQE\n",
    "from qiskit_nature.second_q.algorithms import GroundStateEigensolver\n",
    "from copy import  deepcopy\n",
    "from qiskit.circuit import Parameter,ParameterVector\n",
    "import sys\n",
    "sys.path.append('..')\n",
    "# from AdaptVQE_.My_adapt import QubitAdapt,MyAdaptVQE\n",
    "from AdaptVQE_.MyQubit_Adapt_VQE import QubitAdapt\n",
    "from AdaptVQE_.My_adapt import MyAdaptVQE\n",
    "# Define Molecule\n",
    "molecule = MoleculeInfo(\n",
    "    [\"Li\", \"H\"], [(0.0, 0.0, 0.0), (0.8*1, 0.0, 0.0)],\n",
    "    multiplicity=1,  # = 2*spin + 1\n",
    "    charge=0,\n",
    ")\n",
    "driver = PySCFDriver().from_molecule(molecule)\n",
    "\n",
    "problem = driver.run()\n",
    "converter = QubitConverter(JordanWignerMapper(), two_qubit_reduction=True)\n",
    "transformer = FreezeCoreTransformer(\n",
    "    freeze_core=True,  # how many electrons we have in our active space\n",
    "    # how many orbitals we have in our active space\n",
    "    remove_orbitals=[-3, -2]\n",
    ")\n",
    "#problem = transformer.transform(problem=problem)"
   ]
  },
  {
   "cell_type": "code",
   "execution_count": 2,
   "metadata": {},
   "outputs": [
    {
     "name": "stderr",
     "output_type": "stream",
     "text": [
      "logger init done!\n",
      "完整池320,Propotion=0.25,实际池80\n",
      "开始初始化:挑选第一个算符...\n",
      "初始化结果:第16项被选定,此项梯度最大,为0.24593734848354704\n"
     ]
    }
   ],
   "source": [
    "from qiskit.quantum_info import SparsePauliOp\n",
    "#a = MyAdaptVQE(ES_problem=problem)\n",
    "b = QubitAdapt(ES_problem=problem)\n"
   ]
  },
  {
   "cell_type": "code",
   "execution_count": 3,
   "metadata": {},
   "outputs": [
    {
     "name": "stderr",
     "output_type": "stream",
     "text": [
      "------------第1轮正在进行中--------------\n",
      "**目前已有[16]**\n",
      "initial point是:[0.]\n",
      "第1轮的优化结果是：[0.10284050659552485]\n",
      "目前这是第1轮,正在准备挑选下一块算符,并验证是否收敛...\n",
      "没有达到收敛标准,标准为0.001,当前值为0.05506444357458454\n",
      "目前还没有达到收敛！\n",
      "第1轮中梯度最大项为第15项,已被选入算符池...\n",
      "------------第2轮正在进行中--------------\n",
      "**目前已有[16, 15]**\n",
      "initial point是:[0. 0.]\n",
      "第2轮的优化结果是：[0.0452377927371601, 0.10160219313092816]\n",
      "目前这是第2轮,正在准备挑选下一块算符,并验证是否收敛...\n",
      "没有达到收敛标准,标准为0.001,当前值为0.0474583216511651\n",
      "目前还没有达到收敛！\n",
      "第2轮中梯度最大项为第11项,已被选入算符池...\n",
      "------------第3轮正在进行中--------------\n",
      "**目前已有[16, 15, 11]**\n",
      "initial point是:[0. 0. 0.]\n",
      "第3轮的优化结果是：[-0.003684828639179925, 0.04526172716030873, 0.10144955320131994]\n",
      "目前这是第3轮,正在准备挑选下一块算符,并验证是否收敛...\n",
      "没有达到收敛标准,标准为0.001,当前值为0.04099117424871396\n",
      "目前还没有达到收敛！\n",
      "第3轮中梯度最大项为第25项,已被选入算符池...\n",
      "------------第4轮正在进行中--------------\n",
      "**目前已有[16, 15, 11, 25]**\n",
      "initial point是:[0. 0. 0. 0.]\n",
      "第4轮的优化结果是：[-0.0037016886129634555, 0.04524721930935455, 0.10143857155687572, 0.007315997798357803]\n",
      "目前这是第4轮,正在准备挑选下一块算符,并验证是否收敛...\n",
      "没有达到收敛标准,标准为0.001,当前值为0.03682624644096892\n",
      "目前还没有达到收敛！\n",
      "第4轮中梯度最大项为第45项,已被选入算符池...\n",
      "------------第5轮正在进行中--------------\n",
      "**目前已有[16, 15, 11, 25, 45]**\n",
      "initial point是:[0. 0. 0. 0. 0.]\n",
      "第5轮的优化结果是：[-0.003718319826985406, 0.04467504819442933, 0.10143680861869236, 0.007203411246051076, 0.006702802003551623]\n",
      "目前这是第5轮,正在准备挑选下一块算符,并验证是否收敛...\n",
      "没有达到收敛标准,标准为0.001,当前值为0.024563173570415677\n",
      "目前还没有达到收敛！\n",
      "第5轮中梯度最大项为第60项,已被选入算符池...\n",
      "------------第6轮正在进行中--------------\n",
      "**目前已有[16, 15, 11, 25, 45, 60]**\n",
      "initial point是:[0. 0. 0. 0. 0. 0.]\n",
      "第6轮的优化结果是：[-0.00378540966010555, 0.04523613605722576, 0.10149634996242576, 0.007277547713142443, 0.0066558615394461266, -0.002119354887469259]\n",
      "目前这是第6轮,正在准备挑选下一块算符,并验证是否收敛...\n",
      "没有达到收敛标准,标准为0.001,当前值为0.02347542668361333\n",
      "目前还没有达到收敛！\n",
      "第6轮中梯度最大项为第74项,已被选入算符池...\n",
      "------------第7轮正在进行中--------------\n",
      "**目前已有[16, 15, 11, 25, 45, 60, 74]**\n",
      "initial point是:[0. 0. 0. 0. 0. 0. 0.]\n",
      "第7轮的优化结果是：[-0.0038932036552058605, 0.045231193666523575, 0.10149142665032865, 0.007222564092770247, 0.006703622695556148, -0.0021384208500160387, 0.003631807598295741]\n",
      "目前这是第7轮,正在准备挑选下一块算符,并验证是否收敛...\n",
      "没有达到收敛标准,标准为0.001,当前值为0.022969536864210563\n",
      "目前还没有达到收敛！\n",
      "第7轮中梯度最大项为第39项,已被选入算符池...\n",
      "------------第8轮正在进行中--------------\n",
      "**目前已有[16, 15, 11, 25, 45, 60, 74, 39]**\n",
      "initial point是:[0. 0. 0. 0. 0. 0. 0. 0.]\n",
      "第8轮的优化结果是：[-0.004001453453651221, 0.04522633893824812, 0.1014949325874503, 0.007218298968071102, -0.0035544109133007107, 0.006701114099375551, -0.002128601838640778, 0.0035848016277166377]\n",
      "目前这是第8轮,正在准备挑选下一块算符,并验证是否收敛...\n",
      "没有达到收敛标准,标准为0.001,当前值为0.022010013348908633\n",
      "目前还没有达到收敛！\n",
      "第8轮中梯度最大项为第36项,已被选入算符池...\n",
      "------------第9轮正在进行中--------------\n",
      "**目前已有[16, 15, 11, 25, 45, 60, 74, 39, 36]**\n",
      "initial point是:[0. 0. 0. 0. 0. 0. 0. 0. 0.]\n",
      "第9轮的优化结果是：[-0.004015551284796838, 0.04525252778500391, 0.1015066379391648, 0.007145075123210266, -0.0041800726034025674, -0.0035924361851116145, 0.0073717129895346295, -0.002134971447697644, 0.0035840768151257515]\n",
      "目前这是第9轮,正在准备挑选下一块算符,并验证是否收敛...\n",
      "没有达到收敛标准,标准为0.001,当前值为0.017273176585501235\n",
      "目前还没有达到收敛！\n",
      "第9轮中梯度最大项为第50项,已被选入算符池...\n",
      "------------第10轮正在进行中--------------\n",
      "**目前已有[16, 15, 11, 25, 45, 60, 74, 39, 36, 50]**\n",
      "initial point是:[0. 0. 0. 0. 0. 0. 0. 0. 0. 0.]\n",
      "第10轮的优化结果是：[-0.004015085373151437, 0.04524791593523298, 0.10150027296457109, 0.00714342345904791, -0.004178239968745928, -0.0035924107623619326, 0.007358813881185186, -0.0034309994789204806, -0.0021352143106140677, 0.0035737270538433092]\n",
      "目前这是第10轮,正在准备挑选下一块算符,并验证是否收敛...\n",
      "没有达到收敛标准,标准为0.001,当前值为0.016922595821486485\n",
      "目前还没有达到收敛！\n",
      "第10轮中梯度最大项为第41项,已被选入算符池...\n",
      "------------第11轮正在进行中--------------\n",
      "**目前已有[16, 15, 11, 25, 45, 60, 74, 39, 36, 50, 41]**\n",
      "initial point是:[0. 0. 0. 0. 0. 0. 0. 0. 0. 0. 0.]\n",
      "第11轮的优化结果是：[-0.004015940784134273, 0.045244336994900165, 0.10149505511150723, 0.0071311453021757586, -0.004178316531857061, -0.003576224231657619, -0.003360508723028866, 0.007358890436927004, -0.003367091725872706, -0.0021352601057653174, 0.0035759674795716803]\n",
      "目前这是第11轮,正在准备挑选下一块算符,并验证是否收敛...\n",
      "没有达到收敛标准,标准为0.001,当前值为0.013615681931414377\n",
      "目前还没有达到收敛！\n",
      "第11轮中梯度最大项为第12项,已被选入算符池...\n",
      "------------第12轮正在进行中--------------\n",
      "**目前已有[16, 15, 11, 25, 45, 60, 74, 39, 36, 50, 41, 12]**\n",
      "initial point是:[0. 0. 0. 0. 0. 0. 0. 0. 0. 0. 0. 0.]\n",
      "第12轮的优化结果是：[-0.0040124980212390415, -0.0027095301676841824, 0.04506828881651467, 0.10149046185632588, 0.00712038846561935, -0.004176481042163099, -0.0035299304571848726, -0.0033437016212638734, 0.007358194516357308, -0.0033667412074979823, -0.002135192407812533, 0.0035754378777824196]\n",
      "目前这是第12轮,正在准备挑选下一块算符,并验证是否收敛...\n",
      "没有达到收敛标准,标准为0.001,当前值为0.01339876604310997\n",
      "目前还没有达到收敛！\n",
      "第12轮中梯度最大项为第44项,已被选入算符池...\n",
      "------------第13轮正在进行中--------------\n",
      "**目前已有[16, 15, 11, 25, 45, 60, 74, 39, 36, 50, 41, 12, 44]**\n",
      "initial point是:[0. 0. 0. 0. 0. 0. 0. 0. 0. 0. 0. 0. 0.]\n",
      "第13轮的优化结果是：[-0.004011113484939808, -0.002666152009317121, 0.044897223576067784, 0.10149030221421264, 0.007119635365889685, -0.004175354555621822, -0.003532759458156372, -0.003343420199180625, -0.002666029680367564, 0.007347532968313192, -0.003346703774784643, -0.0021352195495438946, 0.003554161766336067]\n",
      "目前这是第13轮,正在准备挑选下一块算符,并验证是否收敛...\n",
      "没有达到收敛标准,标准为0.001,当前值为0.009482175782617211\n",
      "目前还没有达到收敛！\n",
      "第13轮中梯度最大项为第27项,已被选入算符池...\n",
      "------------第14轮正在进行中--------------\n",
      "**目前已有[16, 15, 11, 25, 45, 60, 74, 39, 36, 50, 41, 12, 44, 27]**\n",
      "initial point是:[0. 0. 0. 0. 0. 0. 0. 0. 0. 0. 0. 0. 0. 0.]\n",
      "第14轮的优化结果是：[-0.004009297365344876, -0.002668141200708948, 0.04436287043039981, 0.10127845517541706, 0.007128056660940093, -0.00786926562051779, -0.004205657783710589, -0.0035432428934143593, -0.003336267899327579, -0.0026671717580888437, 0.007416850675019373, -0.0033389286493654643, -0.0021335006576490806, 0.0035604831762045624]\n",
      "目前这是第14轮,正在准备挑选下一块算符,并验证是否收敛...\n",
      "没有达到收敛标准,标准为0.001,当前值为0.005951681848617068\n",
      "目前还没有达到收敛！\n",
      "第14轮中梯度最大项为第56项,已被选入算符池...\n",
      "------------第15轮正在进行中--------------\n",
      "**目前已有[16, 15, 11, 25, 45, 60, 74, 39, 36, 50, 41, 12, 44, 27, 56]**\n",
      "initial point是:[0. 0. 0. 0. 0. 0. 0. 0. 0. 0. 0. 0. 0. 0. 0.]\n",
      "第15轮的优化结果是：[-0.004116316782919467, -0.002607337137924928, 0.023585924775777565, 0.10174515978572125, 0.0071564957441609825, -0.007474497459949123, -0.004187065631342691, -0.0035729630415939607, -0.003333046830731257, -0.002637227265472056, 0.007415180093633861, -0.0033309133528197817, -0.02356812654319183, -0.0021734371420468633, 0.0035936055509264452]\n",
      "目前这是第15轮,正在准备挑选下一块算符,并验证是否收敛...\n",
      "没有达到收敛标准,标准为0.001,当前值为0.0019796678469421562\n",
      "目前还没有达到收敛！\n",
      "第15轮中梯度最大项为第11项,已被选入算符池...\n",
      "------------第16轮正在进行中--------------\n",
      "**目前已有[16, 15, 11, 25, 45, 60, 74, 39, 36, 50, 41, 12, 44, 27, 56, 11]**\n",
      "initial point是:[0. 0. 0. 0. 0. 0. 0. 0. 0. 0. 0. 0. 0. 0. 0.]\n",
      "第16轮的优化结果是：[-0.0019847587771152472, -0.0026149073920238176, 0.023444883365089583, 0.10166895370284765, 0.007122257270621952, -0.007054565354466409, -0.004143748280509015, -0.0035122311870270976, -0.0033372959152583974, -0.0026499653331616417, 0.0073399943151663365, -0.003338235541988633, -0.023403164502492062, -0.002114417332578102, 0.0035328964360222645]\n",
      "目前这是第16轮,正在准备挑选下一块算符,并验证是否收敛...\n",
      "没有达到收敛标准,标准为0.001,当前值为0.0014548118518040503\n",
      "目前还没有达到收敛！\n",
      "第16轮中梯度最大项为第13项,已被选入算符池...\n",
      "------------第17轮正在进行中--------------\n",
      "**目前已有[16, 15, 11, 25, 45, 60, 74, 39, 36, 50, 41, 12, 44, 27, 56, 11, 13]**\n",
      "initial point是:[0. 0. 0. 0. 0. 0. 0. 0. 0. 0. 0. 0. 0. 0. 0. 0.]\n",
      "第17轮的优化结果是：[-0.000979137239412807, -0.0026092832376981203, 0.002049707149999706, 0.02344278390974234, 0.10168723117730807, 0.007115455310240022, -0.007045604778080896, -0.00414432722781391, -0.0035154120137482854, -0.003330070187154337, -0.0026427556333753393, 0.007338021533702933, -0.0033316827347354906, -0.023401092586930836, -0.0021172982704882846, 0.0035364742468489757]\n",
      "目前这是第17轮,正在准备挑选下一块算符,并验证是否收敛...\n",
      "达到收敛标准,标准为0.001,当前值为0.0009041476479132775\n",
      "已经达到收敛！算法终止！\n",
      "===FINAL OUTCOME===\n",
      "Order=[16, 15, 11, 25, 45, 60, 74, 39, 36, 50, 41, 12, 44, 27, 56, 11, 13]\n",
      "Optimal value=[-0.000979137239412807, -0.0026092832376981203, 0.002049707149999706, 0.02344278390974234, 0.10168723117730807, 0.007115455310240022, -0.007045604778080896, -0.00414432722781391, -0.0035154120137482854, -0.003330070187154337, -0.0026427556333753393, 0.007338021533702933, -0.0033316827347354906, -0.023401092586930836, -0.0021172982704882846, 0.0035364742468489757, 0.0]\n",
      "Total iteration=17\n"
     ]
    }
   ],
   "source": [
    "b.run_slover()"
   ]
  },
  {
   "cell_type": "code",
   "execution_count": 4,
   "metadata": {},
   "outputs": [
    {
     "data": {
      "text/plain": [
       "[Instruction(name='EvolvedOps', num_qubits=12, num_clbits=0, params=[ParameterVectorElement(term_16[0])]),\n",
       " Instruction(name='EvolvedOps', num_qubits=12, num_clbits=0, params=[ParameterVectorElement(term_15[0])]),\n",
       " Instruction(name='EvolvedOps', num_qubits=12, num_clbits=0, params=[ParameterVectorElement(term_11[0])]),\n",
       " Instruction(name='EvolvedOps', num_qubits=12, num_clbits=0, params=[ParameterVectorElement(term_25[0])]),\n",
       " Instruction(name='EvolvedOps', num_qubits=12, num_clbits=0, params=[ParameterVectorElement(term_45[0])]),\n",
       " Instruction(name='EvolvedOps', num_qubits=12, num_clbits=0, params=[ParameterVectorElement(term_60[0])]),\n",
       " Instruction(name='EvolvedOps', num_qubits=12, num_clbits=0, params=[ParameterVectorElement(term_74[0])]),\n",
       " Instruction(name='EvolvedOps', num_qubits=12, num_clbits=0, params=[ParameterVectorElement(term_39[0])]),\n",
       " Instruction(name='EvolvedOps', num_qubits=12, num_clbits=0, params=[ParameterVectorElement(term_36[0])]),\n",
       " Instruction(name='EvolvedOps', num_qubits=12, num_clbits=0, params=[ParameterVectorElement(term_50[0])]),\n",
       " Instruction(name='EvolvedOps', num_qubits=12, num_clbits=0, params=[ParameterVectorElement(term_41[0])]),\n",
       " Instruction(name='EvolvedOps', num_qubits=12, num_clbits=0, params=[ParameterVectorElement(term_12[0])]),\n",
       " Instruction(name='EvolvedOps', num_qubits=12, num_clbits=0, params=[ParameterVectorElement(term_44[0])]),\n",
       " Instruction(name='EvolvedOps', num_qubits=12, num_clbits=0, params=[ParameterVectorElement(term_27[0])]),\n",
       " Instruction(name='EvolvedOps', num_qubits=12, num_clbits=0, params=[ParameterVectorElement(term_56[0])]),\n",
       " Instruction(name='EvolvedOps', num_qubits=12, num_clbits=0, params=[ParameterVectorElement(term_11[0])]),\n",
       " Instruction(name='EvolvedOps', num_qubits=12, num_clbits=0, params=[ParameterVectorElement(term_13[0])])]"
      ]
     },
     "execution_count": 4,
     "metadata": {},
     "output_type": "execute_result"
    }
   ],
   "source": [
    "b.adapt_ansatz\n",
    "b."
   ]
  },
  {
   "cell_type": "markdown",
   "metadata": {},
   "source": []
  },
  {
   "cell_type": "code",
   "execution_count": null,
   "metadata": {},
   "outputs": [],
   "source": [
    "from qiskit.quantum_info import Statevector\n",
    "qc = QuantumCircuit(b.n_qubit)\n",
    "qc.append(a.excitation_pool_instruction[1],range(b.n_qubit))\n",
    "Statevector(data=qc.bind_parameters([0.0]))\n",
    "vqe = VQE(ansatz=qc,estimator=Estimator(),optimizer=SLSQP())\n",
    "vqe.compute_minimum_eigenvalue(b.hamiltonian)\n"
   ]
  },
  {
   "cell_type": "code",
   "execution_count": null,
   "metadata": {},
   "outputs": [],
   "source": [
    "from qiskit.primitives.utils import bound_circuit_to_instruction\n",
    "bound_circuit_to_instruction(circuit=qc)"
   ]
  },
  {
   "cell_type": "code",
   "execution_count": null,
   "metadata": {},
   "outputs": [],
   "source": [
    "b.paulistring_withoutz_instruction[2]"
   ]
  },
  {
   "cell_type": "code",
   "execution_count": null,
   "metadata": {},
   "outputs": [],
   "source": [
    "b.run()"
   ]
  },
  {
   "cell_type": "code",
   "execution_count": null,
   "metadata": {},
   "outputs": [],
   "source": [
    "qc = QuantumCircuit(b.n_qubit)\n",
    "qc.append(b.init_state_hf,range(b.n_qubit))\n",
    "# qc.append(b.paulistring_withoutz_instruction[1],range(b.n_qubit))\n",
    "qc.append(a.excitation_pool_instruction[2],range(b.n_qubit))\n",
    "vqe = VQE(estimator=Estimator(),ansatz=qc,optimizer=SLSQP(),initial_point=np.zeros(qc.num_parameters))\n",
    "\n"
   ]
  },
  {
   "cell_type": "code",
   "execution_count": null,
   "metadata": {},
   "outputs": [],
   "source": [
    "vqe.compute_minimum_eigenvalue(b.hamiltonian)"
   ]
  },
  {
   "cell_type": "code",
   "execution_count": null,
   "metadata": {},
   "outputs": [],
   "source": [
    "from AdaptVQE_.My_adapt import MyAdaptVQE\n",
    "a = MyAdaptVQE(ES_problem=problem)\n",
    "a.run_tmp()"
   ]
  },
  {
   "cell_type": "code",
   "execution_count": null,
   "metadata": {},
   "outputs": [],
   "source": [
    "#a.slover.ansatz.append(b.paulistring_withoutz_instruction[3],range(4))\n",
    "a.slover.initial_point=np.zeros(2)\n",
    "a.slover.compute_minimum_eigenvalue(a.hamiltonian)"
   ]
  },
  {
   "cell_type": "code",
   "execution_count": null,
   "metadata": {},
   "outputs": [],
   "source": [
    " def evaluate_energy(parameters: np.ndarray) -> np.ndarray | float:\n",
    "            nonlocal eval_count\n",
    "\n",
    "            # handle broadcasting: ensure parameters is of shape [array, array, ...]\n",
    "            parameters = np.reshape(parameters, (-1, num_parameters)).tolist()\n",
    "            batch_size = len(parameters)\n",
    "\n",
    "            try:\n",
    "                job = self.estimator.run(batch_size * [ansatz], batch_size * [operator], parameters)\n",
    "                estimator_result = job.result()\n",
    "            except Exception as exc:\n",
    "                raise AlgorithmError(\"The primitive job to evaluate the energy failed!\") from exc\n",
    "\n",
    "            values = estimator_result.values\n",
    "\n",
    "            if self.callback is not None:\n",
    "                metadata = estimator_result.metadata\n",
    "                for params, value, meta in zip(parameters, values, metadata):\n",
    "                    eval_count += 1\n",
    "                    self.callback(eval_count, params, value, meta)\n",
    "\n",
    "            energy = values[0] if len(values) == 1 else values\n",
    "\n",
    "            return energy\n",
    "\n",
    "        return evaluate_energy"
   ]
  },
  {
   "cell_type": "code",
   "execution_count": null,
   "metadata": {},
   "outputs": [],
   "source": [
    "a = None\n",
    "a == None"
   ]
  },
  {
   "cell_type": "code",
   "execution_count": null,
   "metadata": {},
   "outputs": [],
   "source": [
    "from qiskit.quantum_info import Statevector\n",
    "Statevector(bound_circuit_to_instruction(circ))"
   ]
  }
 ],
 "metadata": {
  "kernelspec": {
   "display_name": "QISKIT_WSL2",
   "language": "python",
   "name": "python3"
  },
  "language_info": {
   "codemirror_mode": {
    "name": "ipython",
    "version": 3
   },
   "file_extension": ".py",
   "mimetype": "text/x-python",
   "name": "python",
   "nbconvert_exporter": "python",
   "pygments_lexer": "ipython3",
   "version": "3.10.6"
  },
  "orig_nbformat": 4,
  "vscode": {
   "interpreter": {
    "hash": "54e28563ef8f1dd6dc056397af37857e89f17a7fb558808f10e4042dc705258e"
   }
  }
 },
 "nbformat": 4,
 "nbformat_minor": 2
}
