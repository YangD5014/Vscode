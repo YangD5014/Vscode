{
 "cells": [
  {
   "cell_type": "code",
   "execution_count": 1,
   "id": "27dcc4c7",
   "metadata": {},
   "outputs": [
    {
     "name": "stderr",
     "output_type": "stream",
     "text": [
      "/tmp/ipykernel_4759/3598970827.py:11: NatureDeprecationWarning: The qiskit_nature.algorithms.excited_state_solvers package is deprecated as of version 0.5.0 and will be removed no sooner than 3 months after the release. Instead use the qiskit_nature.second_q.algorithms.excited_state_solvers package.\n",
      "  from qiskit_nature.algorithms.ground_state_solvers.minimum_eigensolver_factories import NumPyMinimumEigensolverFactory\n",
      "/tmp/ipykernel_4759/3598970827.py:11: NatureDeprecationWarning: The qiskit_nature.algorithms.pes_sampler package is deprecated as of version 0.5.0 and will be removed no sooner than 3 months after the release . Please refer to 'https://github.com/Qiskit/qiskit-nature/issues/750' for additional information regarding 'extrapolators'.\n",
      "  from qiskit_nature.algorithms.ground_state_solvers.minimum_eigensolver_factories import NumPyMinimumEigensolverFactory\n"
     ]
    }
   ],
   "source": [
    "from qiskit_nature.drivers import Molecule\n",
    "from qiskit_nature.drivers.second_quantization import ElectronicStructureMoleculeDriver, ElectronicStructureDriverType\n",
    "from qiskit_nature.mappers.second_quantization import ParityMapper, BravyiKitaevMapper, JordanWignerMapper\n",
    "from qiskit_nature.converters.second_quantization import QubitConverter\n",
    "from qiskit_nature.problems.second_quantization.electronic import ElectronicStructureProblem\n",
    "from qiskit_nature.transformers.second_quantization.electronic import ActiveSpaceTransformer\n",
    "import warnings\n",
    "from qiskit_nature.circuit.library import HartreeFock,UCCSD\n",
    "from qiskit import Aer\n",
    "from qiskit.algorithms.optimizers import COBYLA, L_BFGS_B, SPSA, SLSQP\n",
    "from qiskit_nature.algorithms.ground_state_solvers.minimum_eigensolver_factories import NumPyMinimumEigensolverFactory\n",
    "from qiskit_nature.algorithms.ground_state_solvers import GroundStateEigensolver\n",
    "import numpy as np \n",
    "warnings.filterwarnings(\"ignore\")\n"
   ]
  },
  {
   "cell_type": "code",
   "execution_count": 4,
   "id": "af80d2f8",
   "metadata": {},
   "outputs": [
    {
     "name": "stdout",
     "output_type": "stream",
     "text": [
      "ParticleNumber:\n",
      "\t14 SOs\n",
      "\t5 alpha electrons\n",
      "\t\torbital occupation: [1. 1. 1. 1. 1. 0. 0.]\n",
      "\t5 beta electrons\n",
      "\t\torbital occupation: [1. 1. 1. 1. 1. 0. 0.]\n",
      "Fermionic Operator\n",
      "register length=4, number terms=36\n",
      "  -1.2879605266732712 * ( +_0 -_0 )\n",
      "+ -0.574996432518691 * ( +_1 -_1 )\n",
      "+ -1.2879605266732712 * ( +_2 -_2 )\n",
      "+ -0.574996432518691 * ( +_3 -_3 )\n",
      "+ -0.44007954668752264 * ( +_0 +_0 -_0 -_0 )\n",
      "+ -0.0192 ...\n",
      "转换后\n",
      " -0.8720633572288583 * IIII\n",
      "+ 0.11923749314031427 * IIIZ\n",
      "- 0.17865261550743755 * IIZI\n",
      "+ 0.11923749314031434 * IZII\n",
      "- 0.17865261550743752 * ZIII\n",
      "+ 0.14753433345685837 * IIZZ\n",
      "+ 0.22003977334376132 * IZIZ\n",
      "+ 0.009634329938843231 * YYYY\n",
      "+ 0.009634329938843231 * XXYY\n",
      "+ 0.009634329938843231 * YYXX\n",
      "+ 0.009634329938843231 * XXXX\n",
      "+ 0.15716866339570162 * ZIIZ\n",
      "+ 0.15716866339570162 * IZZI\n",
      "+ 0.16144783491422307 * ZIZI\n",
      "+ 0.14753433345685837 * ZZII\n",
      "     ┌───┐\n",
      "q_0: ┤ X ├\n",
      "     └───┘\n",
      "q_1: ─────\n",
      "     ┌───┐\n",
      "q_2: ┤ X ├\n",
      "     └───┘\n",
      "q_3: ─────\n",
      "          \n"
     ]
    }
   ],
   "source": [
    "molecule = Molecule(\n",
    "    # coordinates are given in Angstrom\n",
    "    geometry=[\n",
    "        [\"O\", [0.0, 0.0, 0.0]],\n",
    "        [\"H\", [0.758602, 0.0, 0.504284]],\n",
    "        [\"H\", [0.758602, 0.0, -0.504284]]\n",
    "    ],\n",
    "    multiplicity=1,  # = 2*spin + 1\n",
    "    charge=0,\n",
    ")\n",
    "\n",
    "driver = ElectronicStructureMoleculeDriver(\n",
    "    molecule=molecule,\n",
    "    basis=\"sto3g\",\n",
    "    driver_type=ElectronicStructureDriverType.PYSCF,\n",
    ")\n",
    "\n",
    "properties = driver.run()\n",
    "converter = QubitConverter(JordanWignerMapper())\n",
    "PN_property = properties.get_property(\"ParticleNumber\")\n",
    "print(PN_property)\n",
    "\n",
    "# Define the active space around the Fermi level \n",
    "# (selected automatically around the HOMO and LUMO, ordered by energy)\n",
    "transformer = ActiveSpaceTransformer(\n",
    "    num_electrons=2, #how many electrons we have in our active space\n",
    "    num_molecular_orbitals=2, #how many orbitals we have in our active space\n",
    ")\n",
    "\n",
    "problem = ElectronicStructureProblem(driver, [transformer])\n",
    "\n",
    "second_q_ops = problem.second_q_ops() # this calls driver.run() internally\n",
    "\n",
    "hamiltonian = second_q_ops['ElectronicEnergy']\n",
    "\n",
    "print(hamiltonian)\n",
    "qubit_op = converter.convert(hamiltonian)\n",
    "print('转换后\\n',qubit_op)\n",
    "\n",
    "particle_number = problem.grouped_property_transformed.get_property(\"ParticleNumber\")\n",
    "num_spin_orbitals = particle_number.num_spin_orbitals\n",
    "num_particles = particle_number.num_particles\n",
    "init_state = HartreeFock(num_spin_orbitals, num_particles, converter)\n",
    "print(init_state)"
   ]
  },
  {
   "cell_type": "code",
   "execution_count": 13,
   "id": "20bb8134",
   "metadata": {},
   "outputs": [
    {
     "data": {
      "text/plain": [
       "PauliSumOp(SparsePauliOp(['IIXY', 'IIYX'],\n",
       "              coeffs=[ 0.5+0.j, -0.5+0.j]), coeff=1.0)"
      ]
     },
     "execution_count": 13,
     "metadata": {},
     "output_type": "execute_result"
    }
   ],
   "source": [
    "uccsd = UCCSD(initial_state=init_state,num_particles=num_particles,num_spin_orbitals=num_spin_orbitals,qubit_converter=converter)\n",
    "fop = uccsd.excitation_ops()\n",
    "fsop = converter.convert(fop[0])\n",
    "fsop"
   ]
  },
  {
   "cell_type": "code",
   "execution_count": null,
   "id": "15e8278d",
   "metadata": {},
   "outputs": [
    {
     "name": "stdout",
     "output_type": "stream",
     "text": [
      "     ┌───┐┌───────────────────────────────────┐»\n",
      "q_0: ┤ X ├┤0                                  ├»\n",
      "     └───┘│                                   │»\n",
      "q_1: ─────┤1                                  ├»\n",
      "     ┌───┐│  exp(-it (IIXY + IIYX))(1.0*t[0]) │»\n",
      "q_2: ┤ X ├┤2                                  ├»\n",
      "     └───┘│                                   │»\n",
      "q_3: ─────┤3                                  ├»\n",
      "          └───────────────────────────────────┘»\n",
      "«     ┌───────────────────────────────────┐»\n",
      "«q_0: ┤0                                  ├»\n",
      "«     │                                   │»\n",
      "«q_1: ┤1                                  ├»\n",
      "«     │  exp(-it (XYII + YXII))(1.0*t[1]) │»\n",
      "«q_2: ┤2                                  ├»\n",
      "«     │                                   │»\n",
      "«q_3: ┤3                                  ├»\n",
      "«     └───────────────────────────────────┘»\n",
      "«     ┌─────────────────────────────────────────────────────────────────────────────┐\n",
      "«q_0: ┤0                                                                            ├\n",
      "«     │                                                                             │\n",
      "«q_1: ┤1                                                                            ├\n",
      "«     │  exp(-it (YYXY + XXXY + XYYY + YXYY + XYXX + YXXX + YYYX + XXYX))(1.0*t[2]) │\n",
      "«q_2: ┤2                                                                            ├\n",
      "«     │                                                                             │\n",
      "«q_3: ┤3                                                                            ├\n",
      "«     └─────────────────────────────────────────────────────────────────────────────┘\n"
     ]
    }
   ],
   "source": [
    "ansatz = UCCSD(converter,num_particles,num_spin_orbitals,initial_state = init_state)\n",
    "print(ansatz.decompose())\n",
    "#后端设定\n",
    "backend = Aer.get_backend('statevector_simulator')\n",
    "optimizer = L_BFGS_B(maxfun=500)"
   ]
  },
  {
   "cell_type": "code",
   "execution_count": null,
   "id": "2bc603bd",
   "metadata": {},
   "outputs": [
    {
     "name": "stdout",
     "output_type": "stream",
     "text": [
      "Exact electronic energy -1.697007028852889\n",
      "=== GROUND STATE ENERGY ===\n",
      " \n",
      "* Electronic ground state energy (Hartree): -84.700895930366\n",
      "  - computed part:      -1.697007028853\n",
      "  - ActiveSpaceTransformer extracted energy part: -83.003888901513\n",
      "~ Nuclear repulsion energy (Hartree): 9.819476509782\n",
      "> Total ground state energy (Hartree): -74.881419420584\n",
      " \n",
      "=== MEASURED OBSERVABLES ===\n",
      " \n",
      "  0:  # Particles: 2.000 S: 0.000 S^2: 0.000 M: 0.000\n",
      " \n",
      "=== DIPOLE MOMENTS ===\n",
      " \n",
      "~ Nuclear dipole moment (a.u.): [2.86710004  0.0  0.0]\n",
      " \n",
      "  0: \n",
      "  * Electronic dipole moment (a.u.): [2.0649676  0.0  0.0]\n",
      "    - computed part:      [0.0022825  0.0  0.0]\n",
      "    - ActiveSpaceTransformer extracted energy part: [2.0626851  0.0  0.0]\n",
      "  > Dipole moment (a.u.): [0.80213244  0.0  0.0]  Total: 0.80213244\n",
      "                 (debye): [2.0388171  0.0  0.0]  Total: 2.0388171\n",
      " \n"
     ]
    }
   ],
   "source": [
    "def exact_diagonalizer(problem, converter):\n",
    "    solver = NumPyMinimumEigensolverFactory()\n",
    "    calc = GroundStateEigensolver(converter, solver)\n",
    "    result = calc.solve(problem)\n",
    "    return result\n",
    "\n",
    "result_exact = exact_diagonalizer(problem, converter)\n",
    "exact_energy = np.real(result_exact.eigenenergies[0])\n",
    "print(\"Exact electronic energy\", exact_energy)\n",
    "print(result_exact)"
   ]
  },
  {
   "cell_type": "code",
   "execution_count": 4,
   "id": "df749495",
   "metadata": {},
   "outputs": [
    {
     "ename": "NameError",
     "evalue": "name 'num_particles' is not defined",
     "output_type": "error",
     "traceback": [
      "\u001b[0;31m---------------------------------------------------------------------------\u001b[0m",
      "\u001b[0;31mNameError\u001b[0m                                 Traceback (most recent call last)",
      "\u001b[1;32m/home/yangjianfei/代码/Untitled.ipynb Cell 6\u001b[0m in \u001b[0;36m<cell line: 8>\u001b[0;34m()\u001b[0m\n\u001b[1;32m      <a href='vscode-notebook-cell://wsl%2Bubuntu/home/yangjianfei/%E4%BB%A3%E7%A0%81/Untitled.ipynb#W4sdnNjb2RlLXJlbW90ZQ%3D%3D?line=4'>5</a>\u001b[0m \u001b[39mfrom\u001b[39;00m \u001b[39mqiskit\u001b[39;00m\u001b[39m.\u001b[39;00m\u001b[39malgorithms\u001b[39;00m\u001b[39m.\u001b[39;00m\u001b[39mminimum_eigensolvers\u001b[39;00m \u001b[39mimport\u001b[39;00m AdaptVQE\n\u001b[1;32m      <a href='vscode-notebook-cell://wsl%2Bubuntu/home/yangjianfei/%E4%BB%A3%E7%A0%81/Untitled.ipynb#W4sdnNjb2RlLXJlbW90ZQ%3D%3D?line=5'>6</a>\u001b[0m \u001b[39mfrom\u001b[39;00m \u001b[39mqiskit_nature\u001b[39;00m\u001b[39m.\u001b[39;00m\u001b[39msecond_q\u001b[39;00m\u001b[39m.\u001b[39;00m\u001b[39malgorithms\u001b[39;00m \u001b[39mimport\u001b[39;00m GroundStateEigensolver\n\u001b[0;32m----> <a href='vscode-notebook-cell://wsl%2Bubuntu/home/yangjianfei/%E4%BB%A3%E7%A0%81/Untitled.ipynb#W4sdnNjb2RlLXJlbW90ZQ%3D%3D?line=7'>8</a>\u001b[0m new_ansatz \u001b[39m=\u001b[39m UCCSD(num_particles\u001b[39m=\u001b[39mnum_particles,num_spin_orbitals\u001b[39m=\u001b[39mnum_spin_orbitals,qubit_converter\u001b[39m=\u001b[39mconverter,initial_state\u001b[39m=\u001b[39minit_state)\n\u001b[1;32m      <a href='vscode-notebook-cell://wsl%2Bubuntu/home/yangjianfei/%E4%BB%A3%E7%A0%81/Untitled.ipynb#W4sdnNjb2RlLXJlbW90ZQ%3D%3D?line=8'>9</a>\u001b[0m vqe \u001b[39m=\u001b[39m VQE(Estimator(), ansatz, SLSQP())\n\u001b[1;32m     <a href='vscode-notebook-cell://wsl%2Bubuntu/home/yangjianfei/%E4%BB%A3%E7%A0%81/Untitled.ipynb#W4sdnNjb2RlLXJlbW90ZQ%3D%3D?line=9'>10</a>\u001b[0m vqe\u001b[39m.\u001b[39minitial_point \u001b[39m=\u001b[39m np\u001b[39m.\u001b[39mzeros(ansatz\u001b[39m.\u001b[39mnum_parameters)\n",
      "\u001b[0;31mNameError\u001b[0m: name 'num_particles' is not defined"
     ]
    }
   ],
   "source": [
    "import numpy as np\n",
    "from qiskit.algorithms.optimizers import SLSQP\n",
    "from qiskit.algorithms.minimum_eigensolvers import VQE\n",
    "from qiskit.primitives import Estimator\n",
    "from qiskit.algorithms.minimum_eigensolvers import AdaptVQE\n",
    "from qiskit_nature.second_q.algorithms import GroundStateEigensolver\n",
    "\n",
    "new_ansatz = UCCSD(num_particles=num_particles,num_spin_orbitals=num_spin_orbitals,qubit_converter=converter,initial_state=init_state)\n",
    "vqe = VQE(Estimator(), ansatz, SLSQP())\n",
    "vqe.initial_point = np.zeros(ansatz.num_parameters)\n",
    "adapt_vqe = AdaptVQE(vqe)\n",
    "adapt_vqe.supports_aux_operators = lambda: True  # temporary fix\n",
    "solver = GroundStateEigensolver(converter, adapt_vqe)\n",
    "result = solver.solve(problem)\n",
    "\n",
    "\n"
   ]
  },
  {
   "cell_type": "code",
   "execution_count": null,
   "id": "582d3f58",
   "metadata": {},
   "outputs": [],
   "source": [
    "from AdaptVQE/"
   ]
  }
 ],
 "metadata": {
  "kernelspec": {
   "display_name": "Python 3.10.6 ('QISKIT_WSL2': conda)",
   "language": "python",
   "name": "python3"
  },
  "language_info": {
   "codemirror_mode": {
    "name": "ipython",
    "version": 3
   },
   "file_extension": ".py",
   "mimetype": "text/x-python",
   "name": "python",
   "nbconvert_exporter": "python",
   "pygments_lexer": "ipython3",
   "version": "3.10.6"
  },
  "vscode": {
   "interpreter": {
    "hash": "54e28563ef8f1dd6dc056397af37857e89f17a7fb558808f10e4042dc705258e"
   }
  }
 },
 "nbformat": 4,
 "nbformat_minor": 5
}
