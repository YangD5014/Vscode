{
 "cells": [
  {
   "cell_type": "code",
   "execution_count": 1,
   "metadata": {},
   "outputs": [],
   "source": [
    "from qiskit_nature.second_q.drivers import PySCFDriver\n",
    "from qiskit_nature.second_q.mappers import JordanWignerMapper, QubitConverter,BravyiKitaevSuperFastMapper\n",
    "from qiskit_nature.second_q.formats.molecule_info import MoleculeInfo\n",
    "from qiskit_nature.second_q.circuit.library import UCCSD, HartreeFock\n",
    "from qiskit_nature.second_q.transformers import ActiveSpaceTransformer\n",
    "import numpy as np\n",
    "from qiskit.algorithms.optimizers import SLSQP\n",
    "from qiskit.algorithms.minimum_eigensolvers import VQE\n",
    "from qiskit.primitives import Estimator\n",
    "from qiskit.algorithms.minimum_eigensolvers import AdaptVQE\n",
    "from qiskit_nature.second_q.algorithms import GroundStateEigensolver"
   ]
  },
  {
   "cell_type": "code",
   "execution_count": 7,
   "metadata": {},
   "outputs": [],
   "source": [
    "def BeH2_adaptvqe(k,dist):\n",
    "    \n",
    "    # Define Molecule\n",
    "    molecule = MoleculeInfo(\n",
    "        [\"Be\",\"H\",\"H\"],[(0.0,0.0,0.0),(dist, 0.0, 0.0),(-1*dist, 0.0, 0.0)],\n",
    "        multiplicity=1,  # = 2*spin + 1\n",
    "        charge=0,\n",
    "    )\n",
    "    driver = PySCFDriver().from_molecule(molecule)\n",
    "\n",
    "    problem = driver.run()\n",
    "    converter = QubitConverter(BravyiKitaevSuperFastMapper())\n",
    "    transformer = ActiveSpaceTransformer(\n",
    "    num_electrons=4, #how many electrons we have in our active space\n",
    "    num_spatial_orbitals=3, #how many orbitals we have in our active space\n",
    "    )\n",
    "    \n",
    "    #problem = transformer.transform(problem=problem)\n",
    "    print('粒子数{0}，空间轨道数 {1}'.format(problem.num_particles,problem.num_spatial_orbitals))\n",
    "    \n",
    "    initial_state = HartreeFock(num_particles = problem.num_particles,num_spatial_orbitals = problem.num_spatial_orbitals,qubit_converter = converter)\n",
    "    ansatz = UCCSD(num_particles = problem.num_particles,num_spatial_orbitals = problem.num_spatial_orbitals,qubit_converter = converter,initial_state=initial_state)\n",
    "    vqe = VQE(Estimator(), ansatz, SLSQP())\n",
    "    vqe.initial_point = np.zeros(ansatz.num_parameters)\n",
    "    \n",
    "    adapt_vqe = AdaptVQE(vqe,max_iterations=30,threshold=1e-4)\n",
    "    adapt_vqe.supports_aux_operators = lambda: True  # temporary fix\n",
    "    solver = GroundStateEigensolver(converter, adapt_vqe)\n",
    "    adapt_result = solver.solve(problem)\n",
    "    print('AdaptVQE 已经完成：{0}%'.format(((k+1)/80)*100))\n",
    "    return adapt_result"
   ]
  },
  {
   "cell_type": "code",
   "execution_count": 4,
   "metadata": {},
   "outputs": [],
   "source": [
    "def BeH2_uccsd(dist,k):\n",
    "    # Define Molecule\n",
    "    molecule = MoleculeInfo(\n",
    "        [\"Be\",\"H\",\"H\"],[(0.0,0.0,0.0),(dist, 0.0, 0.0),(-1*dist, 0.0, 0.0)],\n",
    "        multiplicity=1,  # = 2*spin + 1\n",
    "        charge=0,\n",
    "    )\n",
    "    driver = PySCFDriver().from_molecule(molecule)\n",
    "\n",
    "    problem = driver.run()\n",
    "    converter = QubitConverter(JordanWignerMapper())\n",
    "    transformer = ActiveSpaceTransformer(\n",
    "    num_electrons=2, #how many electrons we have in our active space\n",
    "    num_spatial_orbitals=3, #how many orbitals we have in our active space\n",
    "    )\n",
    "    #problem = transformer.transform(problem=problem)\n",
    "    print('粒子数{0}，空间轨道数 {1}'.format(problem.num_particles,problem.num_spatial_orbitals))\n",
    "    \n",
    "    initial_state = HartreeFock(num_particles = problem.num_particles,num_spatial_orbitals = problem.num_spatial_orbitals,qubit_converter = converter)\n",
    "    ansatz = UCCSD(num_particles = problem.num_particles,num_spatial_orbitals = problem.num_spatial_orbitals,qubit_converter = converter,initial_state=initial_state)\n",
    "    vqe = VQE(Estimator(), ansatz, SLSQP())\n",
    "    vqe.initial_point = np.zeros(ansatz.num_parameters)\n",
    "    \n",
    "    # adapt_vqe = AdaptVQE(vqe)\n",
    "    # adapt_vqe.supports_aux_operators = lambda: True  # temporary fix\n",
    "    solver = GroundStateEigensolver(converter, vqe)\n",
    "    uccsd_result = solver.solve(problem)\n",
    "    print('UCCSD ansatz 共有 {0} 个参数'.format(ansatz.num_parameters))\n",
    "    print('UCCSD_VQE 已经完成：{0}%'.format(((k+1)/80)*100))\n",
    "    \n",
    "    return uccsd_result"
   ]
  },
  {
   "cell_type": "code",
   "execution_count": 6,
   "metadata": {},
   "outputs": [
    {
     "name": "stdout",
     "output_type": "stream",
     "text": [
      "粒子数(3, 3)，空间轨道数 7\n"
     ]
    },
    {
     "ename": "TypeError",
     "evalue": "object of type 'bool' has no len()",
     "output_type": "error",
     "traceback": [
      "\u001b[0;31m---------------------------------------------------------------------------\u001b[0m",
      "\u001b[0;31mTypeError\u001b[0m                                 Traceback (most recent call last)",
      "\u001b[1;32m/home/yangjianfei/代码/11.16/BeH2_UCCSD_Adapt.ipynb Cell 4\u001b[0m in \u001b[0;36m<cell line: 5>\u001b[0;34m()\u001b[0m\n\u001b[1;32m      <a href='vscode-notebook-cell://wsl%2Bubuntu/home/yangjianfei/%E4%BB%A3%E7%A0%81/11.16/BeH2_UCCSD_Adapt.ipynb#W4sdnNjb2RlLXJlbW90ZQ%3D%3D?line=2'>3</a>\u001b[0m uccsd_vqe_result \u001b[39m=\u001b[39m []\n\u001b[1;32m      <a href='vscode-notebook-cell://wsl%2Bubuntu/home/yangjianfei/%E4%BB%A3%E7%A0%81/11.16/BeH2_UCCSD_Adapt.ipynb#W4sdnNjb2RlLXJlbW90ZQ%3D%3D?line=4'>5</a>\u001b[0m \u001b[39mfor\u001b[39;00m index,dis \u001b[39min\u001b[39;00m \u001b[39menumerate\u001b[39m(distance):\n\u001b[0;32m----> <a href='vscode-notebook-cell://wsl%2Bubuntu/home/yangjianfei/%E4%BB%A3%E7%A0%81/11.16/BeH2_UCCSD_Adapt.ipynb#W4sdnNjb2RlLXJlbW90ZQ%3D%3D?line=5'>6</a>\u001b[0m     adapt_vqe_result\u001b[39m.\u001b[39mappend(BeH2_adaptvqe(dist\u001b[39m=\u001b[39;49mdis,k\u001b[39m=\u001b[39;49mindex))\n\u001b[1;32m      <a href='vscode-notebook-cell://wsl%2Bubuntu/home/yangjianfei/%E4%BB%A3%E7%A0%81/11.16/BeH2_UCCSD_Adapt.ipynb#W4sdnNjb2RlLXJlbW90ZQ%3D%3D?line=6'>7</a>\u001b[0m     uccsd_vqe_result\u001b[39m.\u001b[39mappend(BeH2_uccsd(dist\u001b[39m=\u001b[39mdis,k\u001b[39m=\u001b[39mindex))\n",
      "\u001b[1;32m/home/yangjianfei/代码/11.16/BeH2_UCCSD_Adapt.ipynb Cell 4\u001b[0m in \u001b[0;36mBeH2_adaptvqe\u001b[0;34m(k, dist)\u001b[0m\n\u001b[1;32m     <a href='vscode-notebook-cell://wsl%2Bubuntu/home/yangjianfei/%E4%BB%A3%E7%A0%81/11.16/BeH2_UCCSD_Adapt.ipynb#W4sdnNjb2RlLXJlbW90ZQ%3D%3D?line=26'>27</a>\u001b[0m adapt_vqe\u001b[39m.\u001b[39msupports_aux_operators \u001b[39m=\u001b[39m \u001b[39mlambda\u001b[39;00m: \u001b[39mTrue\u001b[39;00m  \u001b[39m# temporary fix\u001b[39;00m\n\u001b[1;32m     <a href='vscode-notebook-cell://wsl%2Bubuntu/home/yangjianfei/%E4%BB%A3%E7%A0%81/11.16/BeH2_UCCSD_Adapt.ipynb#W4sdnNjb2RlLXJlbW90ZQ%3D%3D?line=27'>28</a>\u001b[0m solver \u001b[39m=\u001b[39m GroundStateEigensolver(converter, adapt_vqe)\n\u001b[0;32m---> <a href='vscode-notebook-cell://wsl%2Bubuntu/home/yangjianfei/%E4%BB%A3%E7%A0%81/11.16/BeH2_UCCSD_Adapt.ipynb#W4sdnNjb2RlLXJlbW90ZQ%3D%3D?line=28'>29</a>\u001b[0m adapt_result \u001b[39m=\u001b[39m solver\u001b[39m.\u001b[39;49msolve(problem)\n\u001b[1;32m     <a href='vscode-notebook-cell://wsl%2Bubuntu/home/yangjianfei/%E4%BB%A3%E7%A0%81/11.16/BeH2_UCCSD_Adapt.ipynb#W4sdnNjb2RlLXJlbW90ZQ%3D%3D?line=29'>30</a>\u001b[0m \u001b[39mprint\u001b[39m(\u001b[39m'\u001b[39m\u001b[39mAdaptVQE 已经完成：\u001b[39m\u001b[39m{0}\u001b[39;00m\u001b[39m%\u001b[39m\u001b[39m'\u001b[39m\u001b[39m.\u001b[39mformat(((k\u001b[39m+\u001b[39m\u001b[39m1\u001b[39m)\u001b[39m/\u001b[39m\u001b[39m80\u001b[39m)\u001b[39m*\u001b[39m\u001b[39m100\u001b[39m))\n\u001b[1;32m     <a href='vscode-notebook-cell://wsl%2Bubuntu/home/yangjianfei/%E4%BB%A3%E7%A0%81/11.16/BeH2_UCCSD_Adapt.ipynb#W4sdnNjb2RlLXJlbW90ZQ%3D%3D?line=30'>31</a>\u001b[0m \u001b[39mreturn\u001b[39;00m adapt_result\n",
      "File \u001b[0;32m~/miniconda3/envs/QISKIT_WSL2/lib/python3.10/site-packages/qiskit_nature/second_q/algorithms/ground_state_solvers/ground_state_eigensolver.py:76\u001b[0m, in \u001b[0;36mGroundStateEigensolver.solve\u001b[0;34m(self, problem, aux_operators)\u001b[0m\n\u001b[1;32m     53\u001b[0m \u001b[39mdef\u001b[39;00m \u001b[39msolve\u001b[39m(\n\u001b[1;32m     54\u001b[0m     \u001b[39mself\u001b[39m,\n\u001b[1;32m     55\u001b[0m     problem: BaseProblem,\n\u001b[1;32m     56\u001b[0m     aux_operators: \u001b[39mdict\u001b[39m[\u001b[39mstr\u001b[39m, SparseLabelOp \u001b[39m|\u001b[39m QubitOperator] \u001b[39m|\u001b[39m \u001b[39mNone\u001b[39;00m \u001b[39m=\u001b[39m \u001b[39mNone\u001b[39;00m,\n\u001b[1;32m     57\u001b[0m ) \u001b[39m-\u001b[39m\u001b[39m>\u001b[39m EigenstateResult:\n\u001b[1;32m     58\u001b[0m     \u001b[39m\"\"\"Compute Ground State properties.\u001b[39;00m\n\u001b[1;32m     59\u001b[0m \n\u001b[1;32m     60\u001b[0m \u001b[39m    Args:\u001b[39;00m\n\u001b[0;32m   (...)\u001b[0m\n\u001b[1;32m     74\u001b[0m \u001b[39m        :meth:`~.BaseProblem.interpret`.\u001b[39;00m\n\u001b[1;32m     75\u001b[0m \u001b[39m    \"\"\"\u001b[39;00m\n\u001b[0;32m---> 76\u001b[0m     main_operator, aux_ops \u001b[39m=\u001b[39m \u001b[39mself\u001b[39;49m\u001b[39m.\u001b[39;49mget_qubit_operators(problem, aux_operators)\n\u001b[1;32m     77\u001b[0m     raw_mes_result \u001b[39m=\u001b[39m \u001b[39mself\u001b[39m\u001b[39m.\u001b[39msolver\u001b[39m.\u001b[39mcompute_minimum_eigenvalue(  \u001b[39m# type: ignore\u001b[39;00m\n\u001b[1;32m     78\u001b[0m         main_operator, aux_ops\n\u001b[1;32m     79\u001b[0m     )\n\u001b[1;32m     81\u001b[0m     eigenstate_result \u001b[39m=\u001b[39m EigenstateResult\u001b[39m.\u001b[39mfrom_result(raw_mes_result)\n",
      "File \u001b[0;32m~/miniconda3/envs/QISKIT_WSL2/lib/python3.10/site-packages/qiskit_nature/second_q/algorithms/ground_state_solvers/ground_state_eigensolver.py:99\u001b[0m, in \u001b[0;36mGroundStateEigensolver.get_qubit_operators\u001b[0;34m(self, problem, aux_operators)\u001b[0m\n\u001b[1;32m     96\u001b[0m \u001b[39mif\u001b[39;00m \u001b[39mhasattr\u001b[39m(problem, \u001b[39m\"\u001b[39m\u001b[39mnum_particles\u001b[39m\u001b[39m\"\u001b[39m):\n\u001b[1;32m     97\u001b[0m     num_particles \u001b[39m=\u001b[39m problem\u001b[39m.\u001b[39mnum_particles  \u001b[39m# type: ignore[attr-defined]\u001b[39;00m\n\u001b[0;32m---> 99\u001b[0m main_operator \u001b[39m=\u001b[39m \u001b[39mself\u001b[39;49m\u001b[39m.\u001b[39;49m_qubit_converter\u001b[39m.\u001b[39;49mconvert(\n\u001b[1;32m    100\u001b[0m     main_second_q_op,\n\u001b[1;32m    101\u001b[0m     num_particles\u001b[39m=\u001b[39;49mnum_particles,\n\u001b[1;32m    102\u001b[0m     sector_locator\u001b[39m=\u001b[39;49mproblem\u001b[39m.\u001b[39;49msymmetry_sector_locator,\n\u001b[1;32m    103\u001b[0m )\n\u001b[1;32m    104\u001b[0m aux_ops \u001b[39m=\u001b[39m \u001b[39mself\u001b[39m\u001b[39m.\u001b[39m_qubit_converter\u001b[39m.\u001b[39mconvert_match(aux_second_q_ops)\n\u001b[1;32m    105\u001b[0m \u001b[39mif\u001b[39;00m aux_operators \u001b[39mis\u001b[39;00m \u001b[39mnot\u001b[39;00m \u001b[39mNone\u001b[39;00m:\n",
      "File \u001b[0;32m~/miniconda3/envs/QISKIT_WSL2/lib/python3.10/site-packages/qiskit_nature/second_q/mappers/qubit_converter.py:245\u001b[0m, in \u001b[0;36mQubitConverter.convert\u001b[0;34m(self, second_q_op, num_particles, sector_locator)\u001b[0m\n\u001b[1;32m    243\u001b[0m qubit_op \u001b[39m=\u001b[39m \u001b[39mself\u001b[39m\u001b[39m.\u001b[39m_map(second_q_op)\n\u001b[1;32m    244\u001b[0m reduced_op \u001b[39m=\u001b[39m \u001b[39mself\u001b[39m\u001b[39m.\u001b[39m_two_qubit_reduce(qubit_op, num_particles)\n\u001b[0;32m--> 245\u001b[0m tapered_op, z2symmetries \u001b[39m=\u001b[39m \u001b[39mself\u001b[39;49m\u001b[39m.\u001b[39;49m_find_taper_op(reduced_op, sector_locator)\n\u001b[1;32m    247\u001b[0m \u001b[39mself\u001b[39m\u001b[39m.\u001b[39m_num_particles \u001b[39m=\u001b[39m num_particles\n\u001b[1;32m    248\u001b[0m \u001b[39mself\u001b[39m\u001b[39m.\u001b[39m_z2symmetries \u001b[39m=\u001b[39m z2symmetries\n",
      "File \u001b[0;32m~/miniconda3/envs/QISKIT_WSL2/lib/python3.10/site-packages/qiskit_nature/second_q/mappers/qubit_converter.py:468\u001b[0m, in \u001b[0;36mQubitConverter._find_taper_op\u001b[0;34m(self, qubit_op, sector_locator)\u001b[0m\n\u001b[1;32m    461\u001b[0m \u001b[39m# So now if we have a sector and have symmetries we found we can attempt to taper\u001b[39;00m\n\u001b[1;32m    462\u001b[0m \u001b[39mif\u001b[39;00m (\n\u001b[1;32m    463\u001b[0m     \u001b[39mself\u001b[39m\u001b[39m.\u001b[39mz2symmetry_reduction \u001b[39mis\u001b[39;00m \u001b[39mnot\u001b[39;00m \u001b[39mNone\u001b[39;00m\n\u001b[1;32m    464\u001b[0m     \u001b[39mand\u001b[39;00m \u001b[39mself\u001b[39m\u001b[39m.\u001b[39mz2symmetry_reduction \u001b[39m!=\u001b[39m \u001b[39m\"\u001b[39m\u001b[39mauto\u001b[39m\u001b[39m\"\u001b[39m\n\u001b[1;32m    465\u001b[0m     \u001b[39mand\u001b[39;00m \u001b[39mnot\u001b[39;00m z2_symmetries\u001b[39m.\u001b[39mis_empty()\n\u001b[1;32m    466\u001b[0m ):\n\u001b[1;32m    467\u001b[0m     \u001b[39m# check sector definition fits to symmetries found\u001b[39;00m\n\u001b[0;32m--> 468\u001b[0m     \u001b[39mif\u001b[39;00m \u001b[39mlen\u001b[39;49m(\u001b[39mself\u001b[39;49m\u001b[39m.\u001b[39;49m_z2symmetry_reduction) \u001b[39m!=\u001b[39m \u001b[39mlen\u001b[39m(z2_symmetries\u001b[39m.\u001b[39msymmetries):\n\u001b[1;32m    469\u001b[0m         \u001b[39mraise\u001b[39;00m QiskitNatureError(\n\u001b[1;32m    470\u001b[0m             \u001b[39m\"\u001b[39m\u001b[39mz2symmetry_reduction tapering values list has \u001b[39m\u001b[39m\"\u001b[39m\n\u001b[1;32m    471\u001b[0m             \u001b[39mf\u001b[39m\u001b[39m\"\u001b[39m\u001b[39minvalid length \u001b[39m\u001b[39m{\u001b[39;00m\u001b[39mlen\u001b[39m(\u001b[39mself\u001b[39m\u001b[39m.\u001b[39m_z2symmetry_reduction)\u001b[39m}\u001b[39;00m\u001b[39m \u001b[39m\u001b[39m\"\u001b[39m\n\u001b[1;32m    472\u001b[0m             \u001b[39mf\u001b[39m\u001b[39m\"\u001b[39m\u001b[39mshould be \u001b[39m\u001b[39m{\u001b[39;00m\u001b[39mlen\u001b[39m(z2_symmetries\u001b[39m.\u001b[39msymmetries)\u001b[39m}\u001b[39;00m\u001b[39m\"\u001b[39m\n\u001b[1;32m    473\u001b[0m         )\n\u001b[1;32m    474\u001b[0m     \u001b[39m# Check all operators commute with main operator's symmetry\u001b[39;00m\n",
      "\u001b[0;31mTypeError\u001b[0m: object of type 'bool' has no len()"
     ]
    }
   ],
   "source": [
    "distance = np.linspace(0.5,2.5,80)\n",
    "adapt_vqe_result = []\n",
    "uccsd_vqe_result = []\n",
    "\n",
    "for index,dis in enumerate(distance):\n",
    "    adapt_vqe_result.append(BeH2_adaptvqe(dist=dis,k=index))\n",
    "    uccsd_vqe_result.append(BeH2_uccsd(dist=dis,k=index))"
   ]
  },
  {
   "cell_type": "code",
   "execution_count": 5,
   "metadata": {},
   "outputs": [
    {
     "name": "stdout",
     "output_type": "stream",
     "text": [
      "粒子数(3, 3)，空间轨道数 7\n"
     ]
    },
    {
     "ename": "ValueError",
     "evalue": "All operators must act on the same number of qubits.",
     "output_type": "error",
     "traceback": [
      "\u001b[0;31m---------------------------------------------------------------------------\u001b[0m",
      "\u001b[0;31mValueError\u001b[0m                                Traceback (most recent call last)",
      "\u001b[1;32m/home/yangjianfei/code/11.16/BeH2_UCCSD_Adapt.ipynb Cell 5\u001b[0m in \u001b[0;36m<cell line: 1>\u001b[0;34m()\u001b[0m\n\u001b[0;32m----> <a href='vscode-notebook-cell://wsl%2Bubuntu/home/yangjianfei/code/11.16/BeH2_UCCSD_Adapt.ipynb#W4sdnNjb2RlLXJlbW90ZQ%3D%3D?line=0'>1</a>\u001b[0m result1 \u001b[39m=\u001b[39m BeH2_uccsd(dist\u001b[39m=\u001b[39;49m\u001b[39m1.7\u001b[39;49m,k\u001b[39m=\u001b[39;49m\u001b[39m1\u001b[39;49m)\n",
      "\u001b[1;32m/home/yangjianfei/code/11.16/BeH2_UCCSD_Adapt.ipynb Cell 5\u001b[0m in \u001b[0;36mBeH2_uccsd\u001b[0;34m(dist, k)\u001b[0m\n\u001b[1;32m     <a href='vscode-notebook-cell://wsl%2Bubuntu/home/yangjianfei/code/11.16/BeH2_UCCSD_Adapt.ipynb#W4sdnNjb2RlLXJlbW90ZQ%3D%3D?line=16'>17</a>\u001b[0m \u001b[39mprint\u001b[39m(\u001b[39m'\u001b[39m\u001b[39m粒子数\u001b[39m\u001b[39m{0}\u001b[39;00m\u001b[39m，空间轨道数 \u001b[39m\u001b[39m{1}\u001b[39;00m\u001b[39m'\u001b[39m\u001b[39m.\u001b[39mformat(problem\u001b[39m.\u001b[39mnum_particles,problem\u001b[39m.\u001b[39mnum_spatial_orbitals))\n\u001b[1;32m     <a href='vscode-notebook-cell://wsl%2Bubuntu/home/yangjianfei/code/11.16/BeH2_UCCSD_Adapt.ipynb#W4sdnNjb2RlLXJlbW90ZQ%3D%3D?line=18'>19</a>\u001b[0m initial_state \u001b[39m=\u001b[39m HartreeFock(num_particles \u001b[39m=\u001b[39m problem\u001b[39m.\u001b[39mnum_particles,num_spatial_orbitals \u001b[39m=\u001b[39m problem\u001b[39m.\u001b[39mnum_spatial_orbitals,qubit_converter \u001b[39m=\u001b[39m converter)\n\u001b[0;32m---> <a href='vscode-notebook-cell://wsl%2Bubuntu/home/yangjianfei/code/11.16/BeH2_UCCSD_Adapt.ipynb#W4sdnNjb2RlLXJlbW90ZQ%3D%3D?line=19'>20</a>\u001b[0m ansatz \u001b[39m=\u001b[39m UCCSD(num_particles \u001b[39m=\u001b[39;49m problem\u001b[39m.\u001b[39;49mnum_particles,num_spatial_orbitals \u001b[39m=\u001b[39;49m problem\u001b[39m.\u001b[39;49mnum_spatial_orbitals,qubit_converter \u001b[39m=\u001b[39;49m converter,initial_state\u001b[39m=\u001b[39;49minitial_state)\n\u001b[1;32m     <a href='vscode-notebook-cell://wsl%2Bubuntu/home/yangjianfei/code/11.16/BeH2_UCCSD_Adapt.ipynb#W4sdnNjb2RlLXJlbW90ZQ%3D%3D?line=20'>21</a>\u001b[0m vqe \u001b[39m=\u001b[39m VQE(Estimator(), ansatz, SLSQP())\n\u001b[1;32m     <a href='vscode-notebook-cell://wsl%2Bubuntu/home/yangjianfei/code/11.16/BeH2_UCCSD_Adapt.ipynb#W4sdnNjb2RlLXJlbW90ZQ%3D%3D?line=21'>22</a>\u001b[0m vqe\u001b[39m.\u001b[39minitial_point \u001b[39m=\u001b[39m np\u001b[39m.\u001b[39mzeros(ansatz\u001b[39m.\u001b[39mnum_parameters)\n",
      "File \u001b[0;32m~/miniconda3/envs/QISKIT_WSL2/lib/python3.10/site-packages/qiskit_nature/second_q/circuit/library/ansatzes/uccsd.py:54\u001b[0m, in \u001b[0;36mUCCSD.__init__\u001b[0;34m(self, num_spatial_orbitals, num_particles, qubit_converter, reps, initial_state, generalized, preserve_spin)\u001b[0m\n\u001b[1;32m     29\u001b[0m \u001b[39mdef\u001b[39;00m \u001b[39m__init__\u001b[39m(\n\u001b[1;32m     30\u001b[0m     \u001b[39mself\u001b[39m,\n\u001b[1;32m     31\u001b[0m     num_spatial_orbitals: \u001b[39mint\u001b[39m \u001b[39m|\u001b[39m \u001b[39mNone\u001b[39;00m \u001b[39m=\u001b[39m \u001b[39mNone\u001b[39;00m,\n\u001b[0;32m   (...)\u001b[0m\n\u001b[1;32m     38\u001b[0m     preserve_spin: \u001b[39mbool\u001b[39m \u001b[39m=\u001b[39m \u001b[39mTrue\u001b[39;00m,\n\u001b[1;32m     39\u001b[0m ):\n\u001b[1;32m     40\u001b[0m     \u001b[39m\"\"\"\u001b[39;00m\n\u001b[1;32m     41\u001b[0m \u001b[39m    Args:\u001b[39;00m\n\u001b[1;32m     42\u001b[0m \u001b[39m        num_spatial_orbitals: The number of spatial orbitals.\u001b[39;00m\n\u001b[0;32m   (...)\u001b[0m\n\u001b[1;32m     52\u001b[0m \u001b[39m        preserve_spin: Boolean flag whether or not to preserve the particle spins.\u001b[39;00m\n\u001b[1;32m     53\u001b[0m \u001b[39m    \"\"\"\u001b[39;00m\n\u001b[0;32m---> 54\u001b[0m     \u001b[39msuper\u001b[39;49m()\u001b[39m.\u001b[39;49m\u001b[39m__init__\u001b[39;49m(\n\u001b[1;32m     55\u001b[0m         num_spatial_orbitals\u001b[39m=\u001b[39;49mnum_spatial_orbitals,\n\u001b[1;32m     56\u001b[0m         num_particles\u001b[39m=\u001b[39;49mnum_particles,\n\u001b[1;32m     57\u001b[0m         excitations\u001b[39m=\u001b[39;49m\u001b[39m\"\u001b[39;49m\u001b[39msd\u001b[39;49m\u001b[39m\"\u001b[39;49m,\n\u001b[1;32m     58\u001b[0m         qubit_converter\u001b[39m=\u001b[39;49mqubit_converter,\n\u001b[1;32m     59\u001b[0m         alpha_spin\u001b[39m=\u001b[39;49m\u001b[39mTrue\u001b[39;49;00m,\n\u001b[1;32m     60\u001b[0m         beta_spin\u001b[39m=\u001b[39;49m\u001b[39mTrue\u001b[39;49;00m,\n\u001b[1;32m     61\u001b[0m         max_spin_excitation\u001b[39m=\u001b[39;49m\u001b[39mNone\u001b[39;49;00m,\n\u001b[1;32m     62\u001b[0m         generalized\u001b[39m=\u001b[39;49mgeneralized,\n\u001b[1;32m     63\u001b[0m         preserve_spin\u001b[39m=\u001b[39;49mpreserve_spin,\n\u001b[1;32m     64\u001b[0m         reps\u001b[39m=\u001b[39;49mreps,\n\u001b[1;32m     65\u001b[0m         initial_state\u001b[39m=\u001b[39;49minitial_state,\n\u001b[1;32m     66\u001b[0m     )\n",
      "File \u001b[0;32m~/miniconda3/envs/QISKIT_WSL2/lib/python3.10/site-packages/qiskit_nature/second_q/circuit/library/ansatzes/ucc.py:219\u001b[0m, in \u001b[0;36mUCC.__init__\u001b[0;34m(self, num_spatial_orbitals, num_particles, excitations, qubit_converter, alpha_spin, beta_spin, max_spin_excitation, generalized, preserve_spin, reps, initial_state)\u001b[0m\n\u001b[1;32m    212\u001b[0m \u001b[39mself\u001b[39m\u001b[39m.\u001b[39m_excitation_ops: \u001b[39mlist\u001b[39m[SparseLabelOp] \u001b[39m=\u001b[39m \u001b[39mNone\u001b[39;00m\n\u001b[1;32m    214\u001b[0m \u001b[39m# Our parent, EvolvedOperatorAnsatz, sets qregs when it knows the\u001b[39;00m\n\u001b[1;32m    215\u001b[0m \u001b[39m# number of qubits, which it gets from the operators. Getting the\u001b[39;00m\n\u001b[1;32m    216\u001b[0m \u001b[39m# operators here will build them if configuration already allows.\u001b[39;00m\n\u001b[1;32m    217\u001b[0m \u001b[39m# This will allow the circuit to be fully built/valid when it's\u001b[39;00m\n\u001b[1;32m    218\u001b[0m \u001b[39m# possible at this stage.\u001b[39;00m\n\u001b[0;32m--> 219\u001b[0m _ \u001b[39m=\u001b[39m \u001b[39mself\u001b[39;49m\u001b[39m.\u001b[39;49moperators\n",
      "File \u001b[0;32m~/miniconda3/envs/QISKIT_WSL2/lib/python3.10/site-packages/qiskit_nature/second_q/circuit/library/ansatzes/ucc.py:314\u001b[0m, in \u001b[0;36mUCC.operators\u001b[0;34m(self)\u001b[0m\n\u001b[1;32m    306\u001b[0m         \u001b[39m# Convert operators according to saved state in converter from the conversion of the\u001b[39;00m\n\u001b[1;32m    307\u001b[0m         \u001b[39m# main operator since these need to be compatible. If Z2 Symmetry tapering was done\u001b[39;00m\n\u001b[1;32m    308\u001b[0m         \u001b[39m# it may be that one or more excitation operators do not commute with the symmetry.\u001b[39;00m\n\u001b[0;32m   (...)\u001b[0m\n\u001b[1;32m    311\u001b[0m         \u001b[39m# the ``excitation_list`` is transformed identically to the operators, we retain\u001b[39;00m\n\u001b[1;32m    312\u001b[0m         \u001b[39m# ``None`` for non-commuting operators in order to manually remove them in unison.\u001b[39;00m\n\u001b[1;32m    313\u001b[0m         operators \u001b[39m=\u001b[39m \u001b[39mself\u001b[39m\u001b[39m.\u001b[39mqubit_converter\u001b[39m.\u001b[39mconvert_match(excitation_ops, suppress_none\u001b[39m=\u001b[39m\u001b[39mFalse\u001b[39;00m)\n\u001b[0;32m--> 314\u001b[0m         \u001b[39mself\u001b[39;49m\u001b[39m.\u001b[39;49m_filter_operators(operators\u001b[39m=\u001b[39;49moperators)\n\u001b[1;32m    316\u001b[0m \u001b[39mreturn\u001b[39;00m \u001b[39msuper\u001b[39m(UCC, \u001b[39mself\u001b[39m\u001b[39m.\u001b[39m\u001b[39m__class__\u001b[39m)\u001b[39m.\u001b[39moperators\u001b[39m.\u001b[39m\u001b[39m__get__\u001b[39m(\u001b[39mself\u001b[39m)\n",
      "File \u001b[0;32m~/miniconda3/envs/QISKIT_WSL2/lib/python3.10/site-packages/qiskit_nature/second_q/circuit/library/ansatzes/ucc.py:326\u001b[0m, in \u001b[0;36mUCC._filter_operators\u001b[0;34m(self, operators)\u001b[0m\n\u001b[1;32m    323\u001b[0m         valid_excitations\u001b[39m.\u001b[39mappend(ex)\n\u001b[1;32m    325\u001b[0m \u001b[39mself\u001b[39m\u001b[39m.\u001b[39m_excitation_list \u001b[39m=\u001b[39m valid_excitations\n\u001b[0;32m--> 326\u001b[0m \u001b[39mself\u001b[39m\u001b[39m.\u001b[39moperators \u001b[39m=\u001b[39m valid_operators\n",
      "File \u001b[0;32m~/miniconda3/envs/QISKIT_WSL2/lib/python3.10/site-packages/qiskit/circuit/library/evolved_operator_ansatz.py:134\u001b[0m, in \u001b[0;36mEvolvedOperatorAnsatz.operators\u001b[0;34m(self, operators)\u001b[0m\n\u001b[1;32m    125\u001b[0m \u001b[39m@operators\u001b[39m\u001b[39m.\u001b[39msetter\n\u001b[1;32m    126\u001b[0m \u001b[39mdef\u001b[39;00m \u001b[39moperators\u001b[39m(\u001b[39mself\u001b[39m, operators\u001b[39m=\u001b[39m\u001b[39mNone\u001b[39;00m) \u001b[39m-\u001b[39m\u001b[39m>\u001b[39m \u001b[39mNone\u001b[39;00m:\n\u001b[1;32m    127\u001b[0m     \u001b[39m\"\"\"Set the operators to be evolved.\u001b[39;00m\n\u001b[1;32m    128\u001b[0m \n\u001b[1;32m    129\u001b[0m \u001b[39m    operators (Optional[Union[OperatorBase, QuantumCircuit, list]): The operators to evolve.\u001b[39;00m\n\u001b[0;32m   (...)\u001b[0m\n\u001b[1;32m    132\u001b[0m \u001b[39m        operators (and circuits).\u001b[39;00m\n\u001b[1;32m    133\u001b[0m \u001b[39m    \"\"\"\u001b[39;00m\n\u001b[0;32m--> 134\u001b[0m     operators \u001b[39m=\u001b[39m _validate_operators(operators)\n\u001b[1;32m    135\u001b[0m     \u001b[39mself\u001b[39m\u001b[39m.\u001b[39m_invalidate()\n\u001b[1;32m    136\u001b[0m     \u001b[39mself\u001b[39m\u001b[39m.\u001b[39m_operators \u001b[39m=\u001b[39m operators\n",
      "File \u001b[0;32m~/miniconda3/envs/QISKIT_WSL2/lib/python3.10/site-packages/qiskit/circuit/library/evolved_operator_ansatz.py:190\u001b[0m, in \u001b[0;36m_validate_operators\u001b[0;34m(operators)\u001b[0m\n\u001b[1;32m    188\u001b[0m     num_qubits \u001b[39m=\u001b[39m operators[\u001b[39m0\u001b[39m]\u001b[39m.\u001b[39mnum_qubits\n\u001b[1;32m    189\u001b[0m     \u001b[39mif\u001b[39;00m \u001b[39many\u001b[39m(operators[i]\u001b[39m.\u001b[39mnum_qubits \u001b[39m!=\u001b[39m num_qubits \u001b[39mfor\u001b[39;00m i \u001b[39min\u001b[39;00m \u001b[39mrange\u001b[39m(\u001b[39m1\u001b[39m, \u001b[39mlen\u001b[39m(operators))):\n\u001b[0;32m--> 190\u001b[0m         \u001b[39mraise\u001b[39;00m \u001b[39mValueError\u001b[39;00m(\u001b[39m\"\u001b[39m\u001b[39mAll operators must act on the same number of qubits.\u001b[39m\u001b[39m\"\u001b[39m)\n\u001b[1;32m    192\u001b[0m \u001b[39mreturn\u001b[39;00m operators\n",
      "\u001b[0;31mValueError\u001b[0m: All operators must act on the same number of qubits."
     ]
    }
   ],
   "source": [
    "result1 = BeH2_uccsd(dist=1.7,k=1)"
   ]
  },
  {
   "cell_type": "code",
   "execution_count": null,
   "metadata": {},
   "outputs": [],
   "source": []
  }
 ],
 "metadata": {
  "kernelspec": {
   "display_name": "Python 3.10.6 ('QISKIT_WSL2': conda)",
   "language": "python",
   "name": "python3"
  },
  "language_info": {
   "codemirror_mode": {
    "name": "ipython",
    "version": 3
   },
   "file_extension": ".py",
   "mimetype": "text/x-python",
   "name": "python",
   "nbconvert_exporter": "python",
   "pygments_lexer": "ipython3",
   "version": "3.10.6"
  },
  "orig_nbformat": 4,
  "vscode": {
   "interpreter": {
    "hash": "54e28563ef8f1dd6dc056397af37857e89f17a7fb558808f10e4042dc705258e"
   }
  }
 },
 "nbformat": 4,
 "nbformat_minor": 2
}
