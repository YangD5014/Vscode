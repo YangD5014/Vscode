{
 "cells": [
  {
   "cell_type": "code",
   "execution_count": 7,
   "metadata": {},
   "outputs": [],
   "source": [
    "from openvqe.adapt.qubit_adapt_vqe import qubit_adapt_vqe\n",
    "from openvqe.common_files.qubit_pool import QubitPool\n",
    "from openvqe.common_files.molecule_factory_with_sparse import MoleculeFactory\n",
    "\n",
    "qubitpool = QubitPool()\n",
    "molecule_factory = MoleculeFactory()\n"
   ]
  },
  {
   "cell_type": "code",
   "execution_count": 6,
   "metadata": {},
   "outputs": [
    {
     "data": {
      "text/plain": [
       "<openvqe.common_files.qubit_pool.QubitPool at 0x7f8db0b0a530>"
      ]
     },
     "execution_count": 6,
     "metadata": {},
     "output_type": "execute_result"
    }
   ],
   "source": [
    "qubitpool"
   ]
  },
  {
   "cell_type": "code",
   "execution_count": 8,
   "metadata": {},
   "outputs": [],
   "source": [
    "molecule_symbol = 'H2'\n",
    "# In qubit ADAPT-VQE normally we choose the generalized single and double excitations\n",
    "type_of_generator = 'singlet_gsd'\n",
    "transform = 'JW'\n",
    "active = False"
   ]
  },
  {
   "cell_type": "code",
   "execution_count": 9,
   "metadata": {},
   "outputs": [
    {
     "name": "stdout",
     "output_type": "stream",
     "text": [
      " --------------------------------------------------------------------------\n",
      "Running in the non active case: \n",
      "                     molecule symbol: H2 \n",
      "                     molecule basis: 6-31g \n",
      "                     type of generator: singlet_gsd \n",
      "                     transform: JW \n",
      " --------------------------------------------------------------------------\n",
      " --------------------------------------------------------------------------\n",
      "                                                          \n",
      "                      Generate Hamiltonians and Properties from :\n",
      "                                                          \n",
      " --------------------------------------------------------------------------\n",
      "                                                          \n",
      "Number of electrons =  2\n",
      "Number of qubits before active space selection =  8\n",
      "Orbital energies =  [-0.59279976  0.23579258  0.77956294  1.39138474]\n",
      "Nuclear repulsion =  0.70556961456\n",
      "Noons =  [1.9705947706867002, 0.02412748118576968, 0.005019126551194685, 0.0002586215763354287]\n",
      " --------------------------------------------------------------------------\n",
      "                                                          \n",
      "                      Generate Cluster OPS from :\n",
      "                                                          \n",
      " --------------------------------------------------------------------------\n",
      "                                                          \n",
      "Pool size:  66\n",
      "length of the cluster OP:  66\n",
      "length of the cluster OPS:  66\n",
      "length of the cluster _sparse:  66\n"
     ]
    }
   ],
   "source": [
    "r, geometry, charge, spin, basis = molecule_factory.get_parameters(molecule_symbol)\n",
    "print(\" --------------------------------------------------------------------------\")\n",
    "print(\"Running in the non active case: \")\n",
    "print(\"                     molecule symbol: %s \" %(molecule_symbol))\n",
    "print(\"                     molecule basis: %s \" %(basis))\n",
    "print(\"                     type of generator: %s \" %(type_of_generator))\n",
    "print(\"                     transform: %s \" %(transform))\n",
    "print(\" --------------------------------------------------------------------------\")\n",
    "\n",
    "print(\" --------------------------------------------------------------------------\")\n",
    "print(\"                                                          \")\n",
    "print(\"                      Generate Hamiltonians and Properties from :\")\n",
    "print(\"                                                          \")\n",
    "print(\" --------------------------------------------------------------------------\")\n",
    "print(\"                                                          \")\n",
    "hamiltonian, hamiltonian_sparse, hamiltonian_sp, hamiltonian_sp_sparse, n_elec, noons_full, orb_energies_full, info = molecule_factory.generate_hamiltonian(molecule_symbol,active=active, transform=transform)\n",
    "nbqbits = len(orb_energies_full)\n",
    "hf_init = molecule_factory.find_hf_init(hamiltonian, n_elec, noons_full, orb_energies_full)\n",
    "reference_ket, hf_init_sp = molecule_factory.get_reference_ket(hf_init, nbqbits, transform)\n",
    "print(\" --------------------------------------------------------------------------\")\n",
    "print(\"                                                          \")\n",
    "print(\"                      Generate Cluster OPS from :\")\n",
    "print(\"                                                          \")\n",
    "print(\" --------------------------------------------------------------------------\")\n",
    "print(\"                                                          \")\n",
    "\n",
    "pool_size,cluster_ops, cluster_ops_sp, cluster_ops_sparse = molecule_factory.generate_cluster_ops(molecule_symbol, type_of_generator=type_of_generator, transform=transform, active=active)\n",
    "\n",
    "print('Pool size: ', pool_size)\n",
    "print('length of the cluster OP: ', len(cluster_ops))\n",
    "print('length of the cluster OPS: ', len(cluster_ops_sp))\n",
    "print('length of the cluster _sparse: ', len(cluster_ops_sp))"
   ]
  },
  {
   "cell_type": "code",
   "execution_count": 10,
   "metadata": {
    "scrolled": false
   },
   "outputs": [
    {
     "name": "stdout",
     "output_type": "stream",
     "text": [
      "The current pool is random\n",
      "length of the pool 50\n"
     ]
    },
    {
     "ename": "TypeError",
     "evalue": "qubit_adapt_vqe() got an unexpected keyword argument 'chosen_grad'",
     "output_type": "error",
     "traceback": [
      "\u001b[0;31m---------------------------------------------------------------------------\u001b[0m",
      "\u001b[0;31mTypeError\u001b[0m                                 Traceback (most recent call last)",
      "\u001b[1;32m/home/yangjianfei/code/1217/demo_qubit_adapt.ipynb Cell 5\u001b[0m in \u001b[0;36m<cell line: 18>\u001b[0;34m()\u001b[0m\n\u001b[1;32m     <a href='vscode-notebook-cell://wsl%2Bubuntu/home/yangjianfei/code/1217/demo_qubit_adapt.ipynb#W3sdnNjb2RlLXJlbW90ZQ%3D%3D?line=15'>16</a>\u001b[0m pool_pure \u001b[39m=\u001b[39m returned_pool\n\u001b[1;32m     <a href='vscode-notebook-cell://wsl%2Bubuntu/home/yangjianfei/code/1217/demo_qubit_adapt.ipynb#W3sdnNjb2RlLXJlbW90ZQ%3D%3D?line=16'>17</a>\u001b[0m \u001b[39mprint\u001b[39m(\u001b[39m\"\u001b[39m\u001b[39mlength of the pool\u001b[39m\u001b[39m\"\u001b[39m,\u001b[39mlen\u001b[39m(pool_mix))\n\u001b[0;32m---> <a href='vscode-notebook-cell://wsl%2Bubuntu/home/yangjianfei/code/1217/demo_qubit_adapt.ipynb#W3sdnNjb2RlLXJlbW90ZQ%3D%3D?line=17'>18</a>\u001b[0m iterations_sim, iterations_ana, result_sim, result_ana \u001b[39m=\u001b[39m qubit_adapt_vqe(hamiltonian_sp, hamiltonian_sp_sparse,\n\u001b[1;32m     <a href='vscode-notebook-cell://wsl%2Bubuntu/home/yangjianfei/code/1217/demo_qubit_adapt.ipynb#W3sdnNjb2RlLXJlbW90ZQ%3D%3D?line=18'>19</a>\u001b[0m        reference_ket, nbqbits, pool_mix, hf_init_sp, info[\u001b[39m'\u001b[39;49m\u001b[39mFCI\u001b[39;49m\u001b[39m'\u001b[39;49m],\n\u001b[1;32m     <a href='vscode-notebook-cell://wsl%2Bubuntu/home/yangjianfei/code/1217/demo_qubit_adapt.ipynb#W3sdnNjb2RlLXJlbW90ZQ%3D%3D?line=19'>20</a>\u001b[0m         chosen_grad \u001b[39m=\u001b[39;49m \u001b[39m1\u001b[39;49m,\n\u001b[1;32m     <a href='vscode-notebook-cell://wsl%2Bubuntu/home/yangjianfei/code/1217/demo_qubit_adapt.ipynb#W3sdnNjb2RlLXJlbW90ZQ%3D%3D?line=20'>21</a>\u001b[0m         adapt_conver    \u001b[39m=\u001b[39;49m \u001b[39m'\u001b[39;49m\u001b[39mnorm\u001b[39;49m\u001b[39m'\u001b[39;49m,\n\u001b[1;32m     <a href='vscode-notebook-cell://wsl%2Bubuntu/home/yangjianfei/code/1217/demo_qubit_adapt.ipynb#W3sdnNjb2RlLXJlbW90ZQ%3D%3D?line=21'>22</a>\u001b[0m         adapt_thresh    \u001b[39m=\u001b[39;49m \u001b[39m1e-07\u001b[39;49m,\n\u001b[1;32m     <a href='vscode-notebook-cell://wsl%2Bubuntu/home/yangjianfei/code/1217/demo_qubit_adapt.ipynb#W3sdnNjb2RlLXJlbW90ZQ%3D%3D?line=22'>23</a>\u001b[0m         adapt_maxiter   \u001b[39m=\u001b[39;49m \u001b[39m29\u001b[39;49m,\n\u001b[1;32m     <a href='vscode-notebook-cell://wsl%2Bubuntu/home/yangjianfei/code/1217/demo_qubit_adapt.ipynb#W3sdnNjb2RlLXJlbW90ZQ%3D%3D?line=23'>24</a>\u001b[0m         tolerance_sim \u001b[39m=\u001b[39;49m \u001b[39m1e-09\u001b[39;49m,\n\u001b[1;32m     <a href='vscode-notebook-cell://wsl%2Bubuntu/home/yangjianfei/code/1217/demo_qubit_adapt.ipynb#W3sdnNjb2RlLXJlbW90ZQ%3D%3D?line=24'>25</a>\u001b[0m         method_sim \u001b[39m=\u001b[39;49m \u001b[39m'\u001b[39;49m\u001b[39mBFGS\u001b[39;49m\u001b[39m'\u001b[39;49m)\n\u001b[1;32m     <a href='vscode-notebook-cell://wsl%2Bubuntu/home/yangjianfei/code/1217/demo_qubit_adapt.ipynb#W3sdnNjb2RlLXJlbW90ZQ%3D%3D?line=25'>26</a>\u001b[0m \u001b[39mprint\u001b[39m(\u001b[39m\"\u001b[39m\u001b[39miterations\u001b[39m\u001b[39m\"\u001b[39m,iterations_sim)    \n\u001b[1;32m     <a href='vscode-notebook-cell://wsl%2Bubuntu/home/yangjianfei/code/1217/demo_qubit_adapt.ipynb#W3sdnNjb2RlLXJlbW90ZQ%3D%3D?line=26'>27</a>\u001b[0m \u001b[39mprint\u001b[39m(\u001b[39m\"\u001b[39m\u001b[39mresults\u001b[39m\u001b[39m\"\u001b[39m,result_sim)\n",
      "\u001b[0;31mTypeError\u001b[0m: qubit_adapt_vqe() got an unexpected keyword argument 'chosen_grad'"
     ]
    }
   ],
   "source": [
    "nbqbits = hamiltonian_sp.nbqbits\n",
    "# user can just type the name of pool wanted: full, full_without_Z, reduced_without_Z, YXXX, XYXX,XXYX,XXXY,random, two, four, eight\n",
    "# pure_with_symmetry\n",
    "\n",
    "# for example here user can put radom (YXXX, XYXX, XXYX, XXXY):\n",
    "pool_type = 'random'\n",
    "qubit_pool =qubitpool.generate_pool(cluster_ops)\n",
    "len_returned_pool, returned_pool = qubitpool.generate_pool_without_cluster(pool_type=pool_type, \n",
    "                                                                        nbqbits=nbqbits, \n",
    "                                                                        qubit_pool=qubit_pool,\n",
    "                                                                        molecule_symbol=molecule_symbol)\n",
    "# or user can type:\n",
    "# pool_condition='full_without_Z'\n",
    "# len_returned_pool, returned_pool = qubitpool.generate_hamiltonian_from_cluster(pool_condition, cluster_ops, nbqbits)\n",
    "pool_mix = returned_pool\n",
    "pool_pure = returned_pool\n",
    "print(\"length of the pool\",len(pool_mix))\n",
    "iterations_sim, iterations_ana, result_sim, result_ana = qubit_adapt_vqe(hamiltonian_sp, hamiltonian_sp_sparse,\n",
    "       reference_ket, nbqbits, pool_mix, hf_init_sp, info['FCI'],\n",
    "        chosen_grad = 1,\n",
    "        adapt_conver    = 'norm',\n",
    "        adapt_thresh    = 1e-07,\n",
    "        adapt_maxiter   = 29,\n",
    "        tolerance_sim = 1e-09,\n",
    "        method_sim = 'BFGS')\n",
    "print(\"iterations\",iterations_sim)    \n",
    "print(\"results\",result_sim)"
   ]
  },
  {
   "cell_type": "code",
   "execution_count": null,
   "metadata": {},
   "outputs": [],
   "source": []
  }
 ],
 "metadata": {
  "kernelspec": {
   "display_name": "QISKIT_WSL2",
   "language": "python",
   "name": "python3"
  },
  "language_info": {
   "codemirror_mode": {
    "name": "ipython",
    "version": 3
   },
   "file_extension": ".py",
   "mimetype": "text/x-python",
   "name": "python",
   "nbconvert_exporter": "python",
   "pygments_lexer": "ipython3",
   "version": "3.10.6"
  },
  "vscode": {
   "interpreter": {
    "hash": "54e28563ef8f1dd6dc056397af37857e89f17a7fb558808f10e4042dc705258e"
   }
  }
 },
 "nbformat": 4,
 "nbformat_minor": 4
}
