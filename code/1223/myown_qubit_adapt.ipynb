{
 "cells": [
  {
   "cell_type": "code",
   "execution_count": 24,
   "metadata": {},
   "outputs": [],
   "source": [
    "import numpy as np\n",
    "import math\n",
    "from qiskit.circuit import QuantumCircuit,QuantumRegister\n",
    "from qiskit.circuit.library import EvolvedOperatorAnsatz\n",
    "from qiskit_nature.second_q.drivers import PySCFDriver\n",
    "from qiskit_nature.second_q.mappers import JordanWignerMapper, QubitConverter\n",
    "from qiskit_nature.second_q.formats.molecule_info import MoleculeInfo\n",
    "from qiskit_nature.second_q.transformers import ActiveSpaceTransformer,FreezeCoreTransformer\n",
    "import numpy as np\n",
    "from qiskit.algorithms.optimizers import SLSQP\n",
    "from qiskit.algorithms.minimum_eigensolvers import VQE\n",
    "from qiskit.primitives import Estimator\n",
    "from qiskit.algorithms.minimum_eigensolvers import AdaptVQE\n",
    "from qiskit_nature.second_q.algorithms import GroundStateEigensolver\n",
    "from copy import  deepcopy\n",
    "from qiskit.circuit import Parameter,ParameterVector\n",
    "import sys\n",
    "sys.path.append('..')\n",
    "# from AdaptVQE_.My_adapt import QubitAdapt,MyAdaptVQE\n",
    "from AdaptVQE_.MyQubit_Adapt_VQE import QubitAdapt\n",
    "from AdaptVQE_.My_adapt import MyAdaptVQE\n",
    "# Define Molecule\n",
    "molecule = MoleculeInfo(\n",
    "    [\"Li\", \"H\"], [(0.0, 0.0, 0.0), (0.8*1, 0.0, 0.0)],\n",
    "    multiplicity=1,  # = 2*spin + 1\n",
    "    charge=0,\n",
    ")\n",
    "driver = PySCFDriver().from_molecule(molecule)\n",
    "\n",
    "problem = driver.run()\n",
    "converter = QubitConverter(JordanWignerMapper(), two_qubit_reduction=True)\n",
    "transformer = FreezeCoreTransformer(\n",
    "    freeze_core=True,  # how many electrons we have in our active space\n",
    "    # how many orbitals we have in our active space\n",
    "    remove_orbitals=[-3, -2]\n",
    ")\n",
    "#problem = transformer.transform(problem=problem)"
   ]
  },
  {
   "cell_type": "code",
   "execution_count": null,
   "metadata": {},
   "outputs": [],
   "source": [
    "from qiskit.quantum_info import SparsePauliOp\n",
    "#a = MyAdaptVQE(ES_problem=problem)\n",
    "b = QubitAdapt(ES_problem=problem)\n"
   ]
  },
  {
   "cell_type": "code",
   "execution_count": null,
   "metadata": {},
   "outputs": [],
   "source": [
    "X =b.run_slover()"
   ]
  },
  {
   "cell_type": "code",
   "execution_count": null,
   "metadata": {},
   "outputs": [],
   "source": [
    "X[0].optimal_circuit.decompose(reps=2).draw()\n",
    "X[2].optimal_point #0.10284049810578781\n",
    "#"
   ]
  },
  {
   "cell_type": "code",
   "execution_count": 30,
   "metadata": {},
   "outputs": [
    {
     "data": {
      "text/plain": [
       "-7.629786915177458"
      ]
     },
     "execution_count": 30,
     "metadata": {},
     "output_type": "execute_result"
    }
   ],
   "source": [
    "problem.nuclear_repulsion_energy #1.98441454095\n",
    "X[2].optimal_value #-9.614201456127459\n",
    "X[2].optimal_value + problem.nuclear_repulsion_energy"
   ]
  },
  {
   "cell_type": "code",
   "execution_count": 27,
   "metadata": {},
   "outputs": [
    {
     "data": {
      "text/plain": [
       "4"
      ]
     },
     "execution_count": 27,
     "metadata": {},
     "output_type": "execute_result"
    }
   ],
   "source": [
    "qc = X[2].optimal_circuit\n",
    "qc.bind_parameters(X[2].optimal_point).draw()\n",
    "X[2].optimal_circuit.depth()"
   ]
  },
  {
   "cell_type": "markdown",
   "metadata": {},
   "source": []
  },
  {
   "cell_type": "code",
   "execution_count": null,
   "metadata": {},
   "outputs": [],
   "source": [
    "from qiskit.quantum_info import Statevector\n",
    "qc = QuantumCircuit(b.n_qubit)\n",
    "qc.append(a.excitation_pool_instruction[1],range(b.n_qubit))\n",
    "Statevector(data=qc.bind_parameters([0.0]))\n",
    "vqe = VQE(ansatz=qc,estimator=Estimator(),optimizer=SLSQP())\n",
    "vqe.compute_minimum_eigenvalue(b.hamiltonian)\n"
   ]
  },
  {
   "cell_type": "code",
   "execution_count": null,
   "metadata": {},
   "outputs": [],
   "source": [
    "from qiskit.primitives.utils import bound_circuit_to_instruction\n",
    "bound_circuit_to_instruction(circuit=qc)"
   ]
  },
  {
   "cell_type": "code",
   "execution_count": null,
   "metadata": {},
   "outputs": [],
   "source": [
    "b.paulistring_withoutz_instruction[2]"
   ]
  },
  {
   "cell_type": "code",
   "execution_count": null,
   "metadata": {},
   "outputs": [],
   "source": [
    "b.run()"
   ]
  },
  {
   "cell_type": "code",
   "execution_count": null,
   "metadata": {},
   "outputs": [],
   "source": [
    "qc = QuantumCircuit(b.n_qubit)\n",
    "qc.append(b.init_state_hf,range(b.n_qubit))\n",
    "# qc.append(b.paulistring_withoutz_instruction[1],range(b.n_qubit))\n",
    "qc.append(a.excitation_pool_instruction[2],range(b.n_qubit))\n",
    "vqe = VQE(estimator=Estimator(),ansatz=qc,optimizer=SLSQP(),initial_point=np.zeros(qc.num_parameters))\n",
    "\n"
   ]
  },
  {
   "cell_type": "code",
   "execution_count": null,
   "metadata": {},
   "outputs": [],
   "source": [
    "vqe.compute_minimum_eigenvalue(b.hamiltonian)"
   ]
  },
  {
   "cell_type": "code",
   "execution_count": null,
   "metadata": {},
   "outputs": [],
   "source": [
    "from AdaptVQE_.My_adapt import MyAdaptVQE\n",
    "a = MyAdaptVQE(ES_problem=problem)\n",
    "a.run_tmp()"
   ]
  },
  {
   "cell_type": "code",
   "execution_count": null,
   "metadata": {},
   "outputs": [],
   "source": [
    "#a.slover.ansatz.append(b.paulistring_withoutz_instruction[3],range(4))\n",
    "a.slover.initial_point=np.zeros(2)\n",
    "a.slover.compute_minimum_eigenvalue(a.hamiltonian)"
   ]
  },
  {
   "cell_type": "code",
   "execution_count": null,
   "metadata": {},
   "outputs": [],
   "source": [
    " def evaluate_energy(parameters: np.ndarray) -> np.ndarray | float:\n",
    "            nonlocal eval_count\n",
    "\n",
    "            # handle broadcasting: ensure parameters is of shape [array, array, ...]\n",
    "            parameters = np.reshape(parameters, (-1, num_parameters)).tolist()\n",
    "            batch_size = len(parameters)\n",
    "\n",
    "            try:\n",
    "                job = self.estimator.run(batch_size * [ansatz], batch_size * [operator], parameters)\n",
    "                estimator_result = job.result()\n",
    "            except Exception as exc:\n",
    "                raise AlgorithmError(\"The primitive job to evaluate the energy failed!\") from exc\n",
    "\n",
    "            values = estimator_result.values\n",
    "\n",
    "            if self.callback is not None:\n",
    "                metadata = estimator_result.metadata\n",
    "                for params, value, meta in zip(parameters, values, metadata):\n",
    "                    eval_count += 1\n",
    "                    self.callback(eval_count, params, value, meta)\n",
    "\n",
    "            energy = values[0] if len(values) == 1 else values\n",
    "\n",
    "            return energy\n",
    "\n",
    "        return evaluate_energy"
   ]
  },
  {
   "cell_type": "code",
   "execution_count": null,
   "metadata": {},
   "outputs": [],
   "source": [
    "a = None\n",
    "a == None"
   ]
  },
  {
   "cell_type": "code",
   "execution_count": null,
   "metadata": {},
   "outputs": [],
   "source": [
    "from qiskit.quantum_info import Statevector\n",
    "Statevector(bound_circuit_to_instruction(circ))"
   ]
  }
 ],
 "metadata": {
  "kernelspec": {
   "display_name": "QISKIT_WSL2",
   "language": "python",
   "name": "python3"
  },
  "language_info": {
   "codemirror_mode": {
    "name": "ipython",
    "version": 3
   },
   "file_extension": ".py",
   "mimetype": "text/x-python",
   "name": "python",
   "nbconvert_exporter": "python",
   "pygments_lexer": "ipython3",
   "version": "3.10.6 (main, Oct 24 2022, 16:07:47) [GCC 11.2.0]"
  },
  "orig_nbformat": 4,
  "vscode": {
   "interpreter": {
    "hash": "54e28563ef8f1dd6dc056397af37857e89f17a7fb558808f10e4042dc705258e"
   }
  }
 },
 "nbformat": 4,
 "nbformat_minor": 2
}
