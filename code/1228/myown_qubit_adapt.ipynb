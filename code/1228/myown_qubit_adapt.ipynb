{
 "cells": [
  {
   "cell_type": "code",
   "execution_count": 1,
   "metadata": {},
   "outputs": [],
   "source": [
    "import numpy as np\n",
    "import math\n",
    "from qiskit.circuit import QuantumCircuit,QuantumRegister\n",
    "from qiskit.circuit.library import EvolvedOperatorAnsatz\n",
    "from qiskit_nature.second_q.drivers import PySCFDriver\n",
    "from qiskit_nature.second_q.mappers import JordanWignerMapper, QubitConverter\n",
    "from qiskit_nature.second_q.formats.molecule_info import MoleculeInfo\n",
    "from qiskit_nature.second_q.transformers import ActiveSpaceTransformer,FreezeCoreTransformer\n",
    "import numpy as np\n",
    "from qiskit.algorithms.optimizers import SLSQP\n",
    "from qiskit.algorithms.minimum_eigensolvers import VQE\n",
    "from qiskit.primitives import Estimator\n",
    "from qiskit.algorithms.minimum_eigensolvers import AdaptVQE\n",
    "from qiskit_nature.second_q.algorithms import GroundStateEigensolver\n",
    "from copy import  deepcopy\n",
    "from qiskit.circuit import Parameter,ParameterVector\n",
    "import sys\n",
    "sys.path.append('..')\n",
    "# from AdaptVQE_.My_adapt import QubitAdapt,MyAdaptVQE\n",
    "from AdaptVQE_.MyQubit_Adapt_VQE import QubitAdapt\n",
    "from AdaptVQE_.My_adapt import MyAdaptVQE\n",
    "# Define Molecule\n",
    "molecule = MoleculeInfo(\n",
    "    [\"H\", \"H\"], [(0.0, 0.0, 0.0), (0.8*1, 0.0, 0.0)],\n",
    "    multiplicity=1,  # = 2*spin + 1\n",
    "    charge=0,\n",
    ")\n",
    "driver = PySCFDriver().from_molecule(molecule)\n",
    "\n",
    "problem = driver.run()\n",
    "converter = QubitConverter(JordanWignerMapper(), two_qubit_reduction=True)\n",
    "transformer = FreezeCoreTransformer(\n",
    "    freeze_core=True,  # how many electrons we have in our active space\n",
    "    # how many orbitals we have in our active space\n",
    "    remove_orbitals=[-3, -2]\n",
    ")\n",
    "#problem = transformer.transform(problem=problem)"
   ]
  },
  {
   "cell_type": "code",
   "execution_count": 2,
   "metadata": {},
   "outputs": [
    {
     "name": "stderr",
     "output_type": "stream",
     "text": [
      "logger init done!\n",
      "完整池320,Propotion=0.25,实际池80\n",
      "开始初始化:挑选第一个算符...\n",
      "初始化结果:第16项被选定,此项梯度最大,为0.24593734848357293\n"
     ]
    }
   ],
   "source": [
    "from qiskit.quantum_info import SparsePauliOp\n",
    "#a = MyAdaptVQE(ES_problem=problem)\n",
    "b = QubitAdapt(ES_problem=problem)\n"
   ]
  },
  {
   "cell_type": "code",
   "execution_count": 2,
   "metadata": {},
   "outputs": [
    {
     "name": "stdout",
     "output_type": "stream",
     "text": [
      "H2的SD激发列表是:[((0,), (1,)), ((2,), (3,)), ((0, 2), (1, 3))],\n",
      "H2的激发费米子算符是:\n",
      "[FermionicOp({'+_0 -_1': 1j, '+_1 -_0': (-0-1j)}, num_spin_orbitals=4, ), FermionicOp({'+_2 -_3': 1j, '+_3 -_2': (-0-1j)}, num_spin_orbitals=4, ), FermionicOp({'+_0 +_2 -_1 -_3': 1j, '+_3 +_1 -_2 -_0': (-0-1j)}, num_spin_orbitals=4, )]\n",
      "     ┌───┐┌───────────────────────────────────┐»\n",
      "q_0: ┤ X ├┤0                                  ├»\n",
      "     └───┘│                                   │»\n",
      "q_1: ─────┤1                                  ├»\n",
      "     ┌───┐│  exp(-it (IIXY + IIYX))(1.0*t[0]) │»\n",
      "q_2: ┤ X ├┤2                                  ├»\n",
      "     └───┘│                                   │»\n",
      "q_3: ─────┤3                                  ├»\n",
      "          └───────────────────────────────────┘»\n",
      "«     ┌───────────────────────────────────┐»\n",
      "«q_0: ┤0                                  ├»\n",
      "«     │                                   │»\n",
      "«q_1: ┤1                                  ├»\n",
      "«     │  exp(-it (XYII + YXII))(1.0*t[1]) │»\n",
      "«q_2: ┤2                                  ├»\n",
      "«     │                                   │»\n",
      "«q_3: ┤3                                  ├»\n",
      "«     └───────────────────────────────────┘»\n",
      "«     ┌─────────────────────────────────────────────────────────────────────────────┐\n",
      "«q_0: ┤0                                                                            ├\n",
      "«     │                                                                             │\n",
      "«q_1: ┤1                                                                            ├\n",
      "«     │  exp(-it (YYXY + XYYY + XXXY + YXYY + XYXX + YYYX + YXXX + XXYX))(1.0*t[2]) │\n",
      "«q_2: ┤2                                                                            ├\n",
      "«     │                                                                             │\n",
      "«q_3: ┤3                                                                            ├\n",
      "«     └─────────────────────────────────────────────────────────────────────────────┘\n"
     ]
    }
   ],
   "source": [
    "from qiskit_nature.second_q.circuit.library import HartreeFock, UCCSD,UCC\n",
    "\n",
    "uccsd = UCCSD(qubit_converter=QubitConverter(JordanWignerMapper()),\n",
    "              num_particles=problem.num_particles,\n",
    "              num_spatial_orbitals=problem.num_spatial_orbitals,\n",
    "              initial_state=HartreeFock(num_particles=problem.num_particles,num_spatial_orbitals=problem.num_spatial_orbitals,qubit_converter=converter),\n",
    "              generalized=False  # 如果设为True ==> UCCGSD G=generalized\n",
    "              )\n",
    "\n",
    "print(f'H2的SD激发列表是:{uccsd.excitation_list},\\nH2的激发费米子算符是:\\n{uccsd.excitation_ops()}\\n{uccsd.decompose().draw()}')"
   ]
  },
  {
   "cell_type": "code",
   "execution_count": 15,
   "metadata": {},
   "outputs": [
    {
     "data": {
      "text/plain": [
       "([('+', 0), ('-', 1)], 1j)"
      ]
     },
     "execution_count": 15,
     "metadata": {},
     "output_type": "execute_result"
    }
   ],
   "source": [
    "op=uccsd.excitation_ops()\n",
    "i,k = op[0].terms()\n",
    "i"
   ]
  },
  {
   "cell_type": "code",
   "execution_count": 17,
   "metadata": {},
   "outputs": [
    {
     "data": {
      "text/plain": [
       "[((0,), (1,)), ((2,), (3,)), ((0, 2), (1, 3))]"
      ]
     },
     "execution_count": 17,
     "metadata": {},
     "output_type": "execute_result"
    }
   ],
   "source": [
    "op[0]\n",
    "uccsd.excitation_list"
   ]
  },
  {
   "cell_type": "code",
   "execution_count": 88,
   "metadata": {},
   "outputs": [
    {
     "name": "stdout",
     "output_type": "stream",
     "text": [
      "T1=Fermionic Operator\n",
      "number spin orbitals=4, number terms=2\n",
      "  1j * ( +_0 -_1 )\n",
      "+ (-0-1j) * ( +_1 -_0 ),\n",
      "T1_dagger=Fermionic Operator\n",
      "number spin orbitals=4, number terms=2\n",
      "  1j * ( +_1 -_0 )\n",
      "+ (-0-1j) * ( +_0 -_1 )\n"
     ]
    },
    {
     "data": {
      "text/plain": [
       "PauliSumOp(SparsePauliOp(['IIXY', 'IIYX'],\n",
       "              coeffs=[ 0.5+0.j, -0.5+0.j]), coeff=1.0)"
      ]
     },
     "execution_count": 88,
     "metadata": {},
     "output_type": "execute_result"
    }
   ],
   "source": [
    "op = uccsd.excitation_ops()\n",
    "print(f'T1={op[0]},\\nT1_dagger={op[0].transpose()}')\n",
    "tmp = op[0]-op[0].transpose()\n",
    "converter.convert(op[0])"
   ]
  },
  {
   "cell_type": "code",
   "execution_count": 158,
   "metadata": {},
   "outputs": [
    {
     "data": {
      "text/html": [
       "<pre style=\"word-wrap: normal;white-space: pre;background: #fff0;line-height: 1.1;font-family: &quot;Courier New&quot;,Courier,monospace\">     ┌─────┐┌───┐┌───┐┌──────────────┐┌───┐┌───┐ ┌───┐ ┌───┐┌───┐»\n",
       "q_0: ┤ Sdg ├┤ H ├┤ X ├┤ Rz(2.0*t[0]) ├┤ X ├┤ H ├─┤ S ├─┤ H ├┤ X ├»\n",
       "     └┬───┬┘└───┘└─┬─┘└──────────────┘└─┬─┘├───┤┌┴───┴┐├───┤└─┬─┘»\n",
       "q_1: ─┤ H ├────────■────────────────────■──┤ H ├┤ Sdg ├┤ H ├──■──»\n",
       "      └───┘                                └───┘└─────┘└───┘     »\n",
       "q_2: ────────────────────────────────────────────────────────────»\n",
       "                                                                 »\n",
       "q_3: ────────────────────────────────────────────────────────────»\n",
       "                                                                 »\n",
       "«     ┌───────────────┐┌───┐┌───┐     \n",
       "«q_0: ┤ Rz(-2.0*t[0]) ├┤ X ├┤ H ├─────\n",
       "«     └───────────────┘└─┬─┘├───┤┌───┐\n",
       "«q_1: ───────────────────■──┤ H ├┤ S ├\n",
       "«                           └───┘└───┘\n",
       "«q_2: ────────────────────────────────\n",
       "«                                     \n",
       "«q_3: ────────────────────────────────\n",
       "«                                     </pre>"
      ],
      "text/plain": [
       "     ┌─────┐┌───┐┌───┐┌──────────────┐┌───┐┌───┐ ┌───┐ ┌───┐┌───┐»\n",
       "q_0: ┤ Sdg ├┤ H ├┤ X ├┤ Rz(2.0*t[0]) ├┤ X ├┤ H ├─┤ S ├─┤ H ├┤ X ├»\n",
       "     └┬───┬┘└───┘└─┬─┘└──────────────┘└─┬─┘├───┤┌┴───┴┐├───┤└─┬─┘»\n",
       "q_1: ─┤ H ├────────■────────────────────■──┤ H ├┤ Sdg ├┤ H ├──■──»\n",
       "      └───┘                                └───┘└─────┘└───┘     »\n",
       "q_2: ────────────────────────────────────────────────────────────»\n",
       "                                                                 »\n",
       "q_3: ────────────────────────────────────────────────────────────»\n",
       "                                                                 »\n",
       "«     ┌───────────────┐┌───┐┌───┐     \n",
       "«q_0: ┤ Rz(-2.0*t[0]) ├┤ X ├┤ H ├─────\n",
       "«     └───────────────┘└─┬─┘├───┤┌───┐\n",
       "«q_1: ───────────────────■──┤ H ├┤ S ├\n",
       "«                           └───┘└───┘\n",
       "«q_2: ────────────────────────────────\n",
       "«                                     \n",
       "«q_3: ────────────────────────────────\n",
       "«                                     "
      ]
     },
     "execution_count": 158,
     "metadata": {},
     "output_type": "execute_result"
    }
   ],
   "source": [
    "converter.convert(tmp)\n",
    "EvolvedOperatorAnsatz(converter.convert(tmp)).decompose(reps=3).draw()"
   ]
  },
  {
   "cell_type": "code",
   "execution_count": 105,
   "metadata": {},
   "outputs": [
    {
     "name": "stdout",
     "output_type": "stream",
     "text": [
      "0.5 * IIXY\n",
      "- 0.5 * IIYX\n"
     ]
    }
   ],
   "source": [
    "from qiskit_nature.second_q.operators import FermionicOp\n",
    "k = FermionicOp({'+_0 -_1': 1j}, num_spin_orbitals=4,)\n",
    "a = converter.convert(k)\n",
    "converter.convert(k)\n",
    "b = converter.convert(k.transpose())\n",
    "converter.convert(k.transpose())\n",
    "print((a-b).reduce())"
   ]
  },
  {
   "cell_type": "code",
   "execution_count": 112,
   "metadata": {},
   "outputs": [
    {
     "data": {
      "text/plain": [
       "PauliSumOp(SparsePauliOp(['IIXY', 'IIYX'],\n",
       "              coeffs=[-0.5+0.j,  0.5+0.j]), coeff=1.0)"
      ]
     },
     "execution_count": 112,
     "metadata": {},
     "output_type": "execute_result"
    }
   ],
   "source": [
    "m = FermionicOp({'+_1 -_0': 1j}, num_spin_orbitals=4,)\n",
    "a = converter.convert(m-m.transpose())\n",
    "a"
   ]
  },
  {
   "cell_type": "code",
   "execution_count": 109,
   "metadata": {},
   "outputs": [
    {
     "data": {
      "text/plain": [
       "PauliSumOp(SparsePauliOp(['IIXY', 'IIYX', 'IIXX', 'IIYY'],\n",
       "              coeffs=[ 0.25+0.5j , -0.25-0.5j ,  0.  -0.25j,  0.  -0.25j]), coeff=1.0)"
      ]
     },
     "execution_count": 109,
     "metadata": {},
     "output_type": "execute_result"
    }
   ],
   "source": [
    "(a-b).reduce()"
   ]
  },
  {
   "cell_type": "code",
   "execution_count": 104,
   "metadata": {},
   "outputs": [
    {
     "data": {
      "text/plain": [
       "PauliSumOp(SparsePauliOp(['IIXY', 'IIYY', 'IIXX', 'IIYX', 'IIXY', 'IIXX', 'IIYY', 'IIYX'],\n",
       "              coeffs=[ 0.25+0.j  ,  0.  +0.25j,  0.  +0.25j, -0.25+0.j  ,  0.25+0.j  ,\n",
       "  0.  -0.25j,  0.  -0.25j, -0.25+0.j  ]), coeff=1)"
      ]
     },
     "execution_count": 104,
     "metadata": {},
     "output_type": "execute_result"
    }
   ],
   "source": [
    "(a-b)"
   ]
  },
  {
   "cell_type": "code",
   "execution_count": 90,
   "metadata": {},
   "outputs": [
    {
     "data": {
      "text/html": [
       "<pre style=\"word-wrap: normal;white-space: pre;background: #fff0;line-height: 1.1;font-family: &quot;Courier New&quot;,Courier,monospace\">     ┌───┐\n",
       "q_0: ┤ X ├\n",
       "     └───┘\n",
       "q_1: ─────\n",
       "     ┌───┐\n",
       "q_2: ┤ X ├\n",
       "     └───┘\n",
       "q_3: ─────\n",
       "          </pre>"
      ],
      "text/plain": [
       "     ┌───┐\n",
       "q_0: ┤ X ├\n",
       "     └───┘\n",
       "q_1: ─────\n",
       "     ┌───┐\n",
       "q_2: ┤ X ├\n",
       "     └───┘\n",
       "q_3: ─────\n",
       "          "
      ]
     },
     "execution_count": 90,
     "metadata": {},
     "output_type": "execute_result"
    }
   ],
   "source": [
    "problem.num_spatial_orbitals\n",
    "HartreeFock(num_particles=problem.num_particles,num_spatial_orbitals=problem.num_spatial_orbitals,qubit_converter=converter).draw()"
   ]
  },
  {
   "cell_type": "code",
   "execution_count": null,
   "metadata": {},
   "outputs": [],
   "source": [
    "X =b.run_slover()"
   ]
  },
  {
   "cell_type": "code",
   "execution_count": 134,
   "metadata": {},
   "outputs": [
    {
     "name": "stdout",
     "output_type": "stream",
     "text": [
      "     ┌───────────────────────────────────┐\n",
      "q_0: ┤0                                  ├\n",
      "     │                                   │\n",
      "q_1: ┤1                                  ├\n",
      "     │  exp(-it (IIXY + IIYX))(1.0*t[0]) │\n",
      "q_2: ┤2                                  ├\n",
      "     │                                   │\n",
      "q_3: ┤3                                  ├\n",
      "     └───────────────────────────────────┘\n",
      "     ┌─────────────────────┐┌─────────────────────┐\n",
      "q_0: ┤0                    ├┤0                    ├\n",
      "     │                     ││                     │\n",
      "q_1: ┤1                    ├┤1                    ├\n",
      "     │  exp(it IIXY)(t[0]) ││  exp(it IIYX)(t[0]) │\n",
      "q_2: ┤2                    ├┤2                    ├\n",
      "     │                     ││                     │\n",
      "q_3: ┤3                    ├┤3                    ├\n",
      "     └─────────────────────┘└─────────────────────┘\n",
      "     ┌─────┐┌───┐┌───┐┌──────────────┐┌───┐┌───┐ ┌───┐ ┌───┐┌───┐»\n",
      "q_0: ┤ Sdg ├┤ H ├┤ X ├┤ Rz(1.0*t[0]) ├┤ X ├┤ H ├─┤ S ├─┤ H ├┤ X ├»\n",
      "     └┬───┬┘└───┘└─┬─┘└──────────────┘└─┬─┘├───┤┌┴───┴┐├───┤└─┬─┘»\n",
      "q_1: ─┤ H ├────────■────────────────────■──┤ H ├┤ Sdg ├┤ H ├──■──»\n",
      "      └───┘                                └───┘└─────┘└───┘     »\n",
      "q_2: ────────────────────────────────────────────────────────────»\n",
      "                                                                 »\n",
      "q_3: ────────────────────────────────────────────────────────────»\n",
      "                                                                 »\n",
      "«     ┌───────────────┐┌───┐┌───┐     \n",
      "«q_0: ┤ Rz(-1.0*t[0]) ├┤ X ├┤ H ├─────\n",
      "«     └───────────────┘└─┬─┘├───┤┌───┐\n",
      "«q_1: ───────────────────■──┤ H ├┤ S ├\n",
      "«                           └───┘└───┘\n",
      "«q_2: ────────────────────────────────\n",
      "«                                     \n",
      "«q_3: ────────────────────────────────\n",
      "«                                     \n"
     ]
    }
   ],
   "source": [
    "x = uccsd.decompose()[2]\n",
    "qc = QuantumCircuit(4)\n",
    "qc.append(x,range(4))\n",
    "print(f'{qc.draw()}\\n{qc.decompose().draw()}\\n{qc.decompose(reps=2).draw()}')"
   ]
  },
  {
   "cell_type": "code",
   "execution_count": 135,
   "metadata": {},
   "outputs": [
    {
     "data": {
      "image/png": "[encoded data removed]",
      "text/plain": [
       "<Figure size 1207.22x367.889 with 1 Axes>"
      ]
     },
     "execution_count": 135,
     "metadata": {},
     "output_type": "execute_result"
    }
   ],
   "source": [
    "qc.decompose(reps=2).draw('mpl')"
   ]
  },
  {
   "cell_type": "code",
   "execution_count": 153,
   "metadata": {},
   "outputs": [
    {
     "data": {
      "text/plain": [
       "FermionicOp({'+_0 -_1': 1j, '+_1 -_0': -1j}, num_spin_orbitals=4, )"
      ]
     },
     "execution_count": 153,
     "metadata": {},
     "output_type": "execute_result"
    }
   ],
   "source": [
    "T11 = FermionicOp({'+_1 -_0': 1j, '+_0 -_1': (0-1j)}, num_spin_orbitals=4, )\n",
    "T11_dagger = T11.transpose()\n",
    "T1 = T11 - T11_dagger\n",
    "T11_dagger\n"
   ]
  },
  {
   "cell_type": "code",
   "execution_count": 146,
   "metadata": {},
   "outputs": [
    {
     "data": {
      "text/plain": [
       "PauliSumOp(SparsePauliOp(['IIXY', 'IIYX'],\n",
       "              coeffs=[-1.+0.j,  1.+0.j]), coeff=1.0)"
      ]
     },
     "execution_count": 146,
     "metadata": {},
     "output_type": "execute_result"
    }
   ],
   "source": [
    "converter.convert(T1)"
   ]
  },
  {
   "cell_type": "code",
   "execution_count": 152,
   "metadata": {},
   "outputs": [
    {
     "data": {
      "image/png": "[encoded data removed]",
      "text/plain": [
       "<Figure size 1207.22x367.889 with 1 Axes>"
      ]
     },
     "execution_count": 152,
     "metadata": {},
     "output_type": "execute_result"
    }
   ],
   "source": [
    "from qiskit.circuit.library import EvolvedOperatorAnsatz\n",
    "EvolvedOperatorAnsatz(converter.convert(T1)).decompose(reps=3).draw('mpl')"
   ]
  },
  {
   "cell_type": "code",
   "execution_count": null,
   "metadata": {},
   "outputs": [],
   "source": []
  }
 ],
 "metadata": {
  "kernelspec": {
   "display_name": "QISKIT_WSL2",
   "language": "python",
   "name": "python3"
  },
  "language_info": {
   "codemirror_mode": {
    "name": "ipython",
    "version": 3
   },
   "file_extension": ".py",
   "mimetype": "text/x-python",
   "name": "python",
   "nbconvert_exporter": "python",
   "pygments_lexer": "ipython3",
   "version": "3.10.6"
  },
  "orig_nbformat": 4,
  "vscode": {
   "interpreter": {
    "hash": "54e28563ef8f1dd6dc056397af37857e89f17a7fb558808f10e4042dc705258e"
   }
  }
 },
 "nbformat": 4,
 "nbformat_minor": 2
}
