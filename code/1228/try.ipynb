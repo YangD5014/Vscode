{
 "cells": [
  {
   "cell_type": "code",
   "execution_count": 1,
   "metadata": {},
   "outputs": [],
   "source": [
    "import sys\n",
    "sys.path.append('..')\n",
    "import numpy as np\n",
    "import math\n",
    "from qiskit.circuit import QuantumCircuit,QuantumRegister\n",
    "from qiskit.circuit.library import EvolvedOperatorAnsatz\n",
    "from qiskit_nature.second_q.drivers import PySCFDriver\n",
    "from qiskit_nature.second_q.mappers import JordanWignerMapper, QubitConverter\n",
    "from qiskit_nature.second_q.formats.molecule_info import MoleculeInfo\n",
    "from qiskit_nature.second_q.transformers import ActiveSpaceTransformer,FreezeCoreTransformer\n",
    "import numpy as np\n",
    "from qiskit.algorithms.optimizers import SLSQP\n",
    "from qiskit.algorithms.minimum_eigensolvers import VQE\n",
    "from qiskit.primitives import Estimator\n",
    "from qiskit.algorithms.minimum_eigensolvers import AdaptVQE\n",
    "from qiskit_nature.second_q.algorithms import GroundStateEigensolver\n",
    "from copy import  deepcopy\n",
    "from qiskit.circuit import Parameter,ParameterVector\n",
    "# from AdaptVQE_.My_adapt import QubitAdapt,MyAdaptVQE\n",
    "from AdaptVQE_.MyQubit_Adapt_VQE import QubitAdapt\n",
    "from AdaptVQE_.My_adapt import MyAdaptVQE\n",
    "from AdaptVQE_.QEBMapper.QEBMapper import QEBMapper,QEB_Operator\n",
    "# Define Molecule\n",
    "molecule = MoleculeInfo(\n",
    "    [\"H\", \"H\"], [(0.0, 0.0, 0.0), (0.8*1, 0.0, 0.0)],\n",
    "    multiplicity=1,  # = 2*spin + 1\n",
    "    charge=0,\n",
    ")\n",
    "driver = PySCFDriver().from_molecule(molecule)\n",
    "\n",
    "problem = driver.run()\n",
    "converter = QubitConverter(JordanWignerMapper(), two_qubit_reduction=True)\n",
    "transformer = FreezeCoreTransformer(\n",
    "    freeze_core=True,  # how many electrons we have in our active space\n",
    "    # how many orbitals we have in our active space\n",
    "    remove_orbitals=[-3, -2]\n",
    ")\n",
    "#problem = transformer.transform(problem=problem)"
   ]
  },
  {
   "cell_type": "code",
   "execution_count": 2,
   "metadata": {},
   "outputs": [],
   "source": [
    "from qiskit_nature.second_q.circuit.library import HartreeFock, UCCSD,UCC\n",
    "\n",
    "uccsd = UCCSD(qubit_converter=QubitConverter(JordanWignerMapper()),\n",
    "              num_particles=problem.num_particles,\n",
    "              num_spatial_orbitals=problem.num_spatial_orbitals,\n",
    "              initial_state=HartreeFock(num_particles=problem.num_particles,num_spatial_orbitals=problem.num_spatial_orbitals,qubit_converter=converter),\n",
    "              generalized=False  # 如果设为True ==> UCCGSD G=generalized\n",
    "              )\n",
    "\n",
    "#print(f'H2的SD激发列表是:{uccsd.excitation_list},\\nH2的激发费米子算符是:\\n{uccsd.excitation_ops()}\\n{uccsd.decompose().draw()}')"
   ]
  },
  {
   "cell_type": "code",
   "execution_count": 4,
   "metadata": {},
   "outputs": [],
   "source": [
    "\n",
    "#Qubit产生算符\n",
    "def Q_dagger(index:int,length:int):\n",
    "    if index==0:\n",
    "        operator=(X-1j*Y)\n",
    "    else:\n",
    "        operator=I\n",
    "    for i in range(1,length):\n",
    "        if index==i:\n",
    "            operator = (X-1j*Y)^operator\n",
    "        else:\n",
    "            operator= I^operator\n",
    "    return operator\n",
    "    #Qubit-湮灭算符\n",
    "    #index从0开始 高比特位在前 低位在后：eg: a2 = IXII +1j IYII\n",
    "def Q(index:int,length:int):\n",
    "    if index==0:\n",
    "        operator=(X+1j*Y)\n",
    "    else:\n",
    "        operator=I\n",
    "    for i in range(1,length):\n",
    "        if index==i:\n",
    "            operator = (X+1j*Y)^operator\n",
    "        else:\n",
    "            operator= I^operator\n",
    "    return operator"
   ]
  },
  {
   "cell_type": "code",
   "execution_count": null,
   "metadata": {},
   "outputs": [],
   "source": [
    "a1 = Q(index=1,length=4)\n",
    "a1_dagger = Q_dagger(index=1,length=4)\n",
    "a0 = Q(index=0,length=4)\n",
    "a0_dagger = Q_dagger(index=0,length=4)\n",
    "###验证反对易性质\n",
    "a1"
   ]
  },
  {
   "cell_type": "code",
   "execution_count": 3,
   "metadata": {},
   "outputs": [
    {
     "name": "stdout",
     "output_type": "stream",
     "text": [
      "1.0 * IIXX\n",
      "+ -1j * IIYX\n",
      "+ 1j * IIXY\n",
      "+ 1.0 * IIYY\n",
      "- 1.0 * IIXX\n",
      "+ -1j * IIYX\n",
      "+ 1j * IIXY\n",
      "- 1.0 * IIYY\n",
      "1.0 * XIII\n",
      "+ -1j * YIII\n",
      "- 1.0 * XIII\n",
      "+ -1j * YIII\n",
      "1.0 * XIII\n",
      "+ -1j * YIII\n",
      "- 1.0 * XIII\n",
      "+ -1j * YIII\n"
     ]
    },
    {
     "data": {
      "text/plain": [
       "<AdaptVQE_.QEBMapper.QEBMapper.QEBMapper at 0x7f11741e1360>"
      ]
     },
     "execution_count": 3,
     "metadata": {},
     "output_type": "execute_result"
    }
   ],
   "source": [
    "QEBMapper(Pauli_length=4,Excitationlist=uccsd.excitation_list)"
   ]
  },
  {
   "cell_type": "code",
   "execution_count": 25,
   "metadata": {},
   "outputs": [
    {
     "name": "stdout",
     "output_type": "stream",
     "text": [
      "i=((0,), (1,))\n",
      "\n",
      "i[index]=0,index=0,k=0\n",
      "i[index]=1,index=1,k=1\n",
      "i=((2,), (3,))\n",
      "\n",
      "i[index]=2,index=0,k=2\n",
      "i[index]=3,index=1,k=3\n",
      "i=((0, 2), (1, 3))\n",
      "\n",
      "i[index]=0,index=0,k=0\n",
      "i[index]=1,index=1,k=1\n"
     ]
    }
   ],
   "source": [
    "for i in uccsd.excitation_list:\n",
    "    print(f'i={i}\\n')\n",
    "    for index,k in enumerate(i):\n",
    "        print(f'i[index]={i[index][0]},index={index},k={k[0]}')\n",
    "        "
   ]
  },
  {
   "cell_type": "code",
   "execution_count": 31,
   "metadata": {},
   "outputs": [
    {
     "data": {
      "text/plain": [
       "0"
      ]
     },
     "execution_count": 31,
     "metadata": {},
     "output_type": "execute_result"
    }
   ],
   "source": [
    "i=((0,), (1,))\n",
    "i[0][0]"
   ]
  },
  {
   "cell_type": "code",
   "execution_count": 8,
   "metadata": {},
   "outputs": [
    {
     "data": {
      "text/plain": [
       "((0,), (1,))"
      ]
     },
     "execution_count": 8,
     "metadata": {},
     "output_type": "execute_result"
    }
   ],
   "source": [
    "uccsd.excitation_list[0]"
   ]
  },
  {
   "cell_type": "code",
   "execution_count": 54,
   "metadata": {},
   "outputs": [],
   "source": [
    "from qiskit.opflow import I, X, Y\n",
    "def Q_dagger(index: int,length:int):\n",
    "    if index==0:\n",
    "        operator=(X-1j*Y)\n",
    "    else:  \n",
    "        operator=I            \n",
    "    for i in range(1,length):\n",
    "        print(f'op={operator},i={i}')\n",
    "        if index == i:\n",
    "            operator = (X-1j*Y)^operator\n",
    "        else:\n",
    "            operator = I^operator\n",
    "            \n",
    "    return operator\n"
   ]
  },
  {
   "cell_type": "code",
   "execution_count": 55,
   "metadata": {},
   "outputs": [
    {
     "name": "stdout",
     "output_type": "stream",
     "text": [
      "op=I,i=1\n",
      "op=II,i=2\n",
      "op=1.0 * XII\n",
      "+ -1j * YII,i=3\n"
     ]
    },
    {
     "data": {
      "text/plain": [
       "PauliSumOp(SparsePauliOp(['IXII', 'IYII'],\n",
       "              coeffs=[1.+0.j, 0.-1.j]), coeff=1.0)"
      ]
     },
     "execution_count": 55,
     "metadata": {},
     "output_type": "execute_result"
    }
   ],
   "source": [
    "Q_dagger(index=2,length=4)"
   ]
  },
  {
   "cell_type": "code",
   "execution_count": 35,
   "metadata": {},
   "outputs": [
    {
     "data": {
      "text/plain": [
       "PauliSumOp(SparsePauliOp(['XIII', 'YIII'],\n",
       "              coeffs=[1.+0.j, 0.-1.j]), coeff=1.0)"
      ]
     },
     "execution_count": 35,
     "metadata": {},
     "output_type": "execute_result"
    }
   ],
   "source": [
    "Q_dagger(index=0,length=4)"
   ]
  },
  {
   "cell_type": "code",
   "execution_count": 29,
   "metadata": {},
   "outputs": [
    {
     "name": "stdout",
     "output_type": "stream",
     "text": [
      "1\n",
      "2\n",
      "3\n"
     ]
    }
   ],
   "source": [
    "for i in range(1,4):\n",
    "    print(i)"
   ]
  },
  {
   "cell_type": "code",
   "execution_count": null,
   "metadata": {},
   "outputs": [],
   "source": []
  }
 ],
 "metadata": {
  "kernelspec": {
   "display_name": "QISKIT_WSL2",
   "language": "python",
   "name": "python3"
  },
  "language_info": {
   "codemirror_mode": {
    "name": "ipython",
    "version": 3
   },
   "file_extension": ".py",
   "mimetype": "text/x-python",
   "name": "python",
   "nbconvert_exporter": "python",
   "pygments_lexer": "ipython3",
   "version": "3.10.6"
  },
  "orig_nbformat": 4,
  "vscode": {
   "interpreter": {
    "hash": "54e28563ef8f1dd6dc056397af37857e89f17a7fb558808f10e4042dc705258e"
   }
  }
 },
 "nbformat": 4,
 "nbformat_minor": 2
}
