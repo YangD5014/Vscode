{
 "cells": [
  {
   "cell_type": "code",
   "execution_count": 7,
   "metadata": {},
   "outputs": [],
   "source": [
    "from qiskit_nature.second_q.drivers import PySCFDriver\n",
    "from qiskit_nature.second_q.mappers import JordanWignerMapper, QubitConverter\n",
    "from qiskit_nature.second_q.formats.molecule_info import MoleculeInfo\n",
    "from qiskit_nature.second_q.circuit.library import UCCSD, HartreeFock\n",
    "from qiskit_nature.second_q.transformers import ActiveSpaceTransformer\n",
    "import numpy as np\n",
    "from qiskit.algorithms.optimizers import SLSQP\n",
    "from qiskit.algorithms.minimum_eigensolvers import VQE\n",
    "from qiskit.primitives import Estimator\n",
    "from qiskit.algorithms.minimum_eigensolvers import AdaptVQE\n",
    "from qiskit_nature.second_q.algorithms import GroundStateEigensolver\n"
   ]
  },
  {
   "cell_type": "code",
   "execution_count": 53,
   "metadata": {},
   "outputs": [],
   "source": [
    "def H6_adaptvqe(k,dist):\n",
    "    \n",
    "    # Define Molecule\n",
    "    molecule = MoleculeInfo(\n",
    "        [\"H\",\"H\",\"H\",\"H\",\"H\",\"H\"],[(0.0,0.0,0.0),(dist, 0.0, 0.0),(2*dist, 0.0, 0.0),(3*dist, 0.0, 0.0),(4*dist, 0.0, 0.0),(5*dist, 0.0, 0.0)],\n",
    "        multiplicity=1,  # = 2*spin + 1\n",
    "        charge=0,\n",
    "    )\n",
    "    driver = PySCFDriver().from_molecule(molecule)\n",
    "\n",
    "    problem = driver.run()\n",
    "    converter = QubitConverter(JordanWignerMapper(),two_qubit_reduction=True)\n",
    "    transformer = ActiveSpaceTransformer(\n",
    "    num_electrons=2, #how many electrons we have in our active space\n",
    "    num_spatial_orbitals=3, #how many orbitals we have in our active space\n",
    "    )\n",
    "    \n",
    "    #problem = transformer.transform(problem=problem)\n",
    "    print('粒子数{0}，空间轨道数 {1}'.format(problem.num_particles,problem.num_spatial_orbitals))\n",
    "    \n",
    "    initial_state = HartreeFock(num_particles = problem.num_particles,num_spatial_orbitals = problem.num_spatial_orbitals,qubit_converter = converter)\n",
    "    ansatz = UCCSD(num_particles = problem.num_particles,num_spatial_orbitals = problem.num_spatial_orbitals,qubit_converter = converter,initial_state=initial_state)\n",
    "    vqe = VQE(Estimator(), ansatz, SLSQP())\n",
    "    vqe.initial_point = np.zeros(ansatz.num_parameters)\n",
    "    \n",
    "    adapt_vqe = AdaptVQE(vqe,max_iterations=30,threshold=1e-4)\n",
    "    adapt_vqe.supports_aux_operators = lambda: True  # temporary fix\n",
    "    solver = GroundStateEigensolver(converter, adapt_vqe)\n",
    "    adapt_result = solver.solve(problem)\n",
    "    print('AdaptVQE 已经完成：{0}%'.format(((k+1)/80)*100))\n",
    "    return adapt_result"
   ]
  },
  {
   "cell_type": "code",
   "execution_count": 55,
   "metadata": {},
   "outputs": [],
   "source": [
    "def H6_uccsd(dist,k):\n",
    "    # Define Molecule\n",
    "    molecule = MoleculeInfo(\n",
    "        [\"H\",\"H\",\"H\",\"H\",\"H\",\"H\"],[(0.0,0.0,0.0),(dist, 0.0, 0.0),(2*dist, 0.0, 0.0),(3*dist, 0.0, 0.0),(4*dist, 0.0, 0.0),(5*dist, 0.0, 0.0)],\n",
    "        multiplicity=1,  # = 2*spin + 1\n",
    "        charge=0,\n",
    "    )\n",
    "    driver = PySCFDriver().from_molecule(molecule)\n",
    "\n",
    "    problem = driver.run()\n",
    "    converter = QubitConverter(JordanWignerMapper(),two_qubit_reduction=True)\n",
    "    transformer = ActiveSpaceTransformer(\n",
    "    num_electrons=2, #how many electrons we have in our active space\n",
    "    num_spatial_orbitals=3, #how many orbitals we have in our active space\n",
    "    )\n",
    "    #problem = transformer.transform(problem=problem)\n",
    "    print('粒子数{0}，空间轨道数 {1}'.format(problem.num_particles,problem.num_spatial_orbitals))\n",
    "    \n",
    "    initial_state = HartreeFock(num_particles = problem.num_particles,num_spatial_orbitals = problem.num_spatial_orbitals,qubit_converter = converter)\n",
    "    ansatz = UCCSD(num_particles = problem.num_particles,num_spatial_orbitals = problem.num_spatial_orbitals,qubit_converter = converter,initial_state=initial_state)\n",
    "    vqe = VQE(Estimator(), ansatz, SLSQP())\n",
    "    vqe.initial_point = np.zeros(ansatz.num_parameters)\n",
    "    \n",
    "    # adapt_vqe = AdaptVQE(vqe)\n",
    "    # adapt_vqe.supports_aux_operators = lambda: True  # temporary fix\n",
    "    solver = GroundStateEigensolver(converter, vqe)\n",
    "    uccsd_result = solver.solve(problem)\n",
    "    print('UCCSD ansatz 共有 {0} 个参数'.format(ansatz.num_parameters))\n",
    "    print('UCCSD_VQE 已经完成：{0}%'.format(((k+1)/80)*100))\n",
    "    \n",
    "    return uccsd_result"
   ]
  },
  {
   "cell_type": "code",
   "execution_count": 56,
   "metadata": {},
   "outputs": [
    {
     "name": "stdout",
     "output_type": "stream",
     "text": [
      "粒子数(3, 3)，空间轨道数 6\n"
     ]
    },
    {
     "ename": "KeyboardInterrupt",
     "evalue": "",
     "output_type": "error",
     "traceback": [
      "\u001b[0;31m---------------------------------------------------------------------------\u001b[0m",
      "\u001b[0;31mKeyboardInterrupt\u001b[0m                         Traceback (most recent call last)",
      "\u001b[1;32m/home/yangjianfei/代码/11.16/H6_adaptVQE.ipynb Cell 4\u001b[0m in \u001b[0;36m<cell line: 5>\u001b[0;34m()\u001b[0m\n\u001b[1;32m      <a href='vscode-notebook-cell://wsl%2Bubuntu/home/yangjianfei/%E4%BB%A3%E7%A0%81/11.16/H6_adaptVQE.ipynb#W2sdnNjb2RlLXJlbW90ZQ%3D%3D?line=2'>3</a>\u001b[0m uccsd_vqe_result \u001b[39m=\u001b[39m []\n\u001b[1;32m      <a href='vscode-notebook-cell://wsl%2Bubuntu/home/yangjianfei/%E4%BB%A3%E7%A0%81/11.16/H6_adaptVQE.ipynb#W2sdnNjb2RlLXJlbW90ZQ%3D%3D?line=4'>5</a>\u001b[0m \u001b[39mfor\u001b[39;00m index,dis \u001b[39min\u001b[39;00m \u001b[39menumerate\u001b[39m(distance):\n\u001b[0;32m----> <a href='vscode-notebook-cell://wsl%2Bubuntu/home/yangjianfei/%E4%BB%A3%E7%A0%81/11.16/H6_adaptVQE.ipynb#W2sdnNjb2RlLXJlbW90ZQ%3D%3D?line=5'>6</a>\u001b[0m     adapt_vqe_result\u001b[39m.\u001b[39mappend(H6_adaptvqe(dist\u001b[39m=\u001b[39;49mdis,k\u001b[39m=\u001b[39;49mindex))\n\u001b[1;32m      <a href='vscode-notebook-cell://wsl%2Bubuntu/home/yangjianfei/%E4%BB%A3%E7%A0%81/11.16/H6_adaptVQE.ipynb#W2sdnNjb2RlLXJlbW90ZQ%3D%3D?line=6'>7</a>\u001b[0m     uccsd_vqe_result\u001b[39m.\u001b[39mappend(H6_uccsd(dist\u001b[39m=\u001b[39mdis,k\u001b[39m=\u001b[39mindex))\n",
      "\u001b[1;32m/home/yangjianfei/代码/11.16/H6_adaptVQE.ipynb Cell 4\u001b[0m in \u001b[0;36mH6_adaptvqe\u001b[0;34m(k, dist)\u001b[0m\n\u001b[1;32m     <a href='vscode-notebook-cell://wsl%2Bubuntu/home/yangjianfei/%E4%BB%A3%E7%A0%81/11.16/H6_adaptVQE.ipynb#W2sdnNjb2RlLXJlbW90ZQ%3D%3D?line=26'>27</a>\u001b[0m adapt_vqe\u001b[39m.\u001b[39msupports_aux_operators \u001b[39m=\u001b[39m \u001b[39mlambda\u001b[39;00m: \u001b[39mTrue\u001b[39;00m  \u001b[39m# temporary fix\u001b[39;00m\n\u001b[1;32m     <a href='vscode-notebook-cell://wsl%2Bubuntu/home/yangjianfei/%E4%BB%A3%E7%A0%81/11.16/H6_adaptVQE.ipynb#W2sdnNjb2RlLXJlbW90ZQ%3D%3D?line=27'>28</a>\u001b[0m solver \u001b[39m=\u001b[39m GroundStateEigensolver(converter, adapt_vqe)\n\u001b[0;32m---> <a href='vscode-notebook-cell://wsl%2Bubuntu/home/yangjianfei/%E4%BB%A3%E7%A0%81/11.16/H6_adaptVQE.ipynb#W2sdnNjb2RlLXJlbW90ZQ%3D%3D?line=28'>29</a>\u001b[0m adapt_result \u001b[39m=\u001b[39m solver\u001b[39m.\u001b[39;49msolve(problem)\n\u001b[1;32m     <a href='vscode-notebook-cell://wsl%2Bubuntu/home/yangjianfei/%E4%BB%A3%E7%A0%81/11.16/H6_adaptVQE.ipynb#W2sdnNjb2RlLXJlbW90ZQ%3D%3D?line=29'>30</a>\u001b[0m \u001b[39mprint\u001b[39m(\u001b[39m'\u001b[39m\u001b[39mAdaptVQE 已经完成：\u001b[39m\u001b[39m{0}\u001b[39;00m\u001b[39m%\u001b[39m\u001b[39m'\u001b[39m\u001b[39m.\u001b[39mformat(((k\u001b[39m+\u001b[39m\u001b[39m1\u001b[39m)\u001b[39m/\u001b[39m\u001b[39m80\u001b[39m)\u001b[39m*\u001b[39m\u001b[39m100\u001b[39m))\n\u001b[1;32m     <a href='vscode-notebook-cell://wsl%2Bubuntu/home/yangjianfei/%E4%BB%A3%E7%A0%81/11.16/H6_adaptVQE.ipynb#W2sdnNjb2RlLXJlbW90ZQ%3D%3D?line=30'>31</a>\u001b[0m \u001b[39mreturn\u001b[39;00m adapt_result\n",
      "File \u001b[0;32m~/miniconda3/envs/QISKIT_WSL2/lib/python3.10/site-packages/qiskit_nature/second_q/algorithms/ground_state_solvers/ground_state_eigensolver.py:77\u001b[0m, in \u001b[0;36mGroundStateEigensolver.solve\u001b[0;34m(self, problem, aux_operators)\u001b[0m\n\u001b[1;32m     58\u001b[0m \u001b[39m\"\"\"Compute Ground State properties.\u001b[39;00m\n\u001b[1;32m     59\u001b[0m \n\u001b[1;32m     60\u001b[0m \u001b[39mArgs:\u001b[39;00m\n\u001b[0;32m   (...)\u001b[0m\n\u001b[1;32m     74\u001b[0m \u001b[39m    :meth:`~.BaseProblem.interpret`.\u001b[39;00m\n\u001b[1;32m     75\u001b[0m \u001b[39m\"\"\"\u001b[39;00m\n\u001b[1;32m     76\u001b[0m main_operator, aux_ops \u001b[39m=\u001b[39m \u001b[39mself\u001b[39m\u001b[39m.\u001b[39mget_qubit_operators(problem, aux_operators)\n\u001b[0;32m---> 77\u001b[0m raw_mes_result \u001b[39m=\u001b[39m \u001b[39mself\u001b[39;49m\u001b[39m.\u001b[39;49msolver\u001b[39m.\u001b[39;49mcompute_minimum_eigenvalue(  \u001b[39m# type: ignore\u001b[39;49;00m\n\u001b[1;32m     78\u001b[0m     main_operator, aux_ops\n\u001b[1;32m     79\u001b[0m )\n\u001b[1;32m     81\u001b[0m eigenstate_result \u001b[39m=\u001b[39m EigenstateResult\u001b[39m.\u001b[39mfrom_result(raw_mes_result)\n\u001b[1;32m     82\u001b[0m result \u001b[39m=\u001b[39m problem\u001b[39m.\u001b[39minterpret(eigenstate_result)\n",
      "File \u001b[0;32m~/miniconda3/envs/QISKIT_WSL2/lib/python3.10/site-packages/qiskit/algorithms/minimum_eigensolvers/adapt_vqe.py:215\u001b[0m, in \u001b[0;36mAdaptVQE.compute_minimum_eigenvalue\u001b[0;34m(self, operator, aux_operators)\u001b[0m\n\u001b[1;32m    213\u001b[0m logger\u001b[39m.\u001b[39minfo(\u001b[39m\"\u001b[39m\u001b[39m--- Iteration #\u001b[39m\u001b[39m%s\u001b[39;00m\u001b[39m ---\u001b[39m\u001b[39m\"\u001b[39m, \u001b[39mstr\u001b[39m(iteration))\n\u001b[1;32m    214\u001b[0m \u001b[39m# compute gradients\u001b[39;00m\n\u001b[0;32m--> 215\u001b[0m cur_grads \u001b[39m=\u001b[39m \u001b[39mself\u001b[39;49m\u001b[39m.\u001b[39;49m_compute_gradients(theta, operator)\n\u001b[1;32m    216\u001b[0m \u001b[39m# pick maximum gradient\u001b[39;00m\n\u001b[1;32m    217\u001b[0m max_grad_index, max_grad \u001b[39m=\u001b[39m \u001b[39mmax\u001b[39m(\n\u001b[1;32m    218\u001b[0m     \u001b[39menumerate\u001b[39m(cur_grads), key\u001b[39m=\u001b[39m\u001b[39mlambda\u001b[39;00m item: np\u001b[39m.\u001b[39mabs(item[\u001b[39m1\u001b[39m][\u001b[39m0\u001b[39m])\n\u001b[1;32m    219\u001b[0m )\n",
      "File \u001b[0;32m~/miniconda3/envs/QISKIT_WSL2/lib/python3.10/site-packages/qiskit/algorithms/minimum_eigensolvers/adapt_vqe.py:146\u001b[0m, in \u001b[0;36mAdaptVQE._compute_gradients\u001b[0;34m(self, theta, operator)\u001b[0m\n\u001b[1;32m    143\u001b[0m \u001b[39m# The excitations operators are applied later as exp(i*theta*excitation).\u001b[39;00m\n\u001b[1;32m    144\u001b[0m \u001b[39m# For this commutator, we need to explicitly pull in the imaginary phase.\u001b[39;00m\n\u001b[1;32m    145\u001b[0m commutators \u001b[39m=\u001b[39m [\u001b[39m1\u001b[39mj \u001b[39m*\u001b[39m (operator \u001b[39m@\u001b[39m exc \u001b[39m-\u001b[39m exc \u001b[39m@\u001b[39m operator) \u001b[39mfor\u001b[39;00m exc \u001b[39min\u001b[39;00m \u001b[39mself\u001b[39m\u001b[39m.\u001b[39m_excitation_pool]\n\u001b[0;32m--> 146\u001b[0m res \u001b[39m=\u001b[39m estimate_observables(\u001b[39mself\u001b[39;49m\u001b[39m.\u001b[39;49msolver\u001b[39m.\u001b[39;49mestimator, \u001b[39mself\u001b[39;49m\u001b[39m.\u001b[39;49msolver\u001b[39m.\u001b[39;49mansatz, commutators, theta)\n\u001b[1;32m    147\u001b[0m \u001b[39mreturn\u001b[39;00m res\n",
      "File \u001b[0;32m~/miniconda3/envs/QISKIT_WSL2/lib/python3.10/site-packages/qiskit/algorithms/observables_evaluator.py:69\u001b[0m, in \u001b[0;36mestimate_observables\u001b[0;34m(estimator, quantum_state, observables, parameter_values, threshold)\u001b[0m\n\u001b[1;32m     67\u001b[0m     parameter_values \u001b[39m=\u001b[39m [parameter_values] \u001b[39m*\u001b[39m \u001b[39mlen\u001b[39m(observables)\n\u001b[1;32m     68\u001b[0m \u001b[39mtry\u001b[39;00m:\n\u001b[0;32m---> 69\u001b[0m     estimator_job \u001b[39m=\u001b[39m estimator\u001b[39m.\u001b[39;49mrun(quantum_state, observables_list, parameter_values)\n\u001b[1;32m     70\u001b[0m     expectation_values \u001b[39m=\u001b[39m estimator_job\u001b[39m.\u001b[39mresult()\u001b[39m.\u001b[39mvalues\n\u001b[1;32m     71\u001b[0m \u001b[39mexcept\u001b[39;00m \u001b[39mException\u001b[39;00m \u001b[39mas\u001b[39;00m exc:\n",
      "File \u001b[0;32m~/miniconda3/envs/QISKIT_WSL2/lib/python3.10/site-packages/qiskit/primitives/base/base_estimator.py:233\u001b[0m, in \u001b[0;36mBaseEstimator.run\u001b[0;34m(self, circuits, observables, parameter_values, **run_options)\u001b[0m\n\u001b[1;32m    230\u001b[0m run_opts \u001b[39m=\u001b[39m copy(\u001b[39mself\u001b[39m\u001b[39m.\u001b[39moptions)\n\u001b[1;32m    231\u001b[0m run_opts\u001b[39m.\u001b[39mupdate_options(\u001b[39m*\u001b[39m\u001b[39m*\u001b[39mrun_options)\n\u001b[0;32m--> 233\u001b[0m \u001b[39mreturn\u001b[39;00m \u001b[39mself\u001b[39;49m\u001b[39m.\u001b[39;49m_run(\n\u001b[1;32m    234\u001b[0m     circuits,\n\u001b[1;32m    235\u001b[0m     observables,\n\u001b[1;32m    236\u001b[0m     parameter_values,\n\u001b[1;32m    237\u001b[0m     \u001b[39m*\u001b[39;49m\u001b[39m*\u001b[39;49mrun_opts\u001b[39m.\u001b[39;49m\u001b[39m__dict__\u001b[39;49m,\n\u001b[1;32m    238\u001b[0m )\n",
      "File \u001b[0;32m~/miniconda3/envs/QISKIT_WSL2/lib/python3.10/site-packages/qiskit/primitives/estimator.py:186\u001b[0m, in \u001b[0;36mEstimator._run\u001b[0;34m(self, circuits, observables, parameter_values, **run_options)\u001b[0m\n\u001b[1;32m    182\u001b[0m         \u001b[39mself\u001b[39m\u001b[39m.\u001b[39m_observables\u001b[39m.\u001b[39mappend(observable)\n\u001b[1;32m    183\u001b[0m job \u001b[39m=\u001b[39m PrimitiveJob(\n\u001b[1;32m    184\u001b[0m     \u001b[39mself\u001b[39m\u001b[39m.\u001b[39m_call, circuit_indices, observable_indices, parameter_values, \u001b[39m*\u001b[39m\u001b[39m*\u001b[39mrun_options\n\u001b[1;32m    185\u001b[0m )\n\u001b[0;32m--> 186\u001b[0m job\u001b[39m.\u001b[39;49msubmit()\n\u001b[1;32m    187\u001b[0m \u001b[39mreturn\u001b[39;00m job\n",
      "File \u001b[0;32m~/miniconda3/envs/QISKIT_WSL2/lib/python3.10/site-packages/qiskit/primitives/primitive_job.py:43\u001b[0m, in \u001b[0;36mPrimitiveJob.submit\u001b[0;34m(self)\u001b[0m\n\u001b[1;32m     40\u001b[0m \u001b[39mif\u001b[39;00m \u001b[39mself\u001b[39m\u001b[39m.\u001b[39m_future \u001b[39mis\u001b[39;00m \u001b[39mnot\u001b[39;00m \u001b[39mNone\u001b[39;00m:\n\u001b[1;32m     41\u001b[0m     \u001b[39mraise\u001b[39;00m JobError(\u001b[39m\"\u001b[39m\u001b[39mPrimitive job has already been submitted.\u001b[39m\u001b[39m\"\u001b[39m)\n\u001b[0;32m---> 43\u001b[0m \u001b[39mwith\u001b[39;00m ThreadPoolExecutor(max_workers\u001b[39m=\u001b[39m\u001b[39m1\u001b[39m) \u001b[39mas\u001b[39;00m executor:\n\u001b[1;32m     44\u001b[0m     future \u001b[39m=\u001b[39m executor\u001b[39m.\u001b[39msubmit(\u001b[39mself\u001b[39m\u001b[39m.\u001b[39m_function, \u001b[39m*\u001b[39m\u001b[39mself\u001b[39m\u001b[39m.\u001b[39m_args, \u001b[39m*\u001b[39m\u001b[39m*\u001b[39m\u001b[39mself\u001b[39m\u001b[39m.\u001b[39m_kwargs)\n\u001b[1;32m     45\u001b[0m \u001b[39mself\u001b[39m\u001b[39m.\u001b[39m_future \u001b[39m=\u001b[39m future\n",
      "File \u001b[0;32m~/miniconda3/envs/QISKIT_WSL2/lib/python3.10/concurrent/futures/_base.py:649\u001b[0m, in \u001b[0;36mExecutor.__exit__\u001b[0;34m(self, exc_type, exc_val, exc_tb)\u001b[0m\n\u001b[1;32m    648\u001b[0m \u001b[39mdef\u001b[39;00m \u001b[39m__exit__\u001b[39m(\u001b[39mself\u001b[39m, exc_type, exc_val, exc_tb):\n\u001b[0;32m--> 649\u001b[0m     \u001b[39mself\u001b[39;49m\u001b[39m.\u001b[39;49mshutdown(wait\u001b[39m=\u001b[39;49m\u001b[39mTrue\u001b[39;49;00m)\n\u001b[1;32m    650\u001b[0m     \u001b[39mreturn\u001b[39;00m \u001b[39mFalse\u001b[39;00m\n",
      "File \u001b[0;32m~/miniconda3/envs/QISKIT_WSL2/lib/python3.10/concurrent/futures/thread.py:235\u001b[0m, in \u001b[0;36mThreadPoolExecutor.shutdown\u001b[0;34m(self, wait, cancel_futures)\u001b[0m\n\u001b[1;32m    233\u001b[0m \u001b[39mif\u001b[39;00m wait:\n\u001b[1;32m    234\u001b[0m     \u001b[39mfor\u001b[39;00m t \u001b[39min\u001b[39;00m \u001b[39mself\u001b[39m\u001b[39m.\u001b[39m_threads:\n\u001b[0;32m--> 235\u001b[0m         t\u001b[39m.\u001b[39;49mjoin()\n",
      "File \u001b[0;32m~/miniconda3/envs/QISKIT_WSL2/lib/python3.10/threading.py:1096\u001b[0m, in \u001b[0;36mThread.join\u001b[0;34m(self, timeout)\u001b[0m\n\u001b[1;32m   1093\u001b[0m     \u001b[39mraise\u001b[39;00m \u001b[39mRuntimeError\u001b[39;00m(\u001b[39m\"\u001b[39m\u001b[39mcannot join current thread\u001b[39m\u001b[39m\"\u001b[39m)\n\u001b[1;32m   1095\u001b[0m \u001b[39mif\u001b[39;00m timeout \u001b[39mis\u001b[39;00m \u001b[39mNone\u001b[39;00m:\n\u001b[0;32m-> 1096\u001b[0m     \u001b[39mself\u001b[39;49m\u001b[39m.\u001b[39;49m_wait_for_tstate_lock()\n\u001b[1;32m   1097\u001b[0m \u001b[39melse\u001b[39;00m:\n\u001b[1;32m   1098\u001b[0m     \u001b[39m# the behavior of a negative timeout isn't documented, but\u001b[39;00m\n\u001b[1;32m   1099\u001b[0m     \u001b[39m# historically .join(timeout=x) for x<0 has acted as if timeout=0\u001b[39;00m\n\u001b[1;32m   1100\u001b[0m     \u001b[39mself\u001b[39m\u001b[39m.\u001b[39m_wait_for_tstate_lock(timeout\u001b[39m=\u001b[39m\u001b[39mmax\u001b[39m(timeout, \u001b[39m0\u001b[39m))\n",
      "File \u001b[0;32m~/miniconda3/envs/QISKIT_WSL2/lib/python3.10/threading.py:1116\u001b[0m, in \u001b[0;36mThread._wait_for_tstate_lock\u001b[0;34m(self, block, timeout)\u001b[0m\n\u001b[1;32m   1113\u001b[0m     \u001b[39mreturn\u001b[39;00m\n\u001b[1;32m   1115\u001b[0m \u001b[39mtry\u001b[39;00m:\n\u001b[0;32m-> 1116\u001b[0m     \u001b[39mif\u001b[39;00m lock\u001b[39m.\u001b[39;49macquire(block, timeout):\n\u001b[1;32m   1117\u001b[0m         lock\u001b[39m.\u001b[39mrelease()\n\u001b[1;32m   1118\u001b[0m         \u001b[39mself\u001b[39m\u001b[39m.\u001b[39m_stop()\n",
      "\u001b[0;31mKeyboardInterrupt\u001b[0m: "
     ]
    }
   ],
   "source": [
    "distance = np.linspace(0.5,2.5,80)\n",
    "adapt_vqe_result = []\n",
    "uccsd_vqe_result = []\n",
    "\n",
    "for index,dis in enumerate(distance):\n",
    "    adapt_vqe_result.append(H6_adaptvqe(dist=dis,k=index))\n",
    "    uccsd_vqe_result.append(H6_uccsd(dist=dis,k=index))"
   ]
  },
  {
   "cell_type": "code",
   "execution_count": 52,
   "metadata": {},
   "outputs": [
    {
     "name": "stdout",
     "output_type": "stream",
     "text": [
      "粒子数(3, 3)，空间轨道数 6\n"
     ]
    },
    {
     "data": {
      "text/plain": [
       "117"
      ]
     },
     "execution_count": 52,
     "metadata": {},
     "output_type": "execute_result"
    }
   ],
   "source": [
    "result = H6_uccsd(0.23,k=1)\n",
    "result.num_parameters"
   ]
  },
  {
   "cell_type": "code",
   "execution_count": null,
   "metadata": {},
   "outputs": [],
   "source": []
  }
 ],
 "metadata": {
  "kernelspec": {
   "display_name": "Python 3.10.6 ('QISKIT_WSL2': conda)",
   "language": "python",
   "name": "python3"
  },
  "language_info": {
   "codemirror_mode": {
    "name": "ipython",
    "version": 3
   },
   "file_extension": ".py",
   "mimetype": "text/x-python",
   "name": "python",
   "nbconvert_exporter": "python",
   "pygments_lexer": "ipython3",
   "version": "3.10.6"
  },
  "orig_nbformat": 4,
  "vscode": {
   "interpreter": {
    "hash": "54e28563ef8f1dd6dc056397af37857e89f17a7fb558808f10e4042dc705258e"
   }
  }
 },
 "nbformat": 4,
 "nbformat_minor": 2
}
