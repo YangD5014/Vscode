{
 "cells": [
  {
   "cell_type": "markdown",
   "metadata": {},
   "source": [
    "### 不使用主动空间近似优化的前提下\n",
    "#### 目的:选取30%的UCCD 和70%的UCCGD 构成算符池"
   ]
  },
  {
   "cell_type": "code",
   "execution_count": 1,
   "metadata": {},
   "outputs": [],
   "source": [
    "from qiskit_nature.second_q.drivers import PySCFDriver\n",
    "from qiskit_nature.second_q.mappers import JordanWignerMapper, QubitConverter\n",
    "from qiskit_nature.second_q.formats.molecule_info import MoleculeInfo\n",
    "from qiskit_nature.second_q.transformers import ActiveSpaceTransformer,FreezeCoreTransformer\n",
    "import numpy as np\n",
    "from qiskit.algorithms.optimizers import SLSQP\n",
    "from qiskit.algorithms.minimum_eigensolvers import VQE\n",
    "from qiskit.primitives import Estimator\n",
    "from qiskit.algorithms.minimum_eigensolvers import AdaptVQE\n",
    "from qiskit_nature.second_q.algorithms import GroundStateEigensolver\n",
    "\n",
    "from qiskit.circuit import QuantumCircuit\n",
    "from copy import  deepcopy\n",
    "from qiskit.circuit import Parameter,ParameterVector\n",
    "import sys\n",
    "sys.path.append('..')\n",
    "from AdaptVQE_.My_adapt import MyG_AdaotVQE\n",
    "# Define Molecule\n",
    "molecule = MoleculeInfo(\n",
    "    [\"Li\", \"H\"], [(0.0, 0.0, 0.0), (1.7, 0.0, 0.0)],\n",
    "    multiplicity=1,  # = 2*spin + 1\n",
    "    charge=0,\n",
    ")\n",
    "driver = PySCFDriver().from_molecule(molecule)\n",
    "\n",
    "problem = driver.run()\n",
    "converter = QubitConverter(JordanWignerMapper(), two_qubit_reduction=True)\n",
    "transformer = FreezeCoreTransformer(\n",
    "    freeze_core=True,  # how many electrons we have in our active space\n",
    "    # how many orbitals we have in our active space\n",
    "    remove_orbitals=[-3, -2]\n",
    ")\n",
    "#problem = transformer.transform(problem=problem)"
   ]
  },
  {
   "cell_type": "code",
   "execution_count": null,
   "metadata": {},
   "outputs": [],
   "source": [
    "from qiskit_nature.second_q.circuit.library import UCC\n",
    "from qiskit.circuit.library import EvolvedOperatorAnsatz\n",
    "uccsd = UCC(num_spatial_orbitals=problem.num_spatial_orbitals,num_particles=problem.num_particles,excitations='sd',\\\n",
    "    generalized=False)\n",
    "uccgsd = UCC(num_spatial_orbitals=problem.num_spatial_orbitals,num_particles=problem.num_particles,excitations='sd',\\\n",
    "    generalized=True)\n",
    "uccgd = UCC(num_spatial_orbitals=problem.num_spatial_orbitals,num_particles=problem.num_particles,excitations='d',\\\n",
    "    generalized=True)\n",
    "\n",
    "uccsd_secondop = [converter.convert(i) for i in uccsd.excitation_ops()]\n",
    "uccgsd_secondop = [converter.convert(i) for i in uccgsd.excitation_ops()]\n",
    "uccgd_secondop = [converter.convert(i) for i in uccgd.excitation_ops()]\n",
    "##\n",
    "uccsd_secondop_pool = [EvolvedOperatorAnsatz(operators=i, insert_barriers=True, name='SD_'+str(index), parameter_prefix='SD_'+str(index)).to_instruction()\\\n",
    "                                                for index, i in enumerate(uccsd_secondop)]\n",
    "uccgsd_secondop_pool = [EvolvedOperatorAnsatz(operators=i, insert_barriers=True, name='GSD_'+str(index), parameter_prefix='GSD_'+str(index)).to_instruction()\\\n",
    "                                                for index, i in enumerate(uccgsd_secondop)]\n",
    "uccgd_secondop_pool = [EvolvedOperatorAnsatz(operators=i, insert_barriers=True, name='GD_'+str(index), parameter_prefix='GD_'+str(index)).to_instruction()\\\n",
    "                                                for index, i in enumerate(uccgd_secondop)]\n",
    "\n"
   ]
  },
  {
   "cell_type": "code",
   "execution_count": null,
   "metadata": {},
   "outputs": [],
   "source": [
    "# a = MyAdaptVQE(ES_problem=problem)\n",
    "uccsd_ansatz = MyAdapt_pool(ES_problem=problem,custom_operation_pool=None,excitation_index='sd') #92\n",
    "uccgsd_ansatz = MyAdapt_pool(ES_problem=problem,custom_operation_pool=None,excitation_index='gsd') #285\n",
    "uccgd_ansatz = MyAdapt_pool(ES_problem=problem,custom_operation_pool=None,excitation_index='gd')  #255\n",
    "uccd_ansatz = MyAdapt_pool(ES_problem=problem,custom_operation_pool=None,excitation_index='d')  #76\n",
    "print(f'UCCSD:{len(uccsd_ansatz.excitation_pool)},UCCD:{len(uccd_ansatz.excitation_pool)},UCCGD:{len(uccgd_ansatz.excitation_pool)}')"
   ]
  },
  {
   "attachments": {},
   "cell_type": "markdown",
   "metadata": {},
   "source": [
    "#### 筛选前X名的UCCD算符块\n",
    "使用hf态作为初始态 计算和接下来的所有算符的下降梯度 选取更大的入选  \n",
    "STEP 1:找到UCCD UCCGD UCCSD 中梯度比较大的算符 (标准？)"
   ]
  },
  {
   "cell_type": "code",
   "execution_count": 2,
   "metadata": {},
   "outputs": [
    {
     "name": "stderr",
     "output_type": "stream",
     "text": [
      "UCCD算符池筛选完毕!共入选26个,阈值是1e-15,具体index:\n",
      "[69, 66, 45, 51, 60, 3, 42, 14, 24, 33, 18, 47, 28, 56, 30, 6, 34, 41, 62, 10, 2, 72, 7, 38, 65, 37],\n",
      "            入选率:34.21052631578947%\n",
      "UCCGD算符池筛选完毕!共入选24个,阈值是1e-15,具体index:\n",
      "[142, 139, 96, 126, 110, 25, 93, 58, 42, 74, 62, 106, 46, 122, 71, 28, 92, 75, 135, 32, 29, 89, 138, 78],\n",
      "            入选率:9.411764705882353%\n",
      "正在检验是否有选中的UCCD&UCCGD算符是否有重叠..\n",
      "算符确实有重叠!\n"
     ]
    }
   ],
   "source": [
    "a = MyG_AdaotVQE(ES_problem=problem)"
   ]
  },
  {
   "cell_type": "code",
   "execution_count": 3,
   "metadata": {},
   "outputs": [
    {
     "data": {
      "text/plain": [
       "[Instruction(name='D_2', num_qubits=12, num_clbits=0, params=[ParameterVectorElement(D_2[0])]),\n",
       " Instruction(name='D_72', num_qubits=12, num_clbits=0, params=[ParameterVectorElement(D_72[0])])]"
      ]
     },
     "execution_count": 3,
     "metadata": {},
     "output_type": "execute_result"
    }
   ],
   "source": [
    "a.final_operator_pool"
   ]
  },
  {
   "cell_type": "code",
   "execution_count": null,
   "metadata": {},
   "outputs": [],
   "source": [
    "###UCCGD的所有算符 第一步的下降梯度 \n",
    "n = uccgd_ansatz.init_state_hf.num_qubits\n",
    "pre_circuit=[]\n",
    "for i in uccgd_ansatz.excitation_pool_instruction:\n",
    "    qc = QuantumCircuit(n)\n",
    "    qc.append(uccgd_ansatz.init_state_hf,range(n))\n",
    "    qc.append(i,range(n))\n",
    "    pre_circuit.append(qc)\n",
    "\n",
    "estimator = Estimator()\n",
    "job = estimator.run(circuits=pre_circuit,observables=uccgd_ansatz.commutors,parameter_values=[[0.0]]*len(pre_circuit))\n",
    "result = job.result()\n"
   ]
  },
  {
   "cell_type": "code",
   "execution_count": null,
   "metadata": {},
   "outputs": [],
   "source": [
    "abs_value = np.abs(result.values)\n",
    "np_sort = np.argsort(np.abs(result.values))\n",
    "np_sort = np_sort[::-1]\n",
    "#print(np.abs(result.values))\n",
    "print(f'{np_sort}')\n",
    "for index,i in enumerate(np_sort[0:20]):\n",
    "    print(f'第{index}项的值为{abs_value[i]}')"
   ]
  },
  {
   "cell_type": "code",
   "execution_count": null,
   "metadata": {},
   "outputs": [],
   "source": [
    "result.values[189] #-0.25020478036677607"
   ]
  },
  {
   "cell_type": "code",
   "execution_count": null,
   "metadata": {},
   "outputs": [],
   "source": [
    "len(d4)\n",
    "len(difference4)"
   ]
  },
  {
   "cell_type": "code",
   "execution_count": null,
   "metadata": {},
   "outputs": [],
   "source": [
    "uccd_ansatz.excitation_pool[0].primitive.paulis"
   ]
  },
  {
   "cell_type": "code",
   "execution_count": null,
   "metadata": {},
   "outputs": [],
   "source": [
    "2e-3"
   ]
  },
  {
   "cell_type": "code",
   "execution_count": null,
   "metadata": {},
   "outputs": [],
   "source": [
    "n = uccgd_ansatz.init_state_hf.num_qubits\n",
    "pre_circuit=[]\n",
    "for i in uccgd_ansatz.excitation_pool_instruction:\n",
    "    qc = QuantumCircuit(n)\n",
    "    qc.append(uccd_ansatz.init_state_hf,range(n))\n",
    "    qc.append(i,range(n))\n",
    "    pre_circuit.append(qc)\n",
    "\n",
    "estimator = Estimator()\n",
    "job = estimator.run(circuits=pre_circuit,observables=uccd_ansatz.commutors,parameter_values=[[0.0]]*len(pre_circuit))\n",
    "result = job.result()\n"
   ]
  },
  {
   "cell_type": "code",
   "execution_count": null,
   "metadata": {},
   "outputs": [],
   "source": [
    "rank_index = np.argsort(np.abs(result.values)) #从小到大排列的\n",
    "len(rank_index) #76\n",
    "rank_index"
   ]
  },
  {
   "cell_type": "code",
   "execution_count": null,
   "metadata": {},
   "outputs": [],
   "source": [
    "len(uccsd_ansatz.excitation_pool) #92\n",
    "len(uccgsd_ansatz.excitation_pool) #285\n",
    "len(uccgd_ansatz.excitation_pool) #255\n",
    "len(uccd_ansatz.excitation_pool) #76"
   ]
  },
  {
   "cell_type": "code",
   "execution_count": null,
   "metadata": {},
   "outputs": [],
   "source": [
    "print(rank_index1 == rank_index2)"
   ]
  },
  {
   "cell_type": "code",
   "execution_count": null,
   "metadata": {},
   "outputs": [],
   "source": [
    "rank_index1 = np.argsort(result.values)"
   ]
  },
  {
   "cell_type": "code",
   "execution_count": null,
   "metadata": {},
   "outputs": [],
   "source": [
    "rank = np.argsort(np.abs(val))\n",
    "len(rank[0])"
   ]
  },
  {
   "cell_type": "code",
   "execution_count": null,
   "metadata": {},
   "outputs": [],
   "source": [
    "rank = np.argsort(val[0])"
   ]
  },
  {
   "cell_type": "code",
   "execution_count": null,
   "metadata": {},
   "outputs": [],
   "source": [
    "uccsd_secondop"
   ]
  },
  {
   "cell_type": "code",
   "execution_count": null,
   "metadata": {},
   "outputs": [],
   "source": [
    "uccsd.excitation_ops()"
   ]
  },
  {
   "cell_type": "code",
   "execution_count": 4,
   "metadata": {},
   "outputs": [
    {
     "data": {
      "text/plain": [
       "True"
      ]
     },
     "execution_count": 4,
     "metadata": {},
     "output_type": "execute_result"
    }
   ],
   "source": [
    "1 in [1,2,3] "
   ]
  },
  {
   "cell_type": "code",
   "execution_count": null,
   "metadata": {},
   "outputs": [],
   "source": []
  }
 ],
 "metadata": {
  "kernelspec": {
   "display_name": "Python 3.10.6 ('QISKIT_WSL2')",
   "language": "python",
   "name": "python3"
  },
  "language_info": {
   "codemirror_mode": {
    "name": "ipython",
    "version": 3
   },
   "file_extension": ".py",
   "mimetype": "text/x-python",
   "name": "python",
   "nbconvert_exporter": "python",
   "pygments_lexer": "ipython3",
   "version": "3.10.6"
  },
  "orig_nbformat": 4,
  "vscode": {
   "interpreter": {
    "hash": "54e28563ef8f1dd6dc056397af37857e89f17a7fb558808f10e4042dc705258e"
   }
  }
 },
 "nbformat": 4,
 "nbformat_minor": 2
}
