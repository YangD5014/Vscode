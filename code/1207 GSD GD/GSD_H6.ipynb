{
 "cells": [
  {
   "cell_type": "markdown",
   "metadata": {},
   "source": [
    "### 不使用主动空间近似优化的前提下\n",
    "#### 目的:选取30%的UCCD 和70%的UCCGD 构成算符池"
   ]
  },
  {
   "cell_type": "code",
   "execution_count": 11,
   "metadata": {},
   "outputs": [],
   "source": [
    "from qiskit_nature.second_q.drivers import PySCFDriver\n",
    "from qiskit_nature.second_q.mappers import JordanWignerMapper, QubitConverter\n",
    "from qiskit_nature.second_q.formats.molecule_info import MoleculeInfo\n",
    "from qiskit_nature.second_q.transformers import ActiveSpaceTransformer,FreezeCoreTransformer\n",
    "import numpy as np\n",
    "from qiskit.algorithms.optimizers import SLSQP\n",
    "from qiskit.algorithms.minimum_eigensolvers import VQE\n",
    "from qiskit.primitives import Estimator\n",
    "from qiskit.algorithms.minimum_eigensolvers import AdaptVQE\n",
    "from qiskit_nature.second_q.algorithms import GroundStateEigensolver\n",
    "\n",
    "from qiskit.circuit import QuantumCircuit\n",
    "from copy import  deepcopy\n",
    "from qiskit.circuit import Parameter,ParameterVector\n",
    "import sys\n",
    "sys.path.append('..')\n",
    "from AdaptVQE_.My_adapt import MyG_AdaotVQE,MyAdaptVQE\n",
    "# Define Molecule\n",
    "molecule = MoleculeInfo(\n",
    "    [\"Li\", \"H\"], [(0.0, 0.0, 0.0), (1.7, 0.0, 0.0)],\n",
    "    multiplicity=1,  # = 2*spin + 1\n",
    "    charge=0,\n",
    ")\n",
    "driver = PySCFDriver().from_molecule(molecule)\n",
    "\n",
    "problem = driver.run()\n",
    "converter = QubitConverter(JordanWignerMapper(), two_qubit_reduction=True)\n",
    "transformer = FreezeCoreTransformer(\n",
    "    freeze_core=True,  # how many electrons we have in our active space\n",
    "    # how many orbitals we have in our active space\n",
    "    remove_orbitals=[-3, -2]\n",
    ")\n",
    "#problem = transformer.transform(problem=problem)"
   ]
  },
  {
   "cell_type": "code",
   "execution_count": null,
   "metadata": {},
   "outputs": [],
   "source": [
    "from qiskit_nature.second_q.circuit.library import UCC\n",
    "from qiskit.circuit.library import EvolvedOperatorAnsatz\n",
    "uccsd = UCC(num_spatial_orbitals=problem.num_spatial_orbitals,num_particles=problem.num_particles,excitations='sd',\\\n",
    "    generalized=False)\n",
    "uccgsd = UCC(num_spatial_orbitals=problem.num_spatial_orbitals,num_particles=problem.num_particles,excitations='sd',\\\n",
    "    generalized=True)\n",
    "uccgd = UCC(num_spatial_orbitals=problem.num_spatial_orbitals,num_particles=problem.num_particles,excitations='d',\\\n",
    "    generalized=True)\n",
    "\n",
    "uccsd_secondop = [converter.convert(i) for i in uccsd.excitation_ops()]\n",
    "uccgsd_secondop = [converter.convert(i) for i in uccgsd.excitation_ops()]\n",
    "uccgd_secondop = [converter.convert(i) for i in uccgd.excitation_ops()]\n",
    "##\n",
    "uccsd_secondop_pool = [EvolvedOperatorAnsatz(operators=i, insert_barriers=True, name='SD_'+str(index), parameter_prefix='SD_'+str(index)).to_instruction()\\\n",
    "                                                for index, i in enumerate(uccsd_secondop)]\n",
    "uccgsd_secondop_pool = [EvolvedOperatorAnsatz(operators=i, insert_barriers=True, name='GSD_'+str(index), parameter_prefix='GSD_'+str(index)).to_instruction()\\\n",
    "                                                for index, i in enumerate(uccgsd_secondop)]\n",
    "uccgd_secondop_pool = [EvolvedOperatorAnsatz(operators=i, insert_barriers=True, name='GD_'+str(index), parameter_prefix='GD_'+str(index)).to_instruction()\\\n",
    "                                                for index, i in enumerate(uccgd_secondop)]\n",
    "\n"
   ]
  },
  {
   "cell_type": "code",
   "execution_count": null,
   "metadata": {},
   "outputs": [],
   "source": [
    "# a = MyAdaptVQE(ES_problem=problem)\n",
    "uccsd_ansatz = MyAdapt_pool(ES_problem=problem,custom_operation_pool=None,excitation_index='sd') #92\n",
    "uccgsd_ansatz = MyAdapt_pool(ES_problem=problem,custom_operation_pool=None,excitation_index='gsd') #285\n",
    "uccgd_ansatz = MyAdapt_pool(ES_problem=problem,custom_operation_pool=None,excitation_index='gd')  #255\n",
    "uccd_ansatz = MyAdapt_pool(ES_problem=problem,custom_operation_pool=None,excitation_index='d')  #76\n",
    "print(f'UCCSD:{len(uccsd_ansatz.excitation_pool)},UCCD:{len(uccd_ansatz.excitation_pool)},UCCGD:{len(uccgd_ansatz.excitation_pool)}')"
   ]
  },
  {
   "attachments": {},
   "cell_type": "markdown",
   "metadata": {},
   "source": [
    "#### 筛选前X名的UCCD算符块\n",
    "使用hf态作为初始态 计算和接下来的所有算符的下降梯度 选取更大的入选  \n",
    "STEP 1:找到UCCD UCCGD UCCSD 中梯度比较大的算符 (标准？)"
   ]
  },
  {
   "cell_type": "code",
   "execution_count": 2,
   "metadata": {},
   "outputs": [
    {
     "name": "stderr",
     "output_type": "stream",
     "text": [
      "UCCD算符池筛选完毕!共入选26个,阈值是1e-15,具体index:\n",
      "[69, 66, 45, 51, 60, 3, 42, 14, 24, 33, 18, 47, 28, 56, 30, 6, 34, 41, 62, 10, 2, 72, 7, 38, 65, 37],\n",
      "            入选率:34.21052631578947%\n",
      "UCCGD算符池筛选完毕!共入选24个,阈值是1e-15,具体index:\n",
      "[142, 96, 139, 110, 126, 25, 93, 42, 58, 74, 122, 106, 46, 62, 71, 28, 75, 92, 135, 32, 29, 89, 138, 78],\n",
      "            入选率:9.411764705882353%\n",
      "UCCGD_index的入选个数为0,是否有筛掉的:False\n"
     ]
    }
   ],
   "source": [
    "a = MyG_AdaotVQE(ES_problem=problem)"
   ]
  },
  {
   "cell_type": "code",
   "execution_count": null,
   "metadata": {},
   "outputs": [],
   "source": [
    "from qiskit.circuit.library import EvolvedOperatorAnsatz\n",
    "operator_pool = [EvolvedOperatorAnsatz(i,) for i in a.operator_pool_femonic_op]\n",
    "b = MyAdaptVQE(custom_operation_pool=a.operator_pool_femonic_op)"
   ]
  },
  {
   "cell_type": "code",
   "execution_count": 5,
   "metadata": {},
   "outputs": [
    {
     "data": {
      "text/plain": [
       "24"
      ]
     },
     "execution_count": 5,
     "metadata": {},
     "output_type": "execute_result"
    }
   ],
   "source": [
    "len(a.operator_pool_femonic_op)\n",
    "len(a.UCCGD_index)"
   ]
  },
  {
   "cell_type": "code",
   "execution_count": 7,
   "metadata": {},
   "outputs": [
    {
     "name": "stdout",
     "output_type": "stream",
     "text": [
      "已经-0.125 * YZZZYIXZZZYI\n",
      "- 0.125 * XZZZYIYZZZYI\n",
      "- 0.125 * XZZZXIXZZZYI\n",
      "+ 0.125 * YZZZXIYZZZYI\n",
      "- 0.125 * XZZZYIXZZZXI\n",
      "+ 0.125 * YZZZYIYZZZXI\n",
      "+ 0.125 * YZZZXIXZZZXI\n",
      "+ 0.125 * XZZZXIYZZZXI在算符池里了\n",
      "已经-0.125 * YZZZYIIIIXYI\n",
      "- 0.125 * XZZZYIIIIYYI\n",
      "- 0.125 * XZZZXIIIIXYI\n",
      "+ 0.125 * YZZZXIIIIYYI\n",
      "- 0.125 * XZZZYIIIIXXI\n",
      "+ 0.125 * YZZZYIIIIYXI\n",
      "+ 0.125 * YZZZXIIIIXXI\n",
      "+ 0.125 * XZZZXIIIIYXI在算符池里了\n",
      "已经-0.125 * IIIYYIXZZZYI\n",
      "- 0.125 * IIIXYIYZZZYI\n",
      "- 0.125 * IIIXXIXZZZYI\n",
      "+ 0.125 * IIIYXIYZZZYI\n",
      "- 0.125 * IIIXYIXZZZXI\n",
      "+ 0.125 * IIIYYIYZZZXI\n",
      "+ 0.125 * IIIYXIXZZZXI\n",
      "+ 0.125 * IIIXXIYZZZXI在算符池里了\n",
      "已经-0.125 * IIYZYIIIXZYI\n",
      "- 0.125 * IIXZYIIIYZYI\n",
      "- 0.125 * IIXZXIIIXZYI\n",
      "+ 0.125 * IIYZXIIIYZYI\n",
      "- 0.125 * IIXZYIIIXZXI\n",
      "+ 0.125 * IIYZYIIIYZXI\n",
      "+ 0.125 * IIYZXIIIXZXI\n",
      "+ 0.125 * IIXZXIIIYZXI在算符池里了\n",
      "已经-0.125 * IYZZYIIXZZYI\n",
      "- 0.125 * IXZZYIIYZZYI\n",
      "- 0.125 * IXZZXIIXZZYI\n",
      "+ 0.125 * IYZZXIIYZZYI\n",
      "- 0.125 * IXZZYIIXZZXI\n",
      "+ 0.125 * IYZZYIIYZZXI\n",
      "+ 0.125 * IYZZXIIXZZXI\n",
      "+ 0.125 * IXZZXIIYZZXI在算符池里了\n",
      "已经-0.125 * IIIYZYIIIXZY\n",
      "- 0.125 * IIIXZYIIIYZY\n",
      "- 0.125 * IIIXZXIIIXZY\n",
      "+ 0.125 * IIIYZXIIIYZY\n",
      "- 0.125 * IIIXZYIIIXZX\n",
      "+ 0.125 * IIIYZYIIIYZX\n",
      "+ 0.125 * IIIYZXIIIXZX\n",
      "+ 0.125 * IIIXZXIIIYZX在算符池里了\n",
      "已经-0.125 * IIIYYIIIIXYI\n",
      "- 0.125 * IIIXYIIIIYYI\n",
      "- 0.125 * IIIXXIIIIXYI\n",
      "+ 0.125 * IIIYXIIIIYYI\n",
      "- 0.125 * IIIXYIIIIXXI\n",
      "+ 0.125 * IIIYYIIIIYXI\n",
      "+ 0.125 * IIIYXIIIIXXI\n",
      "+ 0.125 * IIIXXIIIIYXI在算符池里了\n",
      "已经-0.125 * IIYZZYIIXZZY\n",
      "- 0.125 * IIXZZYIIYZZY\n",
      "- 0.125 * IIXZZXIIXZZY\n",
      "+ 0.125 * IIYZZXIIYZZY\n",
      "- 0.125 * IIXZZYIIXZZX\n",
      "+ 0.125 * IIYZZYIIYZZX\n",
      "+ 0.125 * IIYZZXIIXZZX\n",
      "+ 0.125 * IIXZZXIIYZZX在算符池里了\n",
      "已经-0.125 * IYZZZYIXZZZY\n",
      "- 0.125 * IXZZZYIYZZZY\n",
      "- 0.125 * IXZZZXIXZZZY\n",
      "+ 0.125 * IYZZZXIYZZZY\n",
      "- 0.125 * IXZZZYIXZZZX\n",
      "+ 0.125 * IYZZZYIYZZZX\n",
      "+ 0.125 * IYZZZXIXZZZX\n",
      "+ 0.125 * IXZZZXIYZZZX在算符池里了\n",
      "已经-0.125 * YZZZZYXZZZZY\n",
      "- 0.125 * XZZZZYYZZZZY\n",
      "- 0.125 * XZZZZXXZZZZY\n",
      "+ 0.125 * YZZZZXYZZZZY\n",
      "- 0.125 * XZZZZYXZZZZX\n",
      "+ 0.125 * YZZZZYYZZZZX\n",
      "+ 0.125 * YZZZZXXZZZZX\n",
      "+ 0.125 * XZZZZXYZZZZX在算符池里了\n",
      "已经-0.125 * IYZZZYIXZZYI\n",
      "- 0.125 * IXZZZYIYZZYI\n",
      "- 0.125 * IXZZZXIXZZYI\n",
      "+ 0.125 * IYZZZXIYZZYI\n",
      "- 0.125 * IXZZZYIXZZXI\n",
      "+ 0.125 * IYZZZYIYZZXI\n",
      "+ 0.125 * IYZZZXIXZZXI\n",
      "+ 0.125 * IXZZZXIYZZXI在算符池里了\n",
      "已经-0.125 * IIYZZYIIXZYI\n",
      "- 0.125 * IIXZZYIIYZYI\n",
      "- 0.125 * IIXZZXIIXZYI\n",
      "+ 0.125 * IIYZZXIIYZYI\n",
      "- 0.125 * IIXZZYIIXZXI\n",
      "+ 0.125 * IIYZZYIIYZXI\n",
      "+ 0.125 * IIYZZXIIXZXI\n",
      "+ 0.125 * IIXZZXIIYZXI在算符池里了\n",
      "已经-0.125 * IIYZYIIIXZZY\n",
      "- 0.125 * IIXZYIIIYZZY\n",
      "- 0.125 * IIXZXIIIXZZY\n",
      "+ 0.125 * IIYZXIIIYZZY\n",
      "- 0.125 * IIXZYIIIXZZX\n",
      "+ 0.125 * IIYZYIIIYZZX\n",
      "+ 0.125 * IIYZXIIIXZZX\n",
      "+ 0.125 * IIXZXIIIYZZX在算符池里了\n",
      "已经-0.125 * IYZZYIIXZZZY\n",
      "- 0.125 * IXZZYIIYZZZY\n",
      "- 0.125 * IXZZXIIXZZZY\n",
      "+ 0.125 * IYZZXIIYZZZY\n",
      "- 0.125 * IXZZYIIXZZZX\n",
      "+ 0.125 * IYZZYIIYZZZX\n",
      "+ 0.125 * IYZZXIIXZZZX\n",
      "+ 0.125 * IXZZXIIYZZZX在算符池里了\n",
      "已经-0.125 * IIIYZYXZZZZY\n",
      "- 0.125 * IIIXZYYZZZZY\n",
      "- 0.125 * IIIXZXXZZZZY\n",
      "+ 0.125 * IIIYZXYZZZZY\n",
      "- 0.125 * IIIXZYXZZZZX\n",
      "+ 0.125 * IIIYZYYZZZZX\n",
      "+ 0.125 * IIIYZXXZZZZX\n",
      "+ 0.125 * IIIXZXYZZZZX在算符池里了\n",
      "已经-0.125 * YZZZZYIIIXZY\n",
      "- 0.125 * XZZZZYIIIYZY\n",
      "- 0.125 * XZZZZXIIIXZY\n",
      "+ 0.125 * YZZZZXIIIYZY\n",
      "- 0.125 * XZZZZYIIIXZX\n",
      "+ 0.125 * YZZZZYIIIYZX\n",
      "+ 0.125 * YZZZZXIIIXZX\n",
      "+ 0.125 * XZZZZXIIIYZX在算符池里了\n",
      "已经-0.125 * IIIYYIXZZZZY\n",
      "- 0.125 * IIIXYIYZZZZY\n",
      "- 0.125 * IIIXXIXZZZZY\n",
      "+ 0.125 * IIIYXIYZZZZY\n",
      "- 0.125 * IIIXYIXZZZZX\n",
      "+ 0.125 * IIIYYIYZZZZX\n",
      "+ 0.125 * IIIYXIXZZZZX\n",
      "+ 0.125 * IIIXXIYZZZZX在算符池里了\n",
      "已经-0.125 * YZZZZYIIIXYI\n",
      "- 0.125 * XZZZZYIIIYYI\n",
      "- 0.125 * XZZZZXIIIXYI\n",
      "+ 0.125 * YZZZZXIIIYYI\n",
      "- 0.125 * XZZZZYIIIXXI\n",
      "+ 0.125 * YZZZZYIIIYXI\n",
      "+ 0.125 * YZZZZXIIIXXI\n",
      "+ 0.125 * XZZZZXIIIYXI在算符池里了\n",
      "已经-0.125 * IIIYZYXZZZYI\n",
      "- 0.125 * IIIXZYYZZZYI\n",
      "- 0.125 * IIIXZXXZZZYI\n",
      "+ 0.125 * IIIYZXYZZZYI\n",
      "- 0.125 * IIIXZYXZZZXI\n",
      "+ 0.125 * IIIYZYYZZZXI\n",
      "+ 0.125 * IIIYZXXZZZXI\n",
      "+ 0.125 * IIIXZXYZZZXI在算符池里了\n",
      "已经-0.125 * YZZZYIIIIXZY\n",
      "- 0.125 * XZZZYIIIIYZY\n",
      "- 0.125 * XZZZXIIIIXZY\n",
      "+ 0.125 * YZZZXIIIIYZY\n",
      "- 0.125 * XZZZYIIIIXZX\n",
      "+ 0.125 * YZZZYIIIIYZX\n",
      "+ 0.125 * YZZZXIIIIXZX\n",
      "+ 0.125 * XZZZXIIIIYZX在算符池里了\n",
      "已经-0.125 * IIIYYIIIIXZY\n",
      "- 0.125 * IIIXYIIIIYZY\n",
      "- 0.125 * IIIXXIIIIXZY\n",
      "+ 0.125 * IIIYXIIIIYZY\n",
      "- 0.125 * IIIXYIIIIXZX\n",
      "+ 0.125 * IIIYYIIIIYZX\n",
      "+ 0.125 * IIIYXIIIIXZX\n",
      "+ 0.125 * IIIXXIIIIYZX在算符池里了\n",
      "已经-0.125 * IIIYZYIIIXYI\n",
      "- 0.125 * IIIXZYIIIYYI\n",
      "- 0.125 * IIIXZXIIIXYI\n",
      "+ 0.125 * IIIYZXIIIYYI\n",
      "- 0.125 * IIIXZYIIIXXI\n",
      "+ 0.125 * IIIYZYIIIYXI\n",
      "+ 0.125 * IIIYZXIIIXXI\n",
      "+ 0.125 * IIIXZXIIIYXI在算符池里了\n",
      "已经-0.125 * YZZZZYXZZZYI\n",
      "- 0.125 * XZZZZYYZZZYI\n",
      "- 0.125 * XZZZZXXZZZYI\n",
      "+ 0.125 * YZZZZXYZZZYI\n",
      "- 0.125 * XZZZZYXZZZXI\n",
      "+ 0.125 * YZZZZYYZZZXI\n",
      "+ 0.125 * YZZZZXXZZZXI\n",
      "+ 0.125 * XZZZZXYZZZXI在算符池里了\n",
      "已经-0.125 * YZZZYIXZZZZY\n",
      "- 0.125 * XZZZYIYZZZZY\n",
      "- 0.125 * XZZZXIXZZZZY\n",
      "+ 0.125 * YZZZXIYZZZZY\n",
      "- 0.125 * XZZZYIXZZZZX\n",
      "+ 0.125 * YZZZYIYZZZZX\n",
      "+ 0.125 * YZZZXIXZZZZX\n",
      "+ 0.125 * XZZZXIYZZZZX在算符池里了\n",
      "24\n"
     ]
    }
   ],
   "source": [
    "k=0\n",
    "for i in a.UCCGD_index:\n",
    "    if a.UCCGD_op[i] in a.operator_pool_femonic_op:\n",
    "        print(f'已经{a.UCCGD_op[i]}在算符池里了')\n",
    "        k+=1\n",
    "print(k)"
   ]
  },
  {
   "cell_type": "code",
   "execution_count": 10,
   "metadata": {},
   "outputs": [
    {
     "data": {
      "text/plain": [
       "26"
      ]
     },
     "execution_count": 10,
     "metadata": {},
     "output_type": "execute_result"
    }
   ],
   "source": [
    "len(a.operator_pool_femonic_op)"
   ]
  },
  {
   "cell_type": "code",
   "execution_count": null,
   "metadata": {},
   "outputs": [],
   "source": [
    "###UCCGD的所有算符 第一步的下降梯度 \n",
    "n = uccgd_ansatz.init_state_hf.num_qubits\n",
    "pre_circuit=[]\n",
    "for i in uccgd_ansatz.excitation_pool_instruction:\n",
    "    qc = QuantumCircuit(n)\n",
    "    qc.append(uccgd_ansatz.init_state_hf,range(n))\n",
    "    qc.append(i,range(n))\n",
    "    pre_circuit.append(qc)\n",
    "\n",
    "estimator = Estimator()\n",
    "job = estimator.run(circuits=pre_circuit,observables=uccgd_ansatz.commutors,parameter_values=[[0.0]]*len(pre_circuit))\n",
    "result = job.result()\n"
   ]
  },
  {
   "cell_type": "code",
   "execution_count": null,
   "metadata": {},
   "outputs": [],
   "source": [
    "abs_value = np.abs(result.values)\n",
    "np_sort = np.argsort(np.abs(result.values))\n",
    "np_sort = np_sort[::-1]\n",
    "#print(np.abs(result.values))\n",
    "print(f'{np_sort}')\n",
    "for index,i in enumerate(np_sort[0:20]):\n",
    "    print(f'第{index}项的值为{abs_value[i]}')"
   ]
  },
  {
   "cell_type": "code",
   "execution_count": null,
   "metadata": {},
   "outputs": [],
   "source": [
    "result.values[189] #-0.25020478036677607"
   ]
  },
  {
   "cell_type": "code",
   "execution_count": null,
   "metadata": {},
   "outputs": [],
   "source": [
    "len(d4)\n",
    "len(difference4)"
   ]
  },
  {
   "cell_type": "code",
   "execution_count": null,
   "metadata": {},
   "outputs": [],
   "source": [
    "uccd_ansatz.excitation_pool[0].primitive.paulis"
   ]
  },
  {
   "cell_type": "code",
   "execution_count": null,
   "metadata": {},
   "outputs": [],
   "source": [
    "2e-3"
   ]
  },
  {
   "cell_type": "code",
   "execution_count": null,
   "metadata": {},
   "outputs": [],
   "source": [
    "n = uccgd_ansatz.init_state_hf.num_qubits\n",
    "pre_circuit=[]\n",
    "for i in uccgd_ansatz.excitation_pool_instruction:\n",
    "    qc = QuantumCircuit(n)\n",
    "    qc.append(uccd_ansatz.init_state_hf,range(n))\n",
    "    qc.append(i,range(n))\n",
    "    pre_circuit.append(qc)\n",
    "\n",
    "estimator = Estimator()\n",
    "job = estimator.run(circuits=pre_circuit,observables=uccd_ansatz.commutors,parameter_values=[[0.0]]*len(pre_circuit))\n",
    "result = job.result()\n"
   ]
  },
  {
   "cell_type": "code",
   "execution_count": null,
   "metadata": {},
   "outputs": [],
   "source": [
    "rank_index = np.argsort(np.abs(result.values)) #从小到大排列的\n",
    "len(rank_index) #76\n",
    "rank_index"
   ]
  },
  {
   "cell_type": "code",
   "execution_count": null,
   "metadata": {},
   "outputs": [],
   "source": [
    "len(uccsd_ansatz.excitation_pool) #92\n",
    "len(uccgsd_ansatz.excitation_pool) #285\n",
    "len(uccgd_ansatz.excitation_pool) #255\n",
    "len(uccd_ansatz.excitation_pool) #76"
   ]
  },
  {
   "cell_type": "code",
   "execution_count": null,
   "metadata": {},
   "outputs": [],
   "source": [
    "print(rank_index1 == rank_index2)"
   ]
  },
  {
   "cell_type": "code",
   "execution_count": null,
   "metadata": {},
   "outputs": [],
   "source": [
    "rank_index1 = np.argsort(result.values)"
   ]
  },
  {
   "cell_type": "code",
   "execution_count": null,
   "metadata": {},
   "outputs": [],
   "source": [
    "rank = np.argsort(np.abs(val))\n",
    "len(rank[0])"
   ]
  },
  {
   "cell_type": "code",
   "execution_count": null,
   "metadata": {},
   "outputs": [],
   "source": [
    "rank = np.argsort(val[0])"
   ]
  },
  {
   "cell_type": "code",
   "execution_count": null,
   "metadata": {},
   "outputs": [],
   "source": [
    "print(f'aaa{3==3}')"
   ]
  },
  {
   "cell_type": "code",
   "execution_count": null,
   "metadata": {},
   "outputs": [],
   "source": [
    "uccsd.excitation_ops()"
   ]
  },
  {
   "cell_type": "code",
   "execution_count": null,
   "metadata": {},
   "outputs": [],
   "source": [
    "1 in [1,2,3] "
   ]
  },
  {
   "cell_type": "code",
   "execution_count": null,
   "metadata": {},
   "outputs": [],
   "source": []
  }
 ],
 "metadata": {
  "kernelspec": {
   "display_name": "Python 3.10.6 ('QISKIT_WSL2')",
   "language": "python",
   "name": "python3"
  },
  "language_info": {
   "codemirror_mode": {
    "name": "ipython",
    "version": 3
   },
   "file_extension": ".py",
   "mimetype": "text/x-python",
   "name": "python",
   "nbconvert_exporter": "python",
   "pygments_lexer": "ipython3",
   "version": "3.10.6"
  },
  "orig_nbformat": 4,
  "vscode": {
   "interpreter": {
    "hash": "54e28563ef8f1dd6dc056397af37857e89f17a7fb558808f10e4042dc705258e"
   }
  }
 },
 "nbformat": 4,
 "nbformat_minor": 2
}
