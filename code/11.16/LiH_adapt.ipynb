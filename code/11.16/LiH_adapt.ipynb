{
 "cells": [
  {
   "cell_type": "code",
   "execution_count": 1,
   "metadata": {},
   "outputs": [],
   "source": [
    "from qiskit_nature.second_q.drivers import PySCFDriver\n",
    "from qiskit_nature.second_q.mappers import JordanWignerMapper, QubitConverter\n",
    "from qiskit_nature.second_q.formats.molecule_info import MoleculeInfo\n",
    "from qiskit_nature.second_q.circuit.library import UCCSD, HartreeFock\n",
    "from qiskit_nature.second_q.transformers import ActiveSpaceTransformer,FreezeCoreTransformer\n",
    "import numpy as np\n",
    "from qiskit.algorithms.optimizers import SLSQP\n",
    "from qiskit.algorithms.minimum_eigensolvers import VQE\n",
    "from qiskit.primitives import Estimator\n",
    "from qiskit.algorithms.minimum_eigensolvers import AdaptVQE\n",
    "from qiskit_nature.second_q.algorithms import GroundStateEigensolver\n",
    "import logging\n",
    "logging.basicConfig(\n",
    "    filename='1126.log',\n",
    "    level=logging.INFO)\n",
    "logger = logging.getLogger()"
   ]
  },
  {
   "cell_type": "code",
   "execution_count": 2,
   "metadata": {},
   "outputs": [],
   "source": [
    "def LiH_adaptvqe(k,dist):\n",
    "    \n",
    "    # Define Molecule\n",
    "    molecule = MoleculeInfo(\n",
    "        [\"Li\",\"H\"],[(0.0,0.0,0.0),(dist, 0.0, 0.0)],\n",
    "        multiplicity=1,  # = 2*spin + 1\n",
    "        charge=0,\n",
    "    )\n",
    "    driver = PySCFDriver().from_molecule(molecule)\n",
    "\n",
    "    problem = driver.run()\n",
    "    converter = QubitConverter(JordanWignerMapper(),two_qubit_reduction=True)\n",
    "    transformer = FreezeCoreTransformer(\n",
    "    freeze_core=True, #how many electrons we have in our active space\n",
    "    remove_orbitals=[-3,-2] #how many orbitals we have in our active space\n",
    "    )\n",
    "    \n",
    "    problem = transformer.transform(problem=problem)\n",
    "    print('粒子数{0}，空间轨道数 {1}'.format(problem.num_particles,problem.num_spatial_orbitals))\n",
    "    \n",
    "    initial_state = HartreeFock(num_particles = problem.num_particles,num_spatial_orbitals = problem.num_spatial_orbitals,qubit_converter = converter)\n",
    "    ansatz = UCCSD(num_particles = problem.num_particles,num_spatial_orbitals = problem.num_spatial_orbitals,qubit_converter = converter,initial_state=initial_state)\n",
    "    vqe = VQE(Estimator(), ansatz, SLSQP())\n",
    "    vqe.initial_point = np.zeros(ansatz.num_parameters)\n",
    "    \n",
    "    adapt_vqe = AdaptVQE(vqe,max_iterations=30,threshold=1e-3)\n",
    "    adapt_vqe.supports_aux_operators = lambda: True  # temporary fix\n",
    "    solver = GroundStateEigensolver(converter, adapt_vqe)\n",
    "    adapt_result = solver.solve(problem)\n",
    "    print('AdaptVQE 已经完成：{0}%'.format(((k+1)/80)*100))\n",
    "    return adapt_result,adapt_vqe"
   ]
  },
  {
   "cell_type": "code",
   "execution_count": 3,
   "metadata": {},
   "outputs": [
    {
     "name": "stdout",
     "output_type": "stream",
     "text": [
      "粒子数(1, 1)，空间轨道数 5\n",
      "AdaptVQE 已经完成：2.5%\n"
     ]
    }
   ],
   "source": [
    "Adapt_result,adapt_vqe = LiH_adaptvqe(dist=1.7,k=1)"
   ]
  },
  {
   "cell_type": "code",
   "execution_count": null,
   "metadata": {},
   "outputs": [],
   "source": [
    "display(Adapt_result.raw_result.optimal_circuit.decompose(reps=1).draw('mpl'))\n",
    "adapt_vqe._excitation_list\n",
    "adapt_vqe.commutators"
   ]
  },
  {
   "cell_type": "code",
   "execution_count": null,
   "metadata": {},
   "outputs": [],
   "source": [
    "adapt_vqe.solver.ansatz.decompose().draw()"
   ]
  }
 ],
 "metadata": {
  "kernelspec": {
   "display_name": "Python 3.10.6 ('QISKIT_WSL2': conda)",
   "language": "python",
   "name": "python3"
  },
  "language_info": {
   "codemirror_mode": {
    "name": "ipython",
    "version": 3
   },
   "file_extension": ".py",
   "mimetype": "text/x-python",
   "name": "python",
   "nbconvert_exporter": "python",
   "pygments_lexer": "ipython3",
   "version": "3.10.6"
  },
  "orig_nbformat": 4,
  "vscode": {
   "interpreter": {
    "hash": "54e28563ef8f1dd6dc056397af37857e89f17a7fb558808f10e4042dc705258e"
   }
  }
 },
 "nbformat": 4,
 "nbformat_minor": 2
}
