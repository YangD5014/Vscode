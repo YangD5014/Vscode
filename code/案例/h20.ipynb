{
 "cells": [
  {
   "cell_type": "code",
   "execution_count": 112,
   "metadata": {},
   "outputs": [],
   "source": [
    "#from Adapt import AdaptVQE_Y\n",
    "\n",
    "from qiskit_nature.drivers import Molecule\n",
    "from qiskit_nature.drivers.second_quantization import ElectronicStructureMoleculeDriver, ElectronicStructureDriverType\n",
    "from qiskit_nature.second_q.mappers import FermionicMapper, JordanWignerMapper\n",
    "from qiskit_nature.converters.second_quantization import QubitConverter\n",
    "from qiskit_nature.problems.second_quantization.electronic import ElectronicStructureProblem\n",
    "from qiskit_nature.transformers.second_quantization.electronic import ActiveSpaceTransformer\n",
    "import warnings\n",
    "from qiskit_nature.circuit.library import HartreeFock,UCCSD\n",
    "from qiskit import Aer\n",
    "from qiskit.algorithms.optimizers import COBYLA, L_BFGS_B, SPSA, SLSQP\n",
    "\n",
    "from qiskit.algorithms.minimum_eigensolvers import VQE\n",
    "from qiskit.primitives import Estimator\n",
    "\n",
    "from qiskit_nature.algorithms.ground_state_solvers.minimum_eigensolver_factories import NumPyMinimumEigensolverFactory\n",
    "from qiskit_nature.algorithms.ground_state_solvers.minimum_eigensolver_factories import NumPyMinimumEigensolverFactory\n",
    "from qiskit_nature.algorithms.ground_state_solvers import GroundStateEigensolver\n",
    "from qiskit_nature.second_q.drivers import PySCFDriver\n",
    "from qiskit.algorithms.minimum_eigensolvers import AdaptVQE\n",
    "\n",
    "from qiskit_nature.settings import QiskitNatureSettings\n",
    "QiskitNatureSettings.dict_aux_operators = True\n",
    "\n",
    "import numpy as np \n",
    "warnings.filterwarnings(\"ignore\")"
   ]
  },
  {
   "cell_type": "code",
   "execution_count": 116,
   "metadata": {},
   "outputs": [
    {
     "name": "stdout",
     "output_type": "stream",
     "text": [
      "水分子 近似活跃空间优化后：\n",
      "轨道数目：4\n",
      "粒子数目(1, 1)\n",
      "\n"
     ]
    }
   ],
   "source": [
    "molecule = Molecule(\n",
    "    # coordinates are given in Angstrom\n",
    "    geometry=[\n",
    "        [\"O\", [0.0, 0.0, 0.0]],\n",
    "        [\"H\", [0.758602, 0.0, 0.504284]],\n",
    "        [\"H\", [0.758602, 0.0, -0.504284]]\n",
    "    ],\n",
    "    multiplicity=1,  # = 2*spin + 1\n",
    "    charge=0,\n",
    ")\n",
    "\n",
    "driver = ElectronicStructureMoleculeDriver(\n",
    "    molecule=molecule,\n",
    "    basis=\"sto3g\",\n",
    "    driver_type=ElectronicStructureDriverType.PYSCF,\n",
    ")\n",
    "\n",
    "#driver = PySCFDriver(atom=\"O 0 0 0;H 0.758602 0 0.504284;H 0.758602 0 -0.504284\",basis=\"sto-3g\")\n",
    "\n",
    "properties = driver.run()\n",
    "converter = QubitConverter(JordanWignerMapper())\n",
    "#PN_property = properties.get_property(\"ParticleNumber\")\n",
    "#print(PN_property)\n",
    "\n",
    "# Define the active space around the Fermi level \n",
    "# (selected automatically around the HOMO and LUMO, ordered by energy)\n",
    "transformer = ActiveSpaceTransformer(\n",
    "    num_electrons=2, #how many electrons we have in our active space\n",
    "    num_molecular_orbitals=2, #how many orbitals we have in our active space\n",
    ")\n",
    "\n",
    "problem = ElectronicStructureProblem(driver, [transformer])\n",
    "second_q_ops = problem.second_q_ops()  # Get 2nd Quant OP\n",
    "num_spin_orbitals = problem.num_spin_orbitals\n",
    "num_particles = problem.num_particles\n",
    "init_state = HartreeFock(num_spin_orbitals, num_particles, converter)\n",
    "print('水分子 近似活跃空间优化后：\\n轨道数目：{a}\\n粒子数目{b}\\n'.format(a=num_spin_orbitals,b=num_particles))"
   ]
  },
  {
   "cell_type": "code",
   "execution_count": 114,
   "metadata": {},
   "outputs": [
    {
     "data": {
      "text/plain": [
       "'sd'"
      ]
     },
     "execution_count": 114,
     "metadata": {},
     "output_type": "execute_result"
    }
   ],
   "source": [
    "ansatz =UCCSD(num_spin_orbitals=num_spin_orbitals,num_particles=num_particles,qubit_converter=converter,initial_state=init_state)\n",
    "ansatz.excitation_list  #[((0,), (1,)), ((2,), (3,)), ((0, 2), (1, 3))]\n",
    "ansatz.excitations #'sd'"
   ]
  },
  {
   "cell_type": "markdown",
   "metadata": {},
   "source": [
    "### Excitation generator utilities"
   ]
  },
  {
   "cell_type": "code",
   "execution_count": 125,
   "metadata": {},
   "outputs": [
    {
     "name": "stdout",
     "output_type": "stream",
     "text": [
      "num_spin_orbitals=4 num_particles=(1, 1)\n"
     ]
    }
   ],
   "source": [
    "from qiskit_nature.second_q.circuit.library.ansatzes.utils import generate_fermionic_excitations\n",
    "print('num_spin_orbitals={0} num_particles={1}'.format(num_spin_orbitals,num_particles))\n",
    "ex_op1 = generate_fermionic_excitations(num_excitations=1, num_spatial_orbitals=4, num_particles=num_particles)\n",
    "ex_op2 = generate_fermionic_excitations(num_excitations=2, num_spatial_orbitals=4, num_particles=num_particles)"
   ]
  },
  {
   "cell_type": "code",
   "execution_count": 126,
   "metadata": {},
   "outputs": [],
   "source": [
    "from typing import List\n",
    "from qiskit_nature.second_q.operators import FermionicOp\n",
    "def excitations_to_ferop(excitations_list:List)->List[FermionicOp]:\n",
    "    operators = []\n",
    "    #把[((0,), (1,)), ((2,), (3,))] 转换成FermionOp\n",
    "    for exc in excitations_list:\n",
    "        label = []\n",
    "        for occ in exc[0]:\n",
    "            label.append(f\"+_{occ}\")\n",
    "        for unocc in exc[1]:\n",
    "            label.append(f\"-_{unocc}\")\n",
    "        op = FermionicOp({\" \".join(label): 1}, num_spin_orbitals=8)\n",
    "        op -= op.adjoint()\n",
    "        # we need to account for an additional imaginary phase in the exponent (see also\n",
    "        # `PauliTrotterEvolution.convert`)\n",
    "        op *= 1j  # type: ignore\n",
    "        operators.append(op)\n",
    "    return operators"
   ]
  },
  {
   "cell_type": "code",
   "execution_count": 129,
   "metadata": {},
   "outputs": [
    {
     "data": {
      "text/plain": [
       "PauliSumOp(SparsePauliOp(['IIIIIIXY', 'IIIIIIYX'],\n",
       "              coeffs=[ 0.5+0.j, -0.5+0.j]), coeff=1.0)"
      ]
     },
     "execution_count": 129,
     "metadata": {},
     "output_type": "execute_result"
    }
   ],
   "source": [
    "excitations_to_ferop(excitations_list=ex_op1)\n",
    "mapper = JordanWignerMapper()\n",
    "mapper.map(excitations_to_ferop(excitations_list=ex_op1)[0])"
   ]
  },
  {
   "cell_type": "code",
   "execution_count": 90,
   "metadata": {},
   "outputs": [
    {
     "data": {
      "text/plain": [
       "[((0,), (1,)),\n",
       " ((0,), (2,)),\n",
       " ((0,), (3,)),\n",
       " ((4,), (5,)),\n",
       " ((4,), (6,)),\n",
       " ((4,), (7,))]"
      ]
     },
     "execution_count": 90,
     "metadata": {},
     "output_type": "execute_result"
    }
   ],
   "source": [
    "ex_op1"
   ]
  },
  {
   "cell_type": "code",
   "execution_count": 91,
   "metadata": {},
   "outputs": [
    {
     "data": {
      "image/png": "[encoded data removed]",
      "text/plain": [
       "<Figure size 203.885x367.889 with 1 Axes>"
      ]
     },
     "execution_count": 91,
     "metadata": {},
     "output_type": "execute_result"
    }
   ],
   "source": [
    "init_state.draw('mpl')"
   ]
  },
  {
   "cell_type": "code",
   "execution_count": 93,
   "metadata": {},
   "outputs": [
    {
     "data": {
      "text/plain": [
       "FermionicOp([('+_0 -_0', -1.2879605266732774), ('+_1 -_1', -0.5749964325186914), ('+_2 -_2', -1.2879605266732774), ('+_3 -_3', -0.5749964325186914), ('+_0 +_0 -_0 -_0', -0.44007954668752264), ('+_0 +_1 -_1 -...)], register_length=4, display_format='sparse')"
      ]
     },
     "execution_count": 93,
     "metadata": {},
     "output_type": "execute_result"
    }
   ],
   "source": [
    "hamiltonian  = second_q_ops['ElectronicEnergy']\n",
    "type(hamiltonian)\n",
    "hamiltonian"
   ]
  },
  {
   "cell_type": "code",
   "execution_count": 105,
   "metadata": {},
   "outputs": [
    {
     "data": {
      "text/plain": [
       "FermionicOp({'+_0 -_1': 1j, '+_1 -_0': (-0-1j)}, num_spin_orbitals=8, )"
      ]
     },
     "execution_count": 105,
     "metadata": {},
     "output_type": "execute_result"
    }
   ],
   "source": [
    "a = excitations_to_ferop(excitations=ex_op1)\n",
    "a[0]"
   ]
  },
  {
   "cell_type": "code",
   "execution_count": 106,
   "metadata": {},
   "outputs": [
    {
     "name": "stdout",
     "output_type": "stream",
     "text": [
      "Fermi_operator=Fermionic Operator\n",
      "number spin orbitals=8, number terms=2\n",
      "  1j * ( +_0 -_1 )\n",
      "+ (-0-1j) * ( +_1 -_0 )\n",
      " 转换后：0.5 * IIIIIIXY\n",
      "- 0.5 * IIIIIIYX\n"
     ]
    }
   ],
   "source": [
    "from qiskit_nature.second_q.mappers import QubitConverter,FermionicMapper\n",
    "from qiskit_nature.second_q.mappers import FermionicMapper\n",
    "from qiskit_nature.second_q.operators import SparseLabelOp\n",
    "mapper = JordanWignerMapper()\n",
    "sum_fermiop = mapper.map(a[0])\n",
    "print('Fermi_operator={0}\\n 转换后：{1}'.format(a[0],sum_fermiop))\n",
    "converter = QubitConverter(JordanWignerMapper())\n"
   ]
  },
  {
   "cell_type": "code",
   "execution_count": null,
   "metadata": {},
   "outputs": [],
   "source": []
  }
 ],
 "metadata": {
  "kernelspec": {
   "display_name": "Python 3.10.6 ('QISKIT_WSL2': conda)",
   "language": "python",
   "name": "python3"
  },
  "language_info": {
   "codemirror_mode": {
    "name": "ipython",
    "version": 3
   },
   "file_extension": ".py",
   "mimetype": "text/x-python",
   "name": "python",
   "nbconvert_exporter": "python",
   "pygments_lexer": "ipython3",
   "version": "3.10.6"
  },
  "orig_nbformat": 4,
  "vscode": {
   "interpreter": {
    "hash": "54e28563ef8f1dd6dc056397af37857e89f17a7fb558808f10e4042dc705258e"
   }
  }
 },
 "nbformat": 4,
 "nbformat_minor": 2
}
