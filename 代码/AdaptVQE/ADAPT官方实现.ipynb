{
 "cells": [
  {
   "cell_type": "code",
   "execution_count": 1,
   "metadata": {},
   "outputs": [
    {
     "name": "stderr",
     "output_type": "stream",
     "text": [
      "/tmp/ipykernel_27912/1528283346.py:17: NatureDeprecationWarning: The qiskit_nature.algorithms.excited_state_solvers package is deprecated as of version 0.5.0 and will be removed no sooner than 3 months after the release. Instead use the qiskit_nature.second_q.algorithms.excited_state_solvers package.\n",
      "  from qiskit_nature.algorithms.ground_state_solvers.minimum_eigensolver_factories import NumPyMinimumEigensolverFactory\n",
      "/tmp/ipykernel_27912/1528283346.py:17: NatureDeprecationWarning: The qiskit_nature.algorithms.pes_sampler package is deprecated as of version 0.5.0 and will be removed no sooner than 3 months after the release . Please refer to 'https://github.com/Qiskit/qiskit-nature/issues/750' for additional information regarding 'extrapolators'.\n",
      "  from qiskit_nature.algorithms.ground_state_solvers.minimum_eigensolver_factories import NumPyMinimumEigensolverFactory\n"
     ]
    }
   ],
   "source": [
    "#from Adapt import AdaptVQE_Y\n",
    "\n",
    "from qiskit_nature.drivers import Molecule\n",
    "from qiskit_nature.drivers.second_quantization import ElectronicStructureMoleculeDriver, ElectronicStructureDriverType\n",
    "from qiskit_nature.mappers.second_quantization import ParityMapper, BravyiKitaevMapper, JordanWignerMapper\n",
    "from qiskit_nature.converters.second_quantization import QubitConverter\n",
    "from qiskit_nature.problems.second_quantization.electronic import ElectronicStructureProblem\n",
    "from qiskit_nature.transformers.second_quantization.electronic import ActiveSpaceTransformer\n",
    "import warnings\n",
    "from qiskit_nature.circuit.library import HartreeFock,UCCSD\n",
    "from qiskit import Aer\n",
    "from qiskit.algorithms.optimizers import COBYLA, L_BFGS_B, SPSA, SLSQP\n",
    "\n",
    "from qiskit.algorithms.minimum_eigensolvers import VQE\n",
    "from qiskit.primitives import Estimator\n",
    "\n",
    "from qiskit_nature.algorithms.ground_state_solvers.minimum_eigensolver_factories import NumPyMinimumEigensolverFactory\n",
    "from qiskit_nature.algorithms.ground_state_solvers.minimum_eigensolver_factories import NumPyMinimumEigensolverFactory\n",
    "from qiskit_nature.algorithms.ground_state_solvers import GroundStateEigensolver\n",
    "from qiskit_nature.second_q.drivers import PySCFDriver\n",
    "from qiskit.algorithms.minimum_eigensolvers import AdaptVQE\n",
    "\n",
    "from qiskit_nature.settings import QiskitNatureSettings\n",
    "QiskitNatureSettings.dict_aux_operators = True\n",
    "\n",
    "import numpy as np \n",
    "warnings.filterwarnings(\"ignore\")"
   ]
  },
  {
   "cell_type": "code",
   "execution_count": 2,
   "metadata": {},
   "outputs": [
    {
     "name": "stdout",
     "output_type": "stream",
     "text": [
      "ParticleNumber:\n",
      "\t14 SOs\n",
      "\t5 alpha electrons\n",
      "\t\torbital occupation: [1. 1. 1. 1. 1. 0. 0.]\n",
      "\t5 beta electrons\n",
      "\t\torbital occupation: [1. 1. 1. 1. 1. 0. 0.]\n",
      "轨道数目：4\n",
      "粒子数目(1, 1)\n",
      "\n"
     ]
    }
   ],
   "source": [
    "molecule = Molecule(\n",
    "    # coordinates are given in Angstrom\n",
    "    geometry=[\n",
    "        [\"O\", [0.0, 0.0, 0.0]],\n",
    "        [\"H\", [0.758602, 0.0, 0.504284]],\n",
    "        [\"H\", [0.758602, 0.0, -0.504284]]\n",
    "    ],\n",
    "    multiplicity=1,  # = 2*spin + 1\n",
    "    charge=0,\n",
    ")\n",
    "\n",
    "driver = ElectronicStructureMoleculeDriver(\n",
    "    molecule=molecule,\n",
    "    basis=\"sto3g\",\n",
    "    driver_type=ElectronicStructureDriverType.PYSCF,\n",
    ")\n",
    "\n",
    "#driver = PySCFDriver(atom=\"O 0 0 0;H 0.758602 0 0.504284;H 0.758602 0 -0.504284\",basis=\"sto-3g\")\n",
    "\n",
    "properties = driver.run()\n",
    "converter = QubitConverter(JordanWignerMapper())\n",
    "PN_property = properties.get_property(\"ParticleNumber\")\n",
    "print(PN_property)\n",
    "\n",
    "# Define the active space around the Fermi level \n",
    "# (selected automatically around the HOMO and LUMO, ordered by energy)\n",
    "transformer = ActiveSpaceTransformer(\n",
    "    num_electrons=2, #how many electrons we have in our active space\n",
    "    num_molecular_orbitals=2, #how many orbitals we have in our active space\n",
    ")\n",
    "\n",
    "problem = ElectronicStructureProblem(driver, [transformer])\n",
    "second_q_ops = problem.second_q_ops()  # Get 2nd Quant OP\n",
    "num_spin_orbitals = problem.num_spin_orbitals\n",
    "num_particles = problem.num_particles\n",
    "init_state = HartreeFock(num_spin_orbitals, num_particles, converter)\n",
    "print('轨道数目：{a}\\n粒子数目{b}\\n'.format(a=num_spin_orbitals,b=num_particles))\n"
   ]
  },
  {
   "cell_type": "code",
   "execution_count": 3,
   "metadata": {},
   "outputs": [],
   "source": [
    "\n",
    "from Adapt import AdaptVQE_Y\n",
    "from qiskit_nature.second_q.operators import FermionicOp\n",
    "a = AdaptVQE_Y(es_problem=problem)\n",
    "#a.operator_pool"
   ]
  },
  {
   "cell_type": "code",
   "execution_count": 5,
   "metadata": {},
   "outputs": [
    {
     "data": {
      "text/plain": [
       "[PauliSumOp(SparsePauliOp(['YYXY', 'XYYY', 'XXXY', 'YXYY', 'XYXX', 'YYYX', 'YXXX', 'XXYX'],\n",
       "               coeffs=[-0.125+0.j, -0.125+0.j, -0.125+0.j,  0.125+0.j, -0.125+0.j,  0.125+0.j,\n",
       "   0.125+0.j,  0.125+0.j]), coeff=1.0)]"
      ]
     },
     "execution_count": 5,
     "metadata": {},
     "output_type": "execute_result"
    }
   ],
   "source": [
    "a.opertor_pool_2\n"
   ]
  },
  {
   "cell_type": "code",
   "execution_count": 24,
   "metadata": {},
   "outputs": [
    {
     "data": {
      "text/plain": [
       "PauliSumOp(SparsePauliOp(['IIIXZ', 'IIIYZ', 'IIIXI', 'IIIYI'],\n",
       "              coeffs=[0.25+0.j  , 0.  -0.25j, 0.25+0.j  , 0.  -0.25j]), coeff=1.0)"
      ]
     },
     "execution_count": 24,
     "metadata": {},
     "output_type": "execute_result"
    }
   ],
   "source": [
    "from qiskit_nature.second_q.mappers import QubitConverter,JordanWignerMapper\n",
    "op2 = FermionicOp({\"-_0 +_0 +_1\": 1}, num_spin_orbitals=5)\n",
    "op = [op2]*2\n",
    "mapper = JordanWignerMapper()\n",
    "mapper.map(op2)\n",
    "mapper.map(op[0])"
   ]
  },
  {
   "cell_type": "code",
   "execution_count": null,
   "metadata": {},
   "outputs": [
    {
     "data": {
      "text/plain": [
       "[((0, 2), (1, 3))]"
      ]
     },
     "execution_count": 12,
     "metadata": {},
     "output_type": "execute_result"
    }
   ],
   "source": [
    "from qiskit_nature.second_q.circuit.library.ansatzes.utils import generate_fermionic_excitations\n",
    "generate_fermionic_excitations(num_excitations=2,num_particles=problem.num_particles,num_spatial_orbitals=int(problem.num_spin_orbitals//2))\n"
   ]
  },
  {
   "cell_type": "code",
   "execution_count": null,
   "metadata": {},
   "outputs": [
    {
     "data": {
      "text/plain": [
       "FermionicOp({'-_0 +_0 +_1': 1}, num_spin_orbitals=2, )"
      ]
     },
     "execution_count": 29,
     "metadata": {},
     "output_type": "execute_result"
    }
   ],
   "source": [
    "op2 = FermionicOp({\"-_0 +_0 +_1\": 1}, num_spin_orbitals=2)\n",
    "op2"
   ]
  },
  {
   "cell_type": "code",
   "execution_count": null,
   "metadata": {},
   "outputs": [
    {
     "ename": "AttributeError",
     "evalue": "'FermionicOp' object has no attribute 'to_list'",
     "output_type": "error",
     "traceback": [
      "\u001b[0;31m---------------------------------------------------------------------------\u001b[0m",
      "\u001b[0;31mAttributeError\u001b[0m                            Traceback (most recent call last)",
      "\u001b[1;32m/home/yangjianfei/代码/AdaptVQE/ADAPT官方实现.ipynb Cell 8\u001b[0m in \u001b[0;36m<cell line: 2>\u001b[0;34m()\u001b[0m\n\u001b[1;32m      <a href='vscode-notebook-cell://wsl%2Bubuntu/home/yangjianfei/%E4%BB%A3%E7%A0%81/AdaptVQE/ADAPT%E5%AE%98%E6%96%B9%E5%AE%9E%E7%8E%B0.ipynb#X15sdnNjb2RlLXJlbW90ZQ%3D%3D?line=0'>1</a>\u001b[0m mapper \u001b[39m=\u001b[39m JordanWignerMapper()\n\u001b[0;32m----> <a href='vscode-notebook-cell://wsl%2Bubuntu/home/yangjianfei/%E4%BB%A3%E7%A0%81/AdaptVQE/ADAPT%E5%AE%98%E6%96%B9%E5%AE%9E%E7%8E%B0.ipynb#X15sdnNjb2RlLXJlbW90ZQ%3D%3D?line=1'>2</a>\u001b[0m mapper\u001b[39m.\u001b[39;49mmap(op2)\n",
      "File \u001b[0;32m~/miniconda3/envs/QISKIT_WSL2/lib/python3.10/site-packages/qiskit_nature/mappers/second_quantization/jordan_wigner_mapper.py:47\u001b[0m, in \u001b[0;36mJordanWignerMapper.map\u001b[0;34m(self, second_q_op)\u001b[0m\n\u001b[1;32m     44\u001b[0m     pauli_table\u001b[39m.\u001b[39mappend((Pauli((a_z, a_x)), Pauli((b_z, b_x))))\n\u001b[1;32m     45\u001b[0m     \u001b[39m# TODO add Pauli 3-tuple to lookup table\u001b[39;00m\n\u001b[0;32m---> 47\u001b[0m \u001b[39mreturn\u001b[39;00m QubitMapper\u001b[39m.\u001b[39;49mmode_based_mapping(second_q_op, pauli_table)\n",
      "File \u001b[0;32m~/miniconda3/envs/QISKIT_WSL2/lib/python3.10/site-packages/qiskit_nature/mappers/second_quantization/qubit_mapper.py:122\u001b[0m, in \u001b[0;36mQubitMapper.mode_based_mapping\u001b[0;34m(second_q_op, pauli_table)\u001b[0m\n\u001b[1;32m    115\u001b[0m ret_op_list \u001b[39m=\u001b[39m [SparsePauliOp(\u001b[39m\"\u001b[39m\u001b[39mI\u001b[39m\u001b[39m\"\u001b[39m \u001b[39m*\u001b[39m nmodes, coeffs\u001b[39m=\u001b[39m[\u001b[39m0\u001b[39m])]\n\u001b[1;32m    117\u001b[0m \u001b[39m# TODO to_list() is not an attribute of SecondQuantizedOp. Change the former to have this or\u001b[39;00m\n\u001b[1;32m    118\u001b[0m \u001b[39m#   change the signature above to take FermionicOp?\u001b[39;00m\n\u001b[1;32m    119\u001b[0m label_coeff_list \u001b[39m=\u001b[39m (\n\u001b[1;32m    120\u001b[0m     second_q_op\u001b[39m.\u001b[39mto_list(display_format\u001b[39m=\u001b[39m\u001b[39m\"\u001b[39m\u001b[39mdense\u001b[39m\u001b[39m\"\u001b[39m)\n\u001b[1;32m    121\u001b[0m     \u001b[39mif\u001b[39;00m \u001b[39misinstance\u001b[39m(second_q_op, FermionicOp)\n\u001b[0;32m--> 122\u001b[0m     \u001b[39melse\u001b[39;00m second_q_op\u001b[39m.\u001b[39;49mto_list()\n\u001b[1;32m    123\u001b[0m )\n\u001b[1;32m    124\u001b[0m \u001b[39mfor\u001b[39;00m label, coeff \u001b[39min\u001b[39;00m label_coeff_list:\n\u001b[1;32m    125\u001b[0m \n\u001b[1;32m    126\u001b[0m     \u001b[39m# 1. Initialize an operator list with the identity scaled by the `self.coeff`\u001b[39;00m\n\u001b[1;32m    127\u001b[0m     ret_op \u001b[39m=\u001b[39m SparsePauliOp(\u001b[39m\"\u001b[39m\u001b[39mI\u001b[39m\u001b[39m\"\u001b[39m \u001b[39m*\u001b[39m nmodes, coeffs\u001b[39m=\u001b[39m[coeff])\n",
      "\u001b[0;31mAttributeError\u001b[0m: 'FermionicOp' object has no attribute 'to_list'"
     ]
    }
   ],
   "source": [
    "mapper = JordanWignerMapper()\n",
    "mapper.map(op2)"
   ]
  },
  {
   "cell_type": "code",
   "execution_count": null,
   "metadata": {},
   "outputs": [],
   "source": []
  }
 ],
 "metadata": {
  "kernelspec": {
   "display_name": "Python 3.10.6 ('QISKIT_WSL2': conda)",
   "language": "python",
   "name": "python3"
  },
  "language_info": {
   "codemirror_mode": {
    "name": "ipython",
    "version": 3
   },
   "file_extension": ".py",
   "mimetype": "text/x-python",
   "name": "python",
   "nbconvert_exporter": "python",
   "pygments_lexer": "ipython3",
   "version": "3.10.6"
  },
  "orig_nbformat": 4,
  "vscode": {
   "interpreter": {
    "hash": "54e28563ef8f1dd6dc056397af37857e89f17a7fb558808f10e4042dc705258e"
   }
  }
 },
 "nbformat": 4,
 "nbformat_minor": 2
}
