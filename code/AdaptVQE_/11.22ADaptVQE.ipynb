{
 "cells": [
  {
   "cell_type": "code",
   "execution_count": 1,
   "metadata": {},
   "outputs": [],
   "source": [
    "from qiskit_nature.second_q.drivers import PySCFDriver\n",
    "from qiskit_nature.second_q.mappers import JordanWignerMapper, QubitConverter\n",
    "from qiskit_nature.second_q.formats.molecule_info import MoleculeInfo\n",
    "from qiskit_nature.second_q.transformers import ActiveSpaceTransformer,FreezeCoreTransformer\n",
    "import numpy as np\n",
    "from qiskit.algorithms.optimizers import SLSQP\n",
    "from qiskit.algorithms.minimum_eigensolvers import VQE\n",
    "from qiskit.primitives import Estimator\n",
    "from qiskit.algorithms.minimum_eigensolvers import AdaptVQE\n",
    "from qiskit_nature.second_q.algorithms import GroundStateEigensolver\n",
    "\n",
    "from qiskit.circuit import QuantumCircuit\n",
    "from My_adapt import MyAdaptVQE\n",
    "from copy import  deepcopy\n",
    "from qiskit.circuit import Parameter,ParameterVector\n",
    "\n",
    "\n",
    "# Define Molecule\n",
    "molecule = MoleculeInfo(\n",
    "    [\"Li\", \"H\"], [(0.0, 0.0, 0.0), (1.7, 0.0, 0.0)],\n",
    "    multiplicity=1,  # = 2*spin + 1\n",
    "    charge=0,\n",
    ")\n",
    "driver = PySCFDriver().from_molecule(molecule)\n",
    "\n",
    "problem = driver.run()\n",
    "converter = QubitConverter(JordanWignerMapper(), two_qubit_reduction=True)\n",
    "transformer = FreezeCoreTransformer(\n",
    "    freeze_core=True,  # how many electrons we have in our active space\n",
    "    # how many orbitals we have in our active space\n",
    "    remove_orbitals=[-3, -2]\n",
    ")\n",
    "problem = transformer.transform(problem=problem)"
   ]
  },
  {
   "cell_type": "code",
   "execution_count": 2,
   "metadata": {},
   "outputs": [
    {
     "name": "stderr",
     "output_type": "stream",
     "text": [
      "开始初始化:挑选第一个算符...\n",
      "初始化结果:第23项被选定,此项梯度最大\n"
     ]
    }
   ],
   "source": [
    "a = MyAdaptVQE(ES_problem=problem)\n",
    "# circuits,oberserables = a.circuit_measurement_first()"
   ]
  },
  {
   "cell_type": "code",
   "execution_count": 3,
   "metadata": {},
   "outputs": [
    {
     "name": "stderr",
     "output_type": "stream",
     "text": [
      "------------第1轮正在进行中--------------\n",
      "**目前已有[23]**\n",
      "initial point是:[0.]\n",
      "第1轮的优化结果是：[-0.1257743209178202]\n",
      "目前这是第1轮,正在准备挑选下一块算符,并验证是否收敛...\n",
      "没有达到收敛标准,标准为0.001,当前值为0.07653445626503247\n",
      "目前还没有达到收敛！\n",
      "第1轮中梯度最大项为第20项,已被选入算符池...\n",
      "------------第2轮正在进行中--------------\n",
      "**目前已有[23, 20]**\n",
      "initial point是:[0. 0.]\n",
      "第2轮的优化结果是：[0.05655771766252066, -0.1266293030333452]\n",
      "目前这是第2轮,正在准备挑选下一块算符,并验证是否收敛...\n",
      "没有达到收敛标准,标准为0.001,当前值为0.07334790038403899\n",
      "目前还没有达到收敛！\n",
      "第2轮中梯度最大项为第11项,已被选入算符池...\n",
      "------------第3轮正在进行中--------------\n",
      "**目前已有[23, 20, 11]**\n",
      "initial point是:[0. 0. 0.]\n",
      "第3轮的优化结果是：[0.054332456476837404, 0.05423535665520812, -0.1274264565066661]\n",
      "目前这是第3轮,正在准备挑选下一块算符,并验证是否收敛...\n",
      "没有达到收敛标准,标准为0.001,当前值为0.04309554573317497\n",
      "目前还没有达到收敛！\n",
      "第3轮中梯度最大项为第8项,已被选入算符池...\n",
      "------------第4轮正在进行中--------------\n",
      "**目前已有[23, 20, 11, 8]**\n",
      "initial point是:[0. 0. 0. 0.]\n",
      "第4轮的优化结果是：[0.05883633749061937, 0.058734605922843214, -0.12662440458693494, -0.032807673621613236]\n",
      "目前这是第4轮,正在准备挑选下一块算符,并验证是否收敛...\n",
      "没有达到收敛标准,标准为0.001,当前值为0.03399994111058256\n",
      "目前还没有达到收敛！\n",
      "第4轮中梯度最大项为第13项,已被选入算符池...\n",
      "------------第5轮正在进行中--------------\n",
      "**目前已有[23, 20, 11, 8, 13]**\n",
      "initial point是:[0. 0. 0. 0. 0.]\n",
      "第5轮的优化结果是：[0.05811040083035393, -0.025385775896234305, 0.0580137567886567, -0.12608583204798676, -0.031000490238960524]\n",
      "目前这是第5轮,正在准备挑选下一块算符,并验证是否收敛...\n",
      "没有达到收敛标准,标准为0.001,当前值为0.03335913638555589\n",
      "目前还没有达到收敛！\n",
      "第5轮中梯度最大项为第18项,已被选入算符池...\n",
      "------------第6轮正在进行中--------------\n",
      "**目前已有[23, 20, 11, 8, 13, 18]**\n",
      "initial point是:[0. 0. 0. 0. 0. 0.]\n",
      "第6轮的优化结果是：[0.057388902505714885, -0.024963924917556005, -0.02497139764617086, 0.057297283108244106, -0.1255527762194881, -0.029320255591103097]\n",
      "目前这是第6轮,正在准备挑选下一块算符,并验证是否收敛...\n",
      "没有达到收敛标准,标准为0.001,当前值为0.011449419979540935\n",
      "目前还没有达到收敛！\n",
      "第6轮中梯度最大项为第4项,已被选入算符池...\n",
      "------------第7轮正在进行中--------------\n",
      "**目前已有[23, 20, 11, 8, 13, 18, 4]**\n",
      "initial point是:[0. 0. 0. 0. 0. 0. 0.]\n",
      "第7轮的优化结果是：[0.057261327566442366, -0.02585481676495979, -0.025864161623100713, 0.06616031457235319, -0.12383633465295746, -0.04304203830034602, -0.03508406714389182]\n",
      "目前这是第7轮,正在准备挑选下一块算符,并验证是否收敛...\n",
      "没有达到收敛标准,标准为0.001,当前值为0.010133125876436935\n",
      "目前还没有达到收敛！\n",
      "第7轮中梯度最大项为第0项,已被选入算符池...\n",
      "------------第8轮正在进行中--------------\n",
      "**目前已有[23, 20, 11, 8, 13, 18, 4, 0]**\n",
      "initial point是:[0. 0. 0. 0. 0. 0. 0. 0.]\n",
      "第8轮的优化结果是：[-0.03786705929025597, 0.06510789123832426, -0.02660250198419306, -0.026612659455504863, 0.0649721706237538, -0.122526338797547, -0.0378754914294873, -0.040125079517822584]\n",
      "目前这是第8轮,正在准备挑选下一块算符,并验证是否收敛...\n",
      "没有达到收敛标准,标准为0.001,当前值为0.009034006983463152\n",
      "目前还没有达到收敛！\n",
      "第8轮中梯度最大项为第3项,已被选入算符池...\n",
      "------------第9轮正在进行中--------------\n",
      "**目前已有[23, 20, 11, 8, 13, 18, 4, 0, 3]**\n",
      "initial point是:[0. 0. 0. 0. 0. 0. 0. 0. 0.]\n",
      "第9轮的优化结果是：[-0.039127319325249446, 0.06599546757488163, -0.02634928349509922, -0.026359177684516694, 0.06550363836645817, -0.12240694378861285, -0.009270780568167918, -0.04194818747945282, -0.04118042667362222]\n",
      "目前这是第9轮,正在准备挑选下一块算符,并验证是否收敛...\n",
      "没有达到收敛标准,标准为0.001,当前值为0.0048989925125007775\n",
      "目前还没有达到收敛！\n",
      "第9轮中梯度最大项为第7项,已被选入算符池...\n",
      "------------第10轮正在进行中--------------\n",
      "**目前已有[23, 20, 11, 8, 13, 18, 4, 0, 3, 7]**\n",
      "initial point是:[0. 0. 0. 0. 0. 0. 0. 0. 0. 0.]\n",
      "第10轮的优化结果是：[-0.041414771657258695, 0.06604616398421834, -0.026256508186151106, -0.026266538788102284, 0.06590368927233158, -0.12238277095238792, -0.006357491725847433, -0.04142286257139291, -0.0063534608088058105, -0.04154010707136161]\n",
      "目前这是第10轮,正在准备挑选下一块算符,并验证是否收敛...\n",
      "达到收敛标准,标准为0.001,当前值为0.00021747647447773003\n",
      "已经达到收敛！算法终止！\n",
      "===FINAL OUTCOME===\n",
      "Order=[23, 20, 11, 8, 13, 18, 4, 0, 3, 7]\n",
      "Optimal value=[-0.041414771657258695, 0.06604616398421834, -0.026256508186151106, -0.026266538788102284, 0.06590368927233158, -0.12238277095238792, -0.006357491725847433, -0.04142286257139291, -0.0063534608088058105, -0.04154010707136161, 0.0]\n",
      "Total iteration=10\n"
     ]
    }
   ],
   "source": [
    "#a.run()\n",
    "a.run_slover()\n",
    "#a.check_nextone(order_list=[23,20,11,8,13,18,0,4])"
   ]
  },
  {
   "cell_type": "code",
   "execution_count": null,
   "metadata": {},
   "outputs": [],
   "source": [
    "a.run_once_solver()"
   ]
  },
  {
   "cell_type": "code",
   "execution_count": null,
   "metadata": {},
   "outputs": [],
   "source": [
    "a.run()"
   ]
  },
  {
   "cell_type": "code",
   "execution_count": null,
   "metadata": {},
   "outputs": [],
   "source": [
    "n = a.n_qubit\n",
    "qc = QuantumCircuit(n)\n",
    "qc.append(a.init_state_hf,range(n))\n",
    "qc.append(a.excitation_pool_instruction[23],range(n))\n",
    "\n",
    "a.slover.ansatz = qc\n",
    "a.slover.initial_point=[0.0]\n",
    "a.slover.initial_point=np.zeros(qc.num_parameters)\n",
    "raw_result = a.slover.compute_minimum_eigenvalue(a.hamiltonian)"
   ]
  },
  {
   "cell_type": "code",
   "execution_count": null,
   "metadata": {},
   "outputs": [],
   "source": [
    "display(raw_result.optimal_circuit.decompose(reps=1).draw())\n",
    "raw_result.optimal_point"
   ]
  },
  {
   "cell_type": "code",
   "execution_count": null,
   "metadata": {},
   "outputs": [],
   "source": []
  }
 ],
 "metadata": {
  "kernelspec": {
   "display_name": "Python 3.10.6 ('QISKIT_WSL2': conda)",
   "language": "python",
   "name": "python3"
  },
  "language_info": {
   "codemirror_mode": {
    "name": "ipython",
    "version": 3
   },
   "file_extension": ".py",
   "mimetype": "text/x-python",
   "name": "python",
   "nbconvert_exporter": "python",
   "pygments_lexer": "ipython3",
   "version": "3.10.6"
  },
  "orig_nbformat": 4,
  "vscode": {
   "interpreter": {
    "hash": "54e28563ef8f1dd6dc056397af37857e89f17a7fb558808f10e4042dc705258e"
   }
  }
 },
 "nbformat": 4,
 "nbformat_minor": 2
}
